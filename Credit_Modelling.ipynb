{
 "cells": [
  {
   "cell_type": "markdown",
   "metadata": {},
   "source": [
    "## 1- Import Libraries"
   ]
  },
  {
   "cell_type": "code",
   "execution_count": 166,
   "metadata": {},
   "outputs": [],
   "source": [
    "import pandas as pd\n",
    "import numpy  as np\n",
    "\n",
    "import seaborn as sns\n",
    "from matplotlib import pyplot as plt\n",
    "\n",
    "import matplotlib\n",
    "\n",
    "%matplotlib inline"
   ]
  },
  {
   "cell_type": "code",
   "execution_count": 167,
   "metadata": {},
   "outputs": [],
   "source": [
    "import warnings\n",
    "warnings.filterwarnings('ignore')"
   ]
  },
  {
   "cell_type": "code",
   "execution_count": 168,
   "metadata": {},
   "outputs": [],
   "source": [
    "pd.set_option('display.max_rows', None, 'display.max_columns', None)"
   ]
  },
  {
   "cell_type": "markdown",
   "metadata": {},
   "source": [
    "## 2- Upload the Dataset"
   ]
  },
  {
   "cell_type": "code",
   "execution_count": null,
   "metadata": {},
   "outputs": [],
   "source": [
    "link = ''"
   ]
  },
  {
   "cell_type": "code",
   "execution_count": 169,
   "metadata": {},
   "outputs": [],
   "source": [
    "# Upload data\n",
    "\n",
    "df = pd.read_csv('/Users/ilyasozgur/Desktop/Credit_Modelling/sample.csv')\n",
    "nuts_list = pd.read_csv('/Users/ilyasozgur/Desktop/Credit_Modelling/nuts_1.csv')"
   ]
  },
  {
   "cell_type": "markdown",
   "metadata": {},
   "source": [
    "## 3- Data Exploration"
   ]
  },
  {
   "cell_type": "markdown",
   "metadata": {},
   "source": [
    "### 3.1- Initial Analysis"
   ]
  },
  {
   "cell_type": "code",
   "execution_count": 170,
   "metadata": {},
   "outputs": [
    {
     "name": "stdout",
     "output_type": "stream",
     "text": [
      "<class 'pandas.core.frame.DataFrame'>\n",
      "RangeIndex: 98093 entries, 0 to 98092\n",
      "Data columns (total 25 columns):\n",
      " #   Column                     Non-Null Count  Dtype  \n",
      "---  ------                     --------------  -----  \n",
      " 0   ID                         98093 non-null  object \n",
      " 1   PoolCutoffDate             98093 non-null  object \n",
      " 2   LoanOriginationDate        98093 non-null  object \n",
      " 3   DateOfLoanMaturity         98093 non-null  object \n",
      " 4   BorrowersEmploymentStatus  98093 non-null  object \n",
      " 5   BorrowerType               98093 non-null  object \n",
      " 6   BorrowerYearOfBirth        56576 non-null  float64\n",
      " 7   BorrowerCreditQuality      98093 non-null  object \n",
      " 8   BureauScoreValue           38189 non-null  float64\n",
      " 9   ConstructionYear           19937 non-null  float64\n",
      " 10  CurrentInterestRate        98093 non-null  float64\n",
      " 11  CurrentInterestRateMargin  98093 non-null  float64\n",
      " 12  FinalMargin                36475 non-null  float64\n",
      " 13  CurrentValuationAmount     98057 non-null  float64\n",
      " 14  FirstTimeBuyer             98093 non-null  object \n",
      " 15  FlexibleLoanAmount         56053 non-null  float64\n",
      " 16  CurrentBalance             98093 non-null  float64\n",
      " 17  OriginalBalance            98093 non-null  float64\n",
      " 18  ForeignNational            98093 non-null  object \n",
      " 19  GeographicRegionList       98093 non-null  object \n",
      " 20  LoanAge                    98093 non-null  int64  \n",
      " 21  Purpose                    98093 non-null  object \n",
      " 22  CLTV                       98064 non-null  float64\n",
      " 23  TotalIncome                98093 non-null  float64\n",
      " 24  target                     98093 non-null  int64  \n",
      "dtypes: float64(12), int64(2), object(11)\n",
      "memory usage: 18.7+ MB\n"
     ]
    },
    {
     "data": {
      "text/html": [
       "<div>\n",
       "<style scoped>\n",
       "    .dataframe tbody tr th:only-of-type {\n",
       "        vertical-align: middle;\n",
       "    }\n",
       "\n",
       "    .dataframe tbody tr th {\n",
       "        vertical-align: top;\n",
       "    }\n",
       "\n",
       "    .dataframe thead th {\n",
       "        text-align: right;\n",
       "    }\n",
       "</style>\n",
       "<table border=\"1\" class=\"dataframe\">\n",
       "  <thead>\n",
       "    <tr style=\"text-align: right;\">\n",
       "      <th></th>\n",
       "      <th>ID</th>\n",
       "      <th>PoolCutoffDate</th>\n",
       "      <th>LoanOriginationDate</th>\n",
       "      <th>DateOfLoanMaturity</th>\n",
       "      <th>BorrowersEmploymentStatus</th>\n",
       "      <th>BorrowerType</th>\n",
       "      <th>BorrowerYearOfBirth</th>\n",
       "      <th>BorrowerCreditQuality</th>\n",
       "      <th>BureauScoreValue</th>\n",
       "      <th>ConstructionYear</th>\n",
       "      <th>CurrentInterestRate</th>\n",
       "      <th>CurrentInterestRateMargin</th>\n",
       "      <th>FinalMargin</th>\n",
       "      <th>CurrentValuationAmount</th>\n",
       "      <th>FirstTimeBuyer</th>\n",
       "      <th>FlexibleLoanAmount</th>\n",
       "      <th>CurrentBalance</th>\n",
       "      <th>OriginalBalance</th>\n",
       "      <th>ForeignNational</th>\n",
       "      <th>GeographicRegionList</th>\n",
       "      <th>LoanAge</th>\n",
       "      <th>Purpose</th>\n",
       "      <th>CLTV</th>\n",
       "      <th>TotalIncome</th>\n",
       "      <th>target</th>\n",
       "    </tr>\n",
       "  </thead>\n",
       "  <tbody>\n",
       "    <tr>\n",
       "      <th>0</th>\n",
       "      <td>38933530</td>\n",
       "      <td>12/31/2016</td>\n",
       "      <td>01/01/2008</td>\n",
       "      <td>01/01/2025</td>\n",
       "      <td>NO DATA</td>\n",
       "      <td>NO DATA</td>\n",
       "      <td>1968.0</td>\n",
       "      <td>No Data</td>\n",
       "      <td>NaN</td>\n",
       "      <td>1950.0</td>\n",
       "      <td>2.7759</td>\n",
       "      <td>2.39</td>\n",
       "      <td>2.39</td>\n",
       "      <td>159453.27</td>\n",
       "      <td>N</td>\n",
       "      <td>NaN</td>\n",
       "      <td>49667.70</td>\n",
       "      <td>118000.0</td>\n",
       "      <td>No Data</td>\n",
       "      <td>UKG11</td>\n",
       "      <td>107</td>\n",
       "      <td>PURCHASE</td>\n",
       "      <td>31.148750</td>\n",
       "      <td>51500.0</td>\n",
       "      <td>0</td>\n",
       "    </tr>\n",
       "    <tr>\n",
       "      <th>1</th>\n",
       "      <td>38933309</td>\n",
       "      <td>12/31/2017</td>\n",
       "      <td>01/01/2001</td>\n",
       "      <td>01/01/2026</td>\n",
       "      <td>NO DATA</td>\n",
       "      <td>NO DATA</td>\n",
       "      <td>1976.0</td>\n",
       "      <td>No Data</td>\n",
       "      <td>NaN</td>\n",
       "      <td>1910.0</td>\n",
       "      <td>2.0200</td>\n",
       "      <td>1.50</td>\n",
       "      <td>1.50</td>\n",
       "      <td>131051.84</td>\n",
       "      <td>N</td>\n",
       "      <td>NaN</td>\n",
       "      <td>21187.83</td>\n",
       "      <td>47250.0</td>\n",
       "      <td>No Data</td>\n",
       "      <td>UKD11</td>\n",
       "      <td>203</td>\n",
       "      <td>PURCHASE</td>\n",
       "      <td>16.167519</td>\n",
       "      <td>21060.0</td>\n",
       "      <td>0</td>\n",
       "    </tr>\n",
       "    <tr>\n",
       "      <th>2</th>\n",
       "      <td>38933233</td>\n",
       "      <td>5/31/2017</td>\n",
       "      <td>07/01/2005</td>\n",
       "      <td>07/01/2030</td>\n",
       "      <td>EMPLOYED</td>\n",
       "      <td>NO DATA</td>\n",
       "      <td>1983.0</td>\n",
       "      <td>No Data</td>\n",
       "      <td>NaN</td>\n",
       "      <td>1935.0</td>\n",
       "      <td>3.3300</td>\n",
       "      <td>2.99</td>\n",
       "      <td>2.99</td>\n",
       "      <td>494755.16</td>\n",
       "      <td>N</td>\n",
       "      <td>NaN</td>\n",
       "      <td>200551.16</td>\n",
       "      <td>224544.0</td>\n",
       "      <td>No Data</td>\n",
       "      <td>UKI11</td>\n",
       "      <td>142</td>\n",
       "      <td>PURCHASE</td>\n",
       "      <td>40.535435</td>\n",
       "      <td>0.0</td>\n",
       "      <td>1</td>\n",
       "    </tr>\n",
       "    <tr>\n",
       "      <th>3</th>\n",
       "      <td>3893330</td>\n",
       "      <td>3/31/2016</td>\n",
       "      <td>04/01/2008</td>\n",
       "      <td>04/01/2033</td>\n",
       "      <td>NO DATA</td>\n",
       "      <td>NO DATA</td>\n",
       "      <td>1974.0</td>\n",
       "      <td>No Data</td>\n",
       "      <td>NaN</td>\n",
       "      <td>1910.0</td>\n",
       "      <td>3.4300</td>\n",
       "      <td>2.84</td>\n",
       "      <td>2.84</td>\n",
       "      <td>143621.55</td>\n",
       "      <td>N</td>\n",
       "      <td>NaN</td>\n",
       "      <td>102336.49</td>\n",
       "      <td>101600.0</td>\n",
       "      <td>No Data</td>\n",
       "      <td>UKK11</td>\n",
       "      <td>95</td>\n",
       "      <td>REMORTGAGE</td>\n",
       "      <td>71.254270</td>\n",
       "      <td>24255.0</td>\n",
       "      <td>0</td>\n",
       "    </tr>\n",
       "    <tr>\n",
       "      <th>4</th>\n",
       "      <td>38933054</td>\n",
       "      <td>3/31/2018</td>\n",
       "      <td>01/01/2006</td>\n",
       "      <td>01/01/2031</td>\n",
       "      <td>NO DATA</td>\n",
       "      <td>NO DATA</td>\n",
       "      <td>1977.0</td>\n",
       "      <td>No Data</td>\n",
       "      <td>NaN</td>\n",
       "      <td>1989.0</td>\n",
       "      <td>3.0700</td>\n",
       "      <td>2.49</td>\n",
       "      <td>2.49</td>\n",
       "      <td>194983.10</td>\n",
       "      <td>N</td>\n",
       "      <td>NaN</td>\n",
       "      <td>171645.92</td>\n",
       "      <td>177000.0</td>\n",
       "      <td>No Data</td>\n",
       "      <td>UKE11</td>\n",
       "      <td>146</td>\n",
       "      <td>PURCHASE</td>\n",
       "      <td>88.031180</td>\n",
       "      <td>55273.0</td>\n",
       "      <td>0</td>\n",
       "    </tr>\n",
       "  </tbody>\n",
       "</table>\n",
       "</div>"
      ],
      "text/plain": [
       "         ID PoolCutoffDate LoanOriginationDate DateOfLoanMaturity  \\\n",
       "0  38933530     12/31/2016          01/01/2008         01/01/2025   \n",
       "1  38933309     12/31/2017          01/01/2001         01/01/2026   \n",
       "2  38933233      5/31/2017          07/01/2005         07/01/2030   \n",
       "3   3893330      3/31/2016          04/01/2008         04/01/2033   \n",
       "4  38933054      3/31/2018          01/01/2006         01/01/2031   \n",
       "\n",
       "  BorrowersEmploymentStatus BorrowerType  BorrowerYearOfBirth  \\\n",
       "0                   NO DATA      NO DATA               1968.0   \n",
       "1                   NO DATA      NO DATA               1976.0   \n",
       "2                  EMPLOYED      NO DATA               1983.0   \n",
       "3                   NO DATA      NO DATA               1974.0   \n",
       "4                   NO DATA      NO DATA               1977.0   \n",
       "\n",
       "  BorrowerCreditQuality  BureauScoreValue  ConstructionYear  \\\n",
       "0               No Data               NaN            1950.0   \n",
       "1               No Data               NaN            1910.0   \n",
       "2               No Data               NaN            1935.0   \n",
       "3               No Data               NaN            1910.0   \n",
       "4               No Data               NaN            1989.0   \n",
       "\n",
       "   CurrentInterestRate  CurrentInterestRateMargin  FinalMargin  \\\n",
       "0               2.7759                       2.39         2.39   \n",
       "1               2.0200                       1.50         1.50   \n",
       "2               3.3300                       2.99         2.99   \n",
       "3               3.4300                       2.84         2.84   \n",
       "4               3.0700                       2.49         2.49   \n",
       "\n",
       "   CurrentValuationAmount FirstTimeBuyer  FlexibleLoanAmount  CurrentBalance  \\\n",
       "0               159453.27              N                 NaN        49667.70   \n",
       "1               131051.84              N                 NaN        21187.83   \n",
       "2               494755.16              N                 NaN       200551.16   \n",
       "3               143621.55              N                 NaN       102336.49   \n",
       "4               194983.10              N                 NaN       171645.92   \n",
       "\n",
       "   OriginalBalance ForeignNational GeographicRegionList  LoanAge     Purpose  \\\n",
       "0         118000.0         No Data                UKG11      107    PURCHASE   \n",
       "1          47250.0         No Data                UKD11      203    PURCHASE   \n",
       "2         224544.0         No Data                UKI11      142    PURCHASE   \n",
       "3         101600.0         No Data                UKK11       95  REMORTGAGE   \n",
       "4         177000.0         No Data                UKE11      146    PURCHASE   \n",
       "\n",
       "        CLTV  TotalIncome  target  \n",
       "0  31.148750      51500.0       0  \n",
       "1  16.167519      21060.0       0  \n",
       "2  40.535435          0.0       1  \n",
       "3  71.254270      24255.0       0  \n",
       "4  88.031180      55273.0       0  "
      ]
     },
     "execution_count": 170,
     "metadata": {},
     "output_type": "execute_result"
    }
   ],
   "source": [
    "df.info()\n",
    "df.head()"
   ]
  },
  {
   "cell_type": "code",
   "execution_count": 171,
   "metadata": {},
   "outputs": [
    {
     "data": {
      "text/plain": [
       "(98093, 25)"
      ]
     },
     "execution_count": 171,
     "metadata": {},
     "output_type": "execute_result"
    }
   ],
   "source": [
    "df.shape"
   ]
  },
  {
   "cell_type": "markdown",
   "metadata": {},
   "source": [
    "### 3.2- Check the null values"
   ]
  },
  {
   "cell_type": "code",
   "execution_count": 172,
   "metadata": {},
   "outputs": [
    {
     "data": {
      "text/plain": [
       "ID                               0\n",
       "PoolCutoffDate                   0\n",
       "LoanOriginationDate              0\n",
       "DateOfLoanMaturity               0\n",
       "BorrowersEmploymentStatus        0\n",
       "BorrowerType                     0\n",
       "BorrowerYearOfBirth          41517\n",
       "BorrowerCreditQuality            0\n",
       "BureauScoreValue             59904\n",
       "ConstructionYear             78156\n",
       "CurrentInterestRate              0\n",
       "CurrentInterestRateMargin        0\n",
       "FinalMargin                  61618\n",
       "CurrentValuationAmount          36\n",
       "FirstTimeBuyer                   0\n",
       "FlexibleLoanAmount           42040\n",
       "CurrentBalance                   0\n",
       "OriginalBalance                  0\n",
       "ForeignNational                  0\n",
       "GeographicRegionList             0\n",
       "LoanAge                          0\n",
       "Purpose                          0\n",
       "CLTV                            29\n",
       "TotalIncome                      0\n",
       "target                           0\n",
       "dtype: int64"
      ]
     },
     "execution_count": 172,
     "metadata": {},
     "output_type": "execute_result"
    }
   ],
   "source": [
    "df.isnull().sum()"
   ]
  },
  {
   "cell_type": "markdown",
   "metadata": {},
   "source": [
    "### 3.3- Check dataset"
   ]
  },
  {
   "cell_type": "code",
   "execution_count": 173,
   "metadata": {
    "scrolled": true
   },
   "outputs": [
    {
     "data": {
      "text/html": [
       "<div>\n",
       "<style scoped>\n",
       "    .dataframe tbody tr th:only-of-type {\n",
       "        vertical-align: middle;\n",
       "    }\n",
       "\n",
       "    .dataframe tbody tr th {\n",
       "        vertical-align: top;\n",
       "    }\n",
       "\n",
       "    .dataframe thead th {\n",
       "        text-align: right;\n",
       "    }\n",
       "</style>\n",
       "<table border=\"1\" class=\"dataframe\">\n",
       "  <thead>\n",
       "    <tr style=\"text-align: right;\">\n",
       "      <th></th>\n",
       "      <th>BorrowerYearOfBirth</th>\n",
       "      <th>BureauScoreValue</th>\n",
       "      <th>ConstructionYear</th>\n",
       "      <th>CurrentInterestRate</th>\n",
       "      <th>CurrentInterestRateMargin</th>\n",
       "      <th>FinalMargin</th>\n",
       "      <th>CurrentValuationAmount</th>\n",
       "      <th>FlexibleLoanAmount</th>\n",
       "      <th>CurrentBalance</th>\n",
       "      <th>OriginalBalance</th>\n",
       "      <th>LoanAge</th>\n",
       "      <th>CLTV</th>\n",
       "      <th>TotalIncome</th>\n",
       "      <th>target</th>\n",
       "    </tr>\n",
       "  </thead>\n",
       "  <tbody>\n",
       "    <tr>\n",
       "      <th>count</th>\n",
       "      <td>56576.000000</td>\n",
       "      <td>38189.000000</td>\n",
       "      <td>19937.000000</td>\n",
       "      <td>98093.000000</td>\n",
       "      <td>98093.000000</td>\n",
       "      <td>36475.000000</td>\n",
       "      <td>9.805700e+04</td>\n",
       "      <td>56053.000000</td>\n",
       "      <td>9.809300e+04</td>\n",
       "      <td>9.809300e+04</td>\n",
       "      <td>98093.000000</td>\n",
       "      <td>9.806400e+04</td>\n",
       "      <td>9.809300e+04</td>\n",
       "      <td>98093.000000</td>\n",
       "    </tr>\n",
       "    <tr>\n",
       "      <th>mean</th>\n",
       "      <td>1966.126414</td>\n",
       "      <td>939.614706</td>\n",
       "      <td>1948.525706</td>\n",
       "      <td>3.373642</td>\n",
       "      <td>1.930933</td>\n",
       "      <td>0.677094</td>\n",
       "      <td>2.168267e+05</td>\n",
       "      <td>5262.716415</td>\n",
       "      <td>9.348497e+04</td>\n",
       "      <td>1.116967e+05</td>\n",
       "      <td>99.789587</td>\n",
       "      <td>1.672321e+02</td>\n",
       "      <td>4.139592e+04</td>\n",
       "      <td>0.284149</td>\n",
       "    </tr>\n",
       "    <tr>\n",
       "      <th>std</th>\n",
       "      <td>10.737155</td>\n",
       "      <td>238.119071</td>\n",
       "      <td>44.097670</td>\n",
       "      <td>1.396281</td>\n",
       "      <td>1.899722</td>\n",
       "      <td>1.251652</td>\n",
       "      <td>1.743889e+05</td>\n",
       "      <td>19202.408592</td>\n",
       "      <td>7.949611e+04</td>\n",
       "      <td>8.206267e+04</td>\n",
       "      <td>45.665194</td>\n",
       "      <td>1.788503e+04</td>\n",
       "      <td>4.568578e+04</td>\n",
       "      <td>0.451010</td>\n",
       "    </tr>\n",
       "    <tr>\n",
       "      <th>min</th>\n",
       "      <td>1914.000000</td>\n",
       "      <td>-999.000000</td>\n",
       "      <td>1700.000000</td>\n",
       "      <td>0.250000</td>\n",
       "      <td>0.000000</td>\n",
       "      <td>0.000000</td>\n",
       "      <td>1.070000e+00</td>\n",
       "      <td>-495956.280000</td>\n",
       "      <td>1.000230e+03</td>\n",
       "      <td>1.000000e+00</td>\n",
       "      <td>1.000000</td>\n",
       "      <td>7.853181e-02</td>\n",
       "      <td>0.000000e+00</td>\n",
       "      <td>0.000000</td>\n",
       "    </tr>\n",
       "    <tr>\n",
       "      <th>25%</th>\n",
       "      <td>1960.000000</td>\n",
       "      <td>916.000000</td>\n",
       "      <td>1928.000000</td>\n",
       "      <td>2.500000</td>\n",
       "      <td>0.000000</td>\n",
       "      <td>0.000000</td>\n",
       "      <td>1.160860e+05</td>\n",
       "      <td>0.000000</td>\n",
       "      <td>4.103837e+04</td>\n",
       "      <td>6.035000e+04</td>\n",
       "      <td>68.000000</td>\n",
       "      <td>2.420893e+01</td>\n",
       "      <td>2.311200e+04</td>\n",
       "      <td>0.000000</td>\n",
       "    </tr>\n",
       "    <tr>\n",
       "      <th>50%</th>\n",
       "      <td>1967.000000</td>\n",
       "      <td>1024.000000</td>\n",
       "      <td>1955.000000</td>\n",
       "      <td>3.640000</td>\n",
       "      <td>1.150000</td>\n",
       "      <td>0.000000</td>\n",
       "      <td>1.699713e+05</td>\n",
       "      <td>0.000000</td>\n",
       "      <td>7.680217e+04</td>\n",
       "      <td>9.500000e+04</td>\n",
       "      <td>96.000000</td>\n",
       "      <td>4.817849e+01</td>\n",
       "      <td>3.440000e+04</td>\n",
       "      <td>0.000000</td>\n",
       "    </tr>\n",
       "    <tr>\n",
       "      <th>75%</th>\n",
       "      <td>1973.000000</td>\n",
       "      <td>1079.000000</td>\n",
       "      <td>1980.000000</td>\n",
       "      <td>4.740000</td>\n",
       "      <td>4.090000</td>\n",
       "      <td>0.990000</td>\n",
       "      <td>2.600585e+05</td>\n",
       "      <td>240.000000</td>\n",
       "      <td>1.227673e+05</td>\n",
       "      <td>1.403960e+05</td>\n",
       "      <td>127.000000</td>\n",
       "      <td>7.057731e+01</td>\n",
       "      <td>5.000000e+04</td>\n",
       "      <td>1.000000</td>\n",
       "    </tr>\n",
       "    <tr>\n",
       "      <th>max</th>\n",
       "      <td>1997.000000</td>\n",
       "      <td>1440.000000</td>\n",
       "      <td>2018.000000</td>\n",
       "      <td>15.850000</td>\n",
       "      <td>7.000000</td>\n",
       "      <td>9.770000</td>\n",
       "      <td>6.542383e+06</td>\n",
       "      <td>531173.440000</td>\n",
       "      <td>1.874000e+06</td>\n",
       "      <td>3.293000e+06</td>\n",
       "      <td>672.000000</td>\n",
       "      <td>4.130223e+06</td>\n",
       "      <td>5.131000e+06</td>\n",
       "      <td>1.000000</td>\n",
       "    </tr>\n",
       "  </tbody>\n",
       "</table>\n",
       "</div>"
      ],
      "text/plain": [
       "       BorrowerYearOfBirth  BureauScoreValue  ConstructionYear  \\\n",
       "count         56576.000000      38189.000000      19937.000000   \n",
       "mean           1966.126414        939.614706       1948.525706   \n",
       "std              10.737155        238.119071         44.097670   \n",
       "min            1914.000000       -999.000000       1700.000000   \n",
       "25%            1960.000000        916.000000       1928.000000   \n",
       "50%            1967.000000       1024.000000       1955.000000   \n",
       "75%            1973.000000       1079.000000       1980.000000   \n",
       "max            1997.000000       1440.000000       2018.000000   \n",
       "\n",
       "       CurrentInterestRate  CurrentInterestRateMargin   FinalMargin  \\\n",
       "count         98093.000000               98093.000000  36475.000000   \n",
       "mean              3.373642                   1.930933      0.677094   \n",
       "std               1.396281                   1.899722      1.251652   \n",
       "min               0.250000                   0.000000      0.000000   \n",
       "25%               2.500000                   0.000000      0.000000   \n",
       "50%               3.640000                   1.150000      0.000000   \n",
       "75%               4.740000                   4.090000      0.990000   \n",
       "max              15.850000                   7.000000      9.770000   \n",
       "\n",
       "       CurrentValuationAmount  FlexibleLoanAmount  CurrentBalance  \\\n",
       "count            9.805700e+04        56053.000000    9.809300e+04   \n",
       "mean             2.168267e+05         5262.716415    9.348497e+04   \n",
       "std              1.743889e+05        19202.408592    7.949611e+04   \n",
       "min              1.070000e+00      -495956.280000    1.000230e+03   \n",
       "25%              1.160860e+05            0.000000    4.103837e+04   \n",
       "50%              1.699713e+05            0.000000    7.680217e+04   \n",
       "75%              2.600585e+05          240.000000    1.227673e+05   \n",
       "max              6.542383e+06       531173.440000    1.874000e+06   \n",
       "\n",
       "       OriginalBalance       LoanAge          CLTV   TotalIncome        target  \n",
       "count     9.809300e+04  98093.000000  9.806400e+04  9.809300e+04  98093.000000  \n",
       "mean      1.116967e+05     99.789587  1.672321e+02  4.139592e+04      0.284149  \n",
       "std       8.206267e+04     45.665194  1.788503e+04  4.568578e+04      0.451010  \n",
       "min       1.000000e+00      1.000000  7.853181e-02  0.000000e+00      0.000000  \n",
       "25%       6.035000e+04     68.000000  2.420893e+01  2.311200e+04      0.000000  \n",
       "50%       9.500000e+04     96.000000  4.817849e+01  3.440000e+04      0.000000  \n",
       "75%       1.403960e+05    127.000000  7.057731e+01  5.000000e+04      1.000000  \n",
       "max       3.293000e+06    672.000000  4.130223e+06  5.131000e+06      1.000000  "
      ]
     },
     "execution_count": 173,
     "metadata": {},
     "output_type": "execute_result"
    }
   ],
   "source": [
    "df.describe()"
   ]
  },
  {
   "cell_type": "markdown",
   "metadata": {},
   "source": [
    "## 4- Data Cleaning and Manipulations"
   ]
  },
  {
   "cell_type": "markdown",
   "metadata": {},
   "source": [
    "### 4.1- Impute the missing values"
   ]
  },
  {
   "cell_type": "code",
   "execution_count": 174,
   "metadata": {},
   "outputs": [
    {
     "data": {
      "text/plain": [
       "ID                               0\n",
       "PoolCutoffDate                   0\n",
       "LoanOriginationDate              0\n",
       "DateOfLoanMaturity               0\n",
       "BorrowersEmploymentStatus        0\n",
       "BorrowerType                     0\n",
       "BorrowerYearOfBirth          41517\n",
       "BorrowerCreditQuality            0\n",
       "BureauScoreValue             59904\n",
       "ConstructionYear             78156\n",
       "CurrentInterestRate              0\n",
       "CurrentInterestRateMargin        0\n",
       "FinalMargin                  61618\n",
       "CurrentValuationAmount          36\n",
       "FirstTimeBuyer                   0\n",
       "FlexibleLoanAmount           42040\n",
       "CurrentBalance                   0\n",
       "OriginalBalance                  0\n",
       "ForeignNational                  0\n",
       "GeographicRegionList             0\n",
       "LoanAge                          0\n",
       "Purpose                          0\n",
       "CLTV                            29\n",
       "TotalIncome                      0\n",
       "target                           0\n",
       "dtype: int64"
      ]
     },
     "execution_count": 174,
     "metadata": {},
     "output_type": "execute_result"
    }
   ],
   "source": [
    "# Check the null values again \n",
    "\n",
    "df.isnull().sum()"
   ]
  },
  {
   "cell_type": "code",
   "execution_count": 175,
   "metadata": {},
   "outputs": [
    {
     "name": "stdout",
     "output_type": "stream",
     "text": [
      "\n"
     ]
    }
   ],
   "source": [
    "'''\n",
    "def impute_null_values(df):\n",
    "\n",
    "    # if blank values in columns > 0 then add this columns into list\n",
    "    for i in df.columns:\n",
    "        \n",
    "        if df[i].isnull().sum() >0 :\n",
    "            \n",
    "            # check the datatypes of the column, fillna with mean if float values, else use mode \n",
    "\n",
    "            if df[i].dtypes == 'float64':\n",
    "                df[i] = df[i].fillna(df[i].mean())\n",
    "            else:\n",
    "                df[i] = df[i].fillna(df[i].mode()[0])\n",
    "\n",
    "    return df\n",
    "\n",
    "'''\n",
    "print('')"
   ]
  },
  {
   "cell_type": "code",
   "execution_count": 176,
   "metadata": {},
   "outputs": [],
   "source": [
    "# Fill the null values based on the datatypes\n",
    "\n",
    "def impute_null_values(df):\n",
    "\n",
    "    # if blank values in columns > 0 then add this columns into list\n",
    "    for i in df.columns:\n",
    "        \n",
    "        if df[i].isnull().sum() >0 :\n",
    "            \n",
    "            # check the datatypes of the column, fillna with mean if float values, else use mode \n",
    "\n",
    "            if df[i].dtypes == 'float64':\n",
    "                df[i] = df[i].fillna(df[i].mean())\n",
    "            else:\n",
    "                df[i] = df[i].fillna(df[i].mode()[0])\n",
    "\n",
    "    return df"
   ]
  },
  {
   "cell_type": "code",
   "execution_count": 177,
   "metadata": {},
   "outputs": [],
   "source": [
    "df = impute_null_values(df)"
   ]
  },
  {
   "cell_type": "code",
   "execution_count": 178,
   "metadata": {},
   "outputs": [
    {
     "name": "stdout",
     "output_type": "stream",
     "text": [
      "Not use this function\n"
     ]
    }
   ],
   "source": [
    "'''\n",
    "def impute_null_values(df):\n",
    "    \n",
    "    # Create a blank list\n",
    "    null_columns = []\n",
    "\n",
    "    # if blank values in columns > 0 then add this columns into list\n",
    "    for i in df.columns:\n",
    "        if df[i].isnull().sum() >0 : \n",
    "            null_columns.append(i)\n",
    "\n",
    "    # check the datatypes of the column, fillna with mean if float values, else use mode \n",
    "    for i2 in null_columns:\n",
    "        if df[i2].dtypes == 'float64':\n",
    "            df[i2] = df[i2].fillna(df[i2].mean())\n",
    "            \n",
    "        else:\n",
    "            df[i2] = df[i2].fillna(df[i2].mode()[0])\n",
    "            \n",
    "    return df\n",
    "    \n",
    "'''\n",
    "print('Not use this function')"
   ]
  },
  {
   "cell_type": "code",
   "execution_count": 179,
   "metadata": {},
   "outputs": [
    {
     "data": {
      "text/plain": [
       "ID                           0\n",
       "PoolCutoffDate               0\n",
       "LoanOriginationDate          0\n",
       "DateOfLoanMaturity           0\n",
       "BorrowersEmploymentStatus    0\n",
       "BorrowerType                 0\n",
       "BorrowerYearOfBirth          0\n",
       "BorrowerCreditQuality        0\n",
       "BureauScoreValue             0\n",
       "ConstructionYear             0\n",
       "CurrentInterestRate          0\n",
       "CurrentInterestRateMargin    0\n",
       "FinalMargin                  0\n",
       "CurrentValuationAmount       0\n",
       "FirstTimeBuyer               0\n",
       "FlexibleLoanAmount           0\n",
       "CurrentBalance               0\n",
       "OriginalBalance              0\n",
       "ForeignNational              0\n",
       "GeographicRegionList         0\n",
       "LoanAge                      0\n",
       "Purpose                      0\n",
       "CLTV                         0\n",
       "TotalIncome                  0\n",
       "target                       0\n",
       "dtype: int64"
      ]
     },
     "execution_count": 179,
     "metadata": {},
     "output_type": "execute_result"
    }
   ],
   "source": [
    "# Check the null values again \n",
    "\n",
    "df.isnull().sum()"
   ]
  },
  {
   "cell_type": "markdown",
   "metadata": {},
   "source": [
    "### 4.2- Convert Date Columns to Datetime"
   ]
  },
  {
   "cell_type": "code",
   "execution_count": 180,
   "metadata": {},
   "outputs": [
    {
     "data": {
      "text/plain": [
       "dtype('O')"
      ]
     },
     "execution_count": 180,
     "metadata": {},
     "output_type": "execute_result"
    }
   ],
   "source": [
    "# Check datatype of 'PoolCutoffDate' column\n",
    "\n",
    "df['PoolCutoffDate'].dtypes"
   ]
  },
  {
   "cell_type": "code",
   "execution_count": 181,
   "metadata": {},
   "outputs": [],
   "source": [
    "# Change the datatype of the datetime columns\n",
    "\n",
    "def convert_datetime(df):\n",
    "    \n",
    "    for i in df.columns:\n",
    "        if 'date' in i.lower(): \n",
    "            print('Column_name is: ',i, 'and Column type is:', df[i].dtypes)\n",
    "    \n",
    "\n",
    "    for i in df.columns:\n",
    "        if 'date' in i.lower(): \n",
    "\n",
    "            df[i] = pd.to_datetime(df[i], infer_datetime_format=True)\n",
    "    \n",
    "    print('')\n",
    "    print('All columns contains date converted to datetime')\n",
    "\n",
    "    return(df)"
   ]
  },
  {
   "cell_type": "code",
   "execution_count": 182,
   "metadata": {},
   "outputs": [
    {
     "name": "stdout",
     "output_type": "stream",
     "text": [
      "Column_name is:  PoolCutoffDate and Column type is: object\n",
      "Column_name is:  LoanOriginationDate and Column type is: object\n",
      "Column_name is:  DateOfLoanMaturity and Column type is: object\n",
      "\n",
      "All columns contains date converted to datetime\n"
     ]
    }
   ],
   "source": [
    "df = convert_datetime(df)"
   ]
  },
  {
   "cell_type": "code",
   "execution_count": 183,
   "metadata": {},
   "outputs": [
    {
     "name": "stdout",
     "output_type": "stream",
     "text": [
      "<class 'pandas.core.frame.DataFrame'>\n",
      "RangeIndex: 98093 entries, 0 to 98092\n",
      "Data columns (total 25 columns):\n",
      " #   Column                     Non-Null Count  Dtype         \n",
      "---  ------                     --------------  -----         \n",
      " 0   ID                         98093 non-null  object        \n",
      " 1   PoolCutoffDate             98093 non-null  datetime64[ns]\n",
      " 2   LoanOriginationDate        98093 non-null  datetime64[ns]\n",
      " 3   DateOfLoanMaturity         98093 non-null  datetime64[ns]\n",
      " 4   BorrowersEmploymentStatus  98093 non-null  object        \n",
      " 5   BorrowerType               98093 non-null  object        \n",
      " 6   BorrowerYearOfBirth        98093 non-null  float64       \n",
      " 7   BorrowerCreditQuality      98093 non-null  object        \n",
      " 8   BureauScoreValue           98093 non-null  float64       \n",
      " 9   ConstructionYear           98093 non-null  float64       \n",
      " 10  CurrentInterestRate        98093 non-null  float64       \n",
      " 11  CurrentInterestRateMargin  98093 non-null  float64       \n",
      " 12  FinalMargin                98093 non-null  float64       \n",
      " 13  CurrentValuationAmount     98093 non-null  float64       \n",
      " 14  FirstTimeBuyer             98093 non-null  object        \n",
      " 15  FlexibleLoanAmount         98093 non-null  float64       \n",
      " 16  CurrentBalance             98093 non-null  float64       \n",
      " 17  OriginalBalance            98093 non-null  float64       \n",
      " 18  ForeignNational            98093 non-null  object        \n",
      " 19  GeographicRegionList       98093 non-null  object        \n",
      " 20  LoanAge                    98093 non-null  int64         \n",
      " 21  Purpose                    98093 non-null  object        \n",
      " 22  CLTV                       98093 non-null  float64       \n",
      " 23  TotalIncome                98093 non-null  float64       \n",
      " 24  target                     98093 non-null  int64         \n",
      "dtypes: datetime64[ns](3), float64(12), int64(2), object(8)\n",
      "memory usage: 18.7+ MB\n"
     ]
    },
    {
     "data": {
      "text/html": [
       "<div>\n",
       "<style scoped>\n",
       "    .dataframe tbody tr th:only-of-type {\n",
       "        vertical-align: middle;\n",
       "    }\n",
       "\n",
       "    .dataframe tbody tr th {\n",
       "        vertical-align: top;\n",
       "    }\n",
       "\n",
       "    .dataframe thead th {\n",
       "        text-align: right;\n",
       "    }\n",
       "</style>\n",
       "<table border=\"1\" class=\"dataframe\">\n",
       "  <thead>\n",
       "    <tr style=\"text-align: right;\">\n",
       "      <th></th>\n",
       "      <th>ID</th>\n",
       "      <th>PoolCutoffDate</th>\n",
       "      <th>LoanOriginationDate</th>\n",
       "      <th>DateOfLoanMaturity</th>\n",
       "      <th>BorrowersEmploymentStatus</th>\n",
       "      <th>BorrowerType</th>\n",
       "      <th>BorrowerYearOfBirth</th>\n",
       "      <th>BorrowerCreditQuality</th>\n",
       "      <th>BureauScoreValue</th>\n",
       "      <th>ConstructionYear</th>\n",
       "      <th>CurrentInterestRate</th>\n",
       "      <th>CurrentInterestRateMargin</th>\n",
       "      <th>FinalMargin</th>\n",
       "      <th>CurrentValuationAmount</th>\n",
       "      <th>FirstTimeBuyer</th>\n",
       "      <th>FlexibleLoanAmount</th>\n",
       "      <th>CurrentBalance</th>\n",
       "      <th>OriginalBalance</th>\n",
       "      <th>ForeignNational</th>\n",
       "      <th>GeographicRegionList</th>\n",
       "      <th>LoanAge</th>\n",
       "      <th>Purpose</th>\n",
       "      <th>CLTV</th>\n",
       "      <th>TotalIncome</th>\n",
       "      <th>target</th>\n",
       "    </tr>\n",
       "  </thead>\n",
       "  <tbody>\n",
       "    <tr>\n",
       "      <th>0</th>\n",
       "      <td>38933530</td>\n",
       "      <td>2016-12-31</td>\n",
       "      <td>2008-01-01</td>\n",
       "      <td>2025-01-01</td>\n",
       "      <td>NO DATA</td>\n",
       "      <td>NO DATA</td>\n",
       "      <td>1968.0</td>\n",
       "      <td>No Data</td>\n",
       "      <td>939.614706</td>\n",
       "      <td>1950.0</td>\n",
       "      <td>2.7759</td>\n",
       "      <td>2.39</td>\n",
       "      <td>2.39</td>\n",
       "      <td>159453.27</td>\n",
       "      <td>N</td>\n",
       "      <td>5262.716415</td>\n",
       "      <td>49667.70</td>\n",
       "      <td>118000.0</td>\n",
       "      <td>No Data</td>\n",
       "      <td>UKG11</td>\n",
       "      <td>107</td>\n",
       "      <td>PURCHASE</td>\n",
       "      <td>31.148750</td>\n",
       "      <td>51500.0</td>\n",
       "      <td>0</td>\n",
       "    </tr>\n",
       "    <tr>\n",
       "      <th>1</th>\n",
       "      <td>38933309</td>\n",
       "      <td>2017-12-31</td>\n",
       "      <td>2001-01-01</td>\n",
       "      <td>2026-01-01</td>\n",
       "      <td>NO DATA</td>\n",
       "      <td>NO DATA</td>\n",
       "      <td>1976.0</td>\n",
       "      <td>No Data</td>\n",
       "      <td>939.614706</td>\n",
       "      <td>1910.0</td>\n",
       "      <td>2.0200</td>\n",
       "      <td>1.50</td>\n",
       "      <td>1.50</td>\n",
       "      <td>131051.84</td>\n",
       "      <td>N</td>\n",
       "      <td>5262.716415</td>\n",
       "      <td>21187.83</td>\n",
       "      <td>47250.0</td>\n",
       "      <td>No Data</td>\n",
       "      <td>UKD11</td>\n",
       "      <td>203</td>\n",
       "      <td>PURCHASE</td>\n",
       "      <td>16.167519</td>\n",
       "      <td>21060.0</td>\n",
       "      <td>0</td>\n",
       "    </tr>\n",
       "  </tbody>\n",
       "</table>\n",
       "</div>"
      ],
      "text/plain": [
       "         ID PoolCutoffDate LoanOriginationDate DateOfLoanMaturity  \\\n",
       "0  38933530     2016-12-31          2008-01-01         2025-01-01   \n",
       "1  38933309     2017-12-31          2001-01-01         2026-01-01   \n",
       "\n",
       "  BorrowersEmploymentStatus BorrowerType  BorrowerYearOfBirth  \\\n",
       "0                   NO DATA      NO DATA               1968.0   \n",
       "1                   NO DATA      NO DATA               1976.0   \n",
       "\n",
       "  BorrowerCreditQuality  BureauScoreValue  ConstructionYear  \\\n",
       "0               No Data        939.614706            1950.0   \n",
       "1               No Data        939.614706            1910.0   \n",
       "\n",
       "   CurrentInterestRate  CurrentInterestRateMargin  FinalMargin  \\\n",
       "0               2.7759                       2.39         2.39   \n",
       "1               2.0200                       1.50         1.50   \n",
       "\n",
       "   CurrentValuationAmount FirstTimeBuyer  FlexibleLoanAmount  CurrentBalance  \\\n",
       "0               159453.27              N         5262.716415        49667.70   \n",
       "1               131051.84              N         5262.716415        21187.83   \n",
       "\n",
       "   OriginalBalance ForeignNational GeographicRegionList  LoanAge   Purpose  \\\n",
       "0         118000.0         No Data                UKG11      107  PURCHASE   \n",
       "1          47250.0         No Data                UKD11      203  PURCHASE   \n",
       "\n",
       "        CLTV  TotalIncome  target  \n",
       "0  31.148750      51500.0       0  \n",
       "1  16.167519      21060.0       0  "
      ]
     },
     "execution_count": 183,
     "metadata": {},
     "output_type": "execute_result"
    }
   ],
   "source": [
    "df.info()\n",
    "df.head(2)"
   ]
  },
  {
   "cell_type": "markdown",
   "metadata": {},
   "source": [
    "### 4.3- Drop Columns"
   ]
  },
  {
   "cell_type": "code",
   "execution_count": 184,
   "metadata": {},
   "outputs": [],
   "source": [
    "# Drop the ID columsn which we dont need\n",
    "\n",
    "df = df.drop(['ID'], axis=1)"
   ]
  },
  {
   "cell_type": "code",
   "execution_count": 185,
   "metadata": {},
   "outputs": [
    {
     "data": {
      "text/html": [
       "<div>\n",
       "<style scoped>\n",
       "    .dataframe tbody tr th:only-of-type {\n",
       "        vertical-align: middle;\n",
       "    }\n",
       "\n",
       "    .dataframe tbody tr th {\n",
       "        vertical-align: top;\n",
       "    }\n",
       "\n",
       "    .dataframe thead th {\n",
       "        text-align: right;\n",
       "    }\n",
       "</style>\n",
       "<table border=\"1\" class=\"dataframe\">\n",
       "  <thead>\n",
       "    <tr style=\"text-align: right;\">\n",
       "      <th></th>\n",
       "      <th>PoolCutoffDate</th>\n",
       "      <th>LoanOriginationDate</th>\n",
       "      <th>DateOfLoanMaturity</th>\n",
       "      <th>BorrowersEmploymentStatus</th>\n",
       "      <th>BorrowerType</th>\n",
       "      <th>BorrowerYearOfBirth</th>\n",
       "      <th>BorrowerCreditQuality</th>\n",
       "      <th>BureauScoreValue</th>\n",
       "      <th>ConstructionYear</th>\n",
       "      <th>CurrentInterestRate</th>\n",
       "      <th>CurrentInterestRateMargin</th>\n",
       "      <th>FinalMargin</th>\n",
       "      <th>CurrentValuationAmount</th>\n",
       "      <th>FirstTimeBuyer</th>\n",
       "      <th>FlexibleLoanAmount</th>\n",
       "      <th>CurrentBalance</th>\n",
       "      <th>OriginalBalance</th>\n",
       "      <th>ForeignNational</th>\n",
       "      <th>GeographicRegionList</th>\n",
       "      <th>LoanAge</th>\n",
       "      <th>Purpose</th>\n",
       "      <th>CLTV</th>\n",
       "      <th>TotalIncome</th>\n",
       "      <th>target</th>\n",
       "    </tr>\n",
       "  </thead>\n",
       "  <tbody>\n",
       "    <tr>\n",
       "      <th>0</th>\n",
       "      <td>2016-12-31</td>\n",
       "      <td>2008-01-01</td>\n",
       "      <td>2025-01-01</td>\n",
       "      <td>NO DATA</td>\n",
       "      <td>NO DATA</td>\n",
       "      <td>1968.0</td>\n",
       "      <td>No Data</td>\n",
       "      <td>939.614706</td>\n",
       "      <td>1950.0</td>\n",
       "      <td>2.7759</td>\n",
       "      <td>2.39</td>\n",
       "      <td>2.39</td>\n",
       "      <td>159453.27</td>\n",
       "      <td>N</td>\n",
       "      <td>5262.716415</td>\n",
       "      <td>49667.70</td>\n",
       "      <td>118000.0</td>\n",
       "      <td>No Data</td>\n",
       "      <td>UKG11</td>\n",
       "      <td>107</td>\n",
       "      <td>PURCHASE</td>\n",
       "      <td>31.148750</td>\n",
       "      <td>51500.0</td>\n",
       "      <td>0</td>\n",
       "    </tr>\n",
       "    <tr>\n",
       "      <th>1</th>\n",
       "      <td>2017-12-31</td>\n",
       "      <td>2001-01-01</td>\n",
       "      <td>2026-01-01</td>\n",
       "      <td>NO DATA</td>\n",
       "      <td>NO DATA</td>\n",
       "      <td>1976.0</td>\n",
       "      <td>No Data</td>\n",
       "      <td>939.614706</td>\n",
       "      <td>1910.0</td>\n",
       "      <td>2.0200</td>\n",
       "      <td>1.50</td>\n",
       "      <td>1.50</td>\n",
       "      <td>131051.84</td>\n",
       "      <td>N</td>\n",
       "      <td>5262.716415</td>\n",
       "      <td>21187.83</td>\n",
       "      <td>47250.0</td>\n",
       "      <td>No Data</td>\n",
       "      <td>UKD11</td>\n",
       "      <td>203</td>\n",
       "      <td>PURCHASE</td>\n",
       "      <td>16.167519</td>\n",
       "      <td>21060.0</td>\n",
       "      <td>0</td>\n",
       "    </tr>\n",
       "    <tr>\n",
       "      <th>2</th>\n",
       "      <td>2017-05-31</td>\n",
       "      <td>2005-07-01</td>\n",
       "      <td>2030-07-01</td>\n",
       "      <td>EMPLOYED</td>\n",
       "      <td>NO DATA</td>\n",
       "      <td>1983.0</td>\n",
       "      <td>No Data</td>\n",
       "      <td>939.614706</td>\n",
       "      <td>1935.0</td>\n",
       "      <td>3.3300</td>\n",
       "      <td>2.99</td>\n",
       "      <td>2.99</td>\n",
       "      <td>494755.16</td>\n",
       "      <td>N</td>\n",
       "      <td>5262.716415</td>\n",
       "      <td>200551.16</td>\n",
       "      <td>224544.0</td>\n",
       "      <td>No Data</td>\n",
       "      <td>UKI11</td>\n",
       "      <td>142</td>\n",
       "      <td>PURCHASE</td>\n",
       "      <td>40.535435</td>\n",
       "      <td>0.0</td>\n",
       "      <td>1</td>\n",
       "    </tr>\n",
       "    <tr>\n",
       "      <th>3</th>\n",
       "      <td>2016-03-31</td>\n",
       "      <td>2008-04-01</td>\n",
       "      <td>2033-04-01</td>\n",
       "      <td>NO DATA</td>\n",
       "      <td>NO DATA</td>\n",
       "      <td>1974.0</td>\n",
       "      <td>No Data</td>\n",
       "      <td>939.614706</td>\n",
       "      <td>1910.0</td>\n",
       "      <td>3.4300</td>\n",
       "      <td>2.84</td>\n",
       "      <td>2.84</td>\n",
       "      <td>143621.55</td>\n",
       "      <td>N</td>\n",
       "      <td>5262.716415</td>\n",
       "      <td>102336.49</td>\n",
       "      <td>101600.0</td>\n",
       "      <td>No Data</td>\n",
       "      <td>UKK11</td>\n",
       "      <td>95</td>\n",
       "      <td>REMORTGAGE</td>\n",
       "      <td>71.254270</td>\n",
       "      <td>24255.0</td>\n",
       "      <td>0</td>\n",
       "    </tr>\n",
       "    <tr>\n",
       "      <th>4</th>\n",
       "      <td>2018-03-31</td>\n",
       "      <td>2006-01-01</td>\n",
       "      <td>2031-01-01</td>\n",
       "      <td>NO DATA</td>\n",
       "      <td>NO DATA</td>\n",
       "      <td>1977.0</td>\n",
       "      <td>No Data</td>\n",
       "      <td>939.614706</td>\n",
       "      <td>1989.0</td>\n",
       "      <td>3.0700</td>\n",
       "      <td>2.49</td>\n",
       "      <td>2.49</td>\n",
       "      <td>194983.10</td>\n",
       "      <td>N</td>\n",
       "      <td>5262.716415</td>\n",
       "      <td>171645.92</td>\n",
       "      <td>177000.0</td>\n",
       "      <td>No Data</td>\n",
       "      <td>UKE11</td>\n",
       "      <td>146</td>\n",
       "      <td>PURCHASE</td>\n",
       "      <td>88.031180</td>\n",
       "      <td>55273.0</td>\n",
       "      <td>0</td>\n",
       "    </tr>\n",
       "  </tbody>\n",
       "</table>\n",
       "</div>"
      ],
      "text/plain": [
       "  PoolCutoffDate LoanOriginationDate DateOfLoanMaturity  \\\n",
       "0     2016-12-31          2008-01-01         2025-01-01   \n",
       "1     2017-12-31          2001-01-01         2026-01-01   \n",
       "2     2017-05-31          2005-07-01         2030-07-01   \n",
       "3     2016-03-31          2008-04-01         2033-04-01   \n",
       "4     2018-03-31          2006-01-01         2031-01-01   \n",
       "\n",
       "  BorrowersEmploymentStatus BorrowerType  BorrowerYearOfBirth  \\\n",
       "0                   NO DATA      NO DATA               1968.0   \n",
       "1                   NO DATA      NO DATA               1976.0   \n",
       "2                  EMPLOYED      NO DATA               1983.0   \n",
       "3                   NO DATA      NO DATA               1974.0   \n",
       "4                   NO DATA      NO DATA               1977.0   \n",
       "\n",
       "  BorrowerCreditQuality  BureauScoreValue  ConstructionYear  \\\n",
       "0               No Data        939.614706            1950.0   \n",
       "1               No Data        939.614706            1910.0   \n",
       "2               No Data        939.614706            1935.0   \n",
       "3               No Data        939.614706            1910.0   \n",
       "4               No Data        939.614706            1989.0   \n",
       "\n",
       "   CurrentInterestRate  CurrentInterestRateMargin  FinalMargin  \\\n",
       "0               2.7759                       2.39         2.39   \n",
       "1               2.0200                       1.50         1.50   \n",
       "2               3.3300                       2.99         2.99   \n",
       "3               3.4300                       2.84         2.84   \n",
       "4               3.0700                       2.49         2.49   \n",
       "\n",
       "   CurrentValuationAmount FirstTimeBuyer  FlexibleLoanAmount  CurrentBalance  \\\n",
       "0               159453.27              N         5262.716415        49667.70   \n",
       "1               131051.84              N         5262.716415        21187.83   \n",
       "2               494755.16              N         5262.716415       200551.16   \n",
       "3               143621.55              N         5262.716415       102336.49   \n",
       "4               194983.10              N         5262.716415       171645.92   \n",
       "\n",
       "   OriginalBalance ForeignNational GeographicRegionList  LoanAge     Purpose  \\\n",
       "0         118000.0         No Data                UKG11      107    PURCHASE   \n",
       "1          47250.0         No Data                UKD11      203    PURCHASE   \n",
       "2         224544.0         No Data                UKI11      142    PURCHASE   \n",
       "3         101600.0         No Data                UKK11       95  REMORTGAGE   \n",
       "4         177000.0         No Data                UKE11      146    PURCHASE   \n",
       "\n",
       "        CLTV  TotalIncome  target  \n",
       "0  31.148750      51500.0       0  \n",
       "1  16.167519      21060.0       0  \n",
       "2  40.535435          0.0       1  \n",
       "3  71.254270      24255.0       0  \n",
       "4  88.031180      55273.0       0  "
      ]
     },
     "execution_count": 185,
     "metadata": {},
     "output_type": "execute_result"
    }
   ],
   "source": [
    "df.head()"
   ]
  },
  {
   "cell_type": "markdown",
   "metadata": {},
   "source": [
    "### 4.4- Data Manipulations"
   ]
  },
  {
   "cell_type": "markdown",
   "metadata": {},
   "source": [
    "### 4.4.1 - 'BorrowersEmploymentStatus' Columns"
   ]
  },
  {
   "cell_type": "code",
   "execution_count": 186,
   "metadata": {},
   "outputs": [
    {
     "data": {
      "text/plain": [
       "EMPLOYED         62109\n",
       "NO DATA          20307\n",
       "SELF EMPLOYED    11638\n",
       "PENSIONER         1259\n",
       "PROTECTED         1205\n",
       "OTHER              979\n",
       "UNEMPLOYED         485\n",
       "CORPORATE           93\n",
       "STUDENT             18\n",
       "Name: BorrowersEmploymentStatus, dtype: int64"
      ]
     },
     "execution_count": 186,
     "metadata": {},
     "output_type": "execute_result"
    }
   ],
   "source": [
    "# Check different type of employement status in the data\n",
    "\n",
    "df['BorrowersEmploymentStatus'].value_counts()"
   ]
  },
  {
   "cell_type": "code",
   "execution_count": 187,
   "metadata": {},
   "outputs": [],
   "source": [
    "# Convert 'Other','No Data', 'Protected', 'Corporate', 'Student' as 'Unemployed'\n",
    "\n",
    "# Protected should not be catogorized as unem...\n",
    "\n",
    "Replace_Emp_Stat = {'OTHER'     :'UNEMPLOYED',\n",
    "                    'NO DATA'   :'UNEMPLOYED',\n",
    "                    'PROTECTED' :'UNEMPLOYED',\n",
    "                    'CORPORATE' :'UNEMPLOYED',\n",
    "                    'STUDENT'   :'UNEMPLOYED'\n",
    "                   }"
   ]
  },
  {
   "cell_type": "code",
   "execution_count": 188,
   "metadata": {},
   "outputs": [],
   "source": [
    "# Changed Employement status in the data as we defined above\n",
    "\n",
    "df['BorrowersEmploymentStatus'] = df['BorrowersEmploymentStatus'].replace(Replace_Emp_Stat)"
   ]
  },
  {
   "cell_type": "markdown",
   "metadata": {},
   "source": [
    "### 4.4.2 - 'BorrowerType' Columns"
   ]
  },
  {
   "cell_type": "code",
   "execution_count": 189,
   "metadata": {},
   "outputs": [
    {
     "data": {
      "text/plain": [
       "INDIVIDUAL    69597\n",
       "NO DATA       28476\n",
       "COMMERCIAL       20\n",
       "Name: BorrowerType, dtype: int64"
      ]
     },
     "execution_count": 189,
     "metadata": {},
     "output_type": "execute_result"
    }
   ],
   "source": [
    "# Check different BorrowerType status in the data, no action needed here\n",
    "\n",
    "df['BorrowerType'].value_counts()"
   ]
  },
  {
   "cell_type": "markdown",
   "metadata": {},
   "source": [
    "### 4.4.3 - 'BorrowerYearOfBirth' Columns"
   ]
  },
  {
   "cell_type": "code",
   "execution_count": 190,
   "metadata": {},
   "outputs": [
    {
     "data": {
      "text/html": [
       "<div>\n",
       "<style scoped>\n",
       "    .dataframe tbody tr th:only-of-type {\n",
       "        vertical-align: middle;\n",
       "    }\n",
       "\n",
       "    .dataframe tbody tr th {\n",
       "        vertical-align: top;\n",
       "    }\n",
       "\n",
       "    .dataframe thead th {\n",
       "        text-align: right;\n",
       "    }\n",
       "</style>\n",
       "<table border=\"1\" class=\"dataframe\">\n",
       "  <thead>\n",
       "    <tr style=\"text-align: right;\">\n",
       "      <th></th>\n",
       "      <th>PoolCutoffDate</th>\n",
       "      <th>LoanOriginationDate</th>\n",
       "      <th>DateOfLoanMaturity</th>\n",
       "      <th>BorrowersEmploymentStatus</th>\n",
       "      <th>BorrowerType</th>\n",
       "      <th>BorrowerYearOfBirth</th>\n",
       "      <th>BorrowerCreditQuality</th>\n",
       "      <th>BureauScoreValue</th>\n",
       "      <th>ConstructionYear</th>\n",
       "      <th>CurrentInterestRate</th>\n",
       "      <th>CurrentInterestRateMargin</th>\n",
       "      <th>FinalMargin</th>\n",
       "      <th>CurrentValuationAmount</th>\n",
       "      <th>FirstTimeBuyer</th>\n",
       "      <th>FlexibleLoanAmount</th>\n",
       "      <th>CurrentBalance</th>\n",
       "      <th>OriginalBalance</th>\n",
       "      <th>ForeignNational</th>\n",
       "      <th>GeographicRegionList</th>\n",
       "      <th>LoanAge</th>\n",
       "      <th>Purpose</th>\n",
       "      <th>CLTV</th>\n",
       "      <th>TotalIncome</th>\n",
       "      <th>target</th>\n",
       "    </tr>\n",
       "  </thead>\n",
       "  <tbody>\n",
       "    <tr>\n",
       "      <th>0</th>\n",
       "      <td>2016-12-31</td>\n",
       "      <td>2008-01-01</td>\n",
       "      <td>2025-01-01</td>\n",
       "      <td>UNEMPLOYED</td>\n",
       "      <td>NO DATA</td>\n",
       "      <td>1968.0</td>\n",
       "      <td>No Data</td>\n",
       "      <td>939.614706</td>\n",
       "      <td>1950.0</td>\n",
       "      <td>2.7759</td>\n",
       "      <td>2.39</td>\n",
       "      <td>2.39</td>\n",
       "      <td>159453.27</td>\n",
       "      <td>N</td>\n",
       "      <td>5262.716415</td>\n",
       "      <td>49667.70</td>\n",
       "      <td>118000.0</td>\n",
       "      <td>No Data</td>\n",
       "      <td>UKG11</td>\n",
       "      <td>107</td>\n",
       "      <td>PURCHASE</td>\n",
       "      <td>31.148750</td>\n",
       "      <td>51500.0</td>\n",
       "      <td>0</td>\n",
       "    </tr>\n",
       "    <tr>\n",
       "      <th>1</th>\n",
       "      <td>2017-12-31</td>\n",
       "      <td>2001-01-01</td>\n",
       "      <td>2026-01-01</td>\n",
       "      <td>UNEMPLOYED</td>\n",
       "      <td>NO DATA</td>\n",
       "      <td>1976.0</td>\n",
       "      <td>No Data</td>\n",
       "      <td>939.614706</td>\n",
       "      <td>1910.0</td>\n",
       "      <td>2.0200</td>\n",
       "      <td>1.50</td>\n",
       "      <td>1.50</td>\n",
       "      <td>131051.84</td>\n",
       "      <td>N</td>\n",
       "      <td>5262.716415</td>\n",
       "      <td>21187.83</td>\n",
       "      <td>47250.0</td>\n",
       "      <td>No Data</td>\n",
       "      <td>UKD11</td>\n",
       "      <td>203</td>\n",
       "      <td>PURCHASE</td>\n",
       "      <td>16.167519</td>\n",
       "      <td>21060.0</td>\n",
       "      <td>0</td>\n",
       "    </tr>\n",
       "    <tr>\n",
       "      <th>2</th>\n",
       "      <td>2017-05-31</td>\n",
       "      <td>2005-07-01</td>\n",
       "      <td>2030-07-01</td>\n",
       "      <td>EMPLOYED</td>\n",
       "      <td>NO DATA</td>\n",
       "      <td>1983.0</td>\n",
       "      <td>No Data</td>\n",
       "      <td>939.614706</td>\n",
       "      <td>1935.0</td>\n",
       "      <td>3.3300</td>\n",
       "      <td>2.99</td>\n",
       "      <td>2.99</td>\n",
       "      <td>494755.16</td>\n",
       "      <td>N</td>\n",
       "      <td>5262.716415</td>\n",
       "      <td>200551.16</td>\n",
       "      <td>224544.0</td>\n",
       "      <td>No Data</td>\n",
       "      <td>UKI11</td>\n",
       "      <td>142</td>\n",
       "      <td>PURCHASE</td>\n",
       "      <td>40.535435</td>\n",
       "      <td>0.0</td>\n",
       "      <td>1</td>\n",
       "    </tr>\n",
       "    <tr>\n",
       "      <th>3</th>\n",
       "      <td>2016-03-31</td>\n",
       "      <td>2008-04-01</td>\n",
       "      <td>2033-04-01</td>\n",
       "      <td>UNEMPLOYED</td>\n",
       "      <td>NO DATA</td>\n",
       "      <td>1974.0</td>\n",
       "      <td>No Data</td>\n",
       "      <td>939.614706</td>\n",
       "      <td>1910.0</td>\n",
       "      <td>3.4300</td>\n",
       "      <td>2.84</td>\n",
       "      <td>2.84</td>\n",
       "      <td>143621.55</td>\n",
       "      <td>N</td>\n",
       "      <td>5262.716415</td>\n",
       "      <td>102336.49</td>\n",
       "      <td>101600.0</td>\n",
       "      <td>No Data</td>\n",
       "      <td>UKK11</td>\n",
       "      <td>95</td>\n",
       "      <td>REMORTGAGE</td>\n",
       "      <td>71.254270</td>\n",
       "      <td>24255.0</td>\n",
       "      <td>0</td>\n",
       "    </tr>\n",
       "    <tr>\n",
       "      <th>4</th>\n",
       "      <td>2018-03-31</td>\n",
       "      <td>2006-01-01</td>\n",
       "      <td>2031-01-01</td>\n",
       "      <td>UNEMPLOYED</td>\n",
       "      <td>NO DATA</td>\n",
       "      <td>1977.0</td>\n",
       "      <td>No Data</td>\n",
       "      <td>939.614706</td>\n",
       "      <td>1989.0</td>\n",
       "      <td>3.0700</td>\n",
       "      <td>2.49</td>\n",
       "      <td>2.49</td>\n",
       "      <td>194983.10</td>\n",
       "      <td>N</td>\n",
       "      <td>5262.716415</td>\n",
       "      <td>171645.92</td>\n",
       "      <td>177000.0</td>\n",
       "      <td>No Data</td>\n",
       "      <td>UKE11</td>\n",
       "      <td>146</td>\n",
       "      <td>PURCHASE</td>\n",
       "      <td>88.031180</td>\n",
       "      <td>55273.0</td>\n",
       "      <td>0</td>\n",
       "    </tr>\n",
       "  </tbody>\n",
       "</table>\n",
       "</div>"
      ],
      "text/plain": [
       "  PoolCutoffDate LoanOriginationDate DateOfLoanMaturity  \\\n",
       "0     2016-12-31          2008-01-01         2025-01-01   \n",
       "1     2017-12-31          2001-01-01         2026-01-01   \n",
       "2     2017-05-31          2005-07-01         2030-07-01   \n",
       "3     2016-03-31          2008-04-01         2033-04-01   \n",
       "4     2018-03-31          2006-01-01         2031-01-01   \n",
       "\n",
       "  BorrowersEmploymentStatus BorrowerType  BorrowerYearOfBirth  \\\n",
       "0                UNEMPLOYED      NO DATA               1968.0   \n",
       "1                UNEMPLOYED      NO DATA               1976.0   \n",
       "2                  EMPLOYED      NO DATA               1983.0   \n",
       "3                UNEMPLOYED      NO DATA               1974.0   \n",
       "4                UNEMPLOYED      NO DATA               1977.0   \n",
       "\n",
       "  BorrowerCreditQuality  BureauScoreValue  ConstructionYear  \\\n",
       "0               No Data        939.614706            1950.0   \n",
       "1               No Data        939.614706            1910.0   \n",
       "2               No Data        939.614706            1935.0   \n",
       "3               No Data        939.614706            1910.0   \n",
       "4               No Data        939.614706            1989.0   \n",
       "\n",
       "   CurrentInterestRate  CurrentInterestRateMargin  FinalMargin  \\\n",
       "0               2.7759                       2.39         2.39   \n",
       "1               2.0200                       1.50         1.50   \n",
       "2               3.3300                       2.99         2.99   \n",
       "3               3.4300                       2.84         2.84   \n",
       "4               3.0700                       2.49         2.49   \n",
       "\n",
       "   CurrentValuationAmount FirstTimeBuyer  FlexibleLoanAmount  CurrentBalance  \\\n",
       "0               159453.27              N         5262.716415        49667.70   \n",
       "1               131051.84              N         5262.716415        21187.83   \n",
       "2               494755.16              N         5262.716415       200551.16   \n",
       "3               143621.55              N         5262.716415       102336.49   \n",
       "4               194983.10              N         5262.716415       171645.92   \n",
       "\n",
       "   OriginalBalance ForeignNational GeographicRegionList  LoanAge     Purpose  \\\n",
       "0         118000.0         No Data                UKG11      107    PURCHASE   \n",
       "1          47250.0         No Data                UKD11      203    PURCHASE   \n",
       "2         224544.0         No Data                UKI11      142    PURCHASE   \n",
       "3         101600.0         No Data                UKK11       95  REMORTGAGE   \n",
       "4         177000.0         No Data                UKE11      146    PURCHASE   \n",
       "\n",
       "        CLTV  TotalIncome  target  \n",
       "0  31.148750      51500.0       0  \n",
       "1  16.167519      21060.0       0  \n",
       "2  40.535435          0.0       1  \n",
       "3  71.254270      24255.0       0  \n",
       "4  88.031180      55273.0       0  "
      ]
     },
     "execution_count": 190,
     "metadata": {},
     "output_type": "execute_result"
    }
   ],
   "source": [
    "df.head()"
   ]
  },
  {
   "cell_type": "code",
   "execution_count": 191,
   "metadata": {},
   "outputs": [],
   "source": [
    "# Change the 'BorrowerYearOfBirth' column datatype to int \n",
    "# Create a new column and calculate the difference between the 'LoanOriginationDate'-'BorrowerYearOfBirth'\n",
    "# Borrowers age is more related than it is year of birth\n",
    "\n",
    "# Brower_Age_Loan_Start ---- Call the column name like that\n",
    "# Pull Cutoff Date can be used... \n",
    "# at the end, age of borrower, the loan originate in different time...\n",
    "\n",
    "# the crisses effect could be added, for the same age people at 20s could be effected differently. \n",
    "\n",
    "\n",
    "df['BorrowerYearOfBirth'] = df['BorrowerYearOfBirth'].astype(int)\n",
    "df['Borrower_Age'] = df['LoanOriginationDate'].dt.year.astype(int) - df['BorrowerYearOfBirth'].astype(int)\n",
    "\n",
    "df = df.drop(columns=['BorrowerYearOfBirth'], axis=1)"
   ]
  },
  {
   "cell_type": "code",
   "execution_count": 192,
   "metadata": {},
   "outputs": [
    {
     "data": {
      "text/plain": [
       "<matplotlib.axes._subplots.AxesSubplot at 0x7fb022ef4d50>"
      ]
     },
     "execution_count": 192,
     "metadata": {},
     "output_type": "execute_result"
    },
    {
     "data": {
      "image/png": "[encoded data removed]",
      "text/plain": [
       "<Figure size 432x288 with 1 Axes>"
      ]
     },
     "metadata": {
      "needs_background": "light"
     },
     "output_type": "display_data"
    }
   ],
   "source": [
    "# Check the distribution of the Borrowers age\n",
    "\n",
    "df['Borrower_Age'].hist()"
   ]
  },
  {
   "cell_type": "code",
   "execution_count": 193,
   "metadata": {},
   "outputs": [
    {
     "data": {
      "text/html": [
       "<div>\n",
       "<style scoped>\n",
       "    .dataframe tbody tr th:only-of-type {\n",
       "        vertical-align: middle;\n",
       "    }\n",
       "\n",
       "    .dataframe tbody tr th {\n",
       "        vertical-align: top;\n",
       "    }\n",
       "\n",
       "    .dataframe thead th {\n",
       "        text-align: right;\n",
       "    }\n",
       "</style>\n",
       "<table border=\"1\" class=\"dataframe\">\n",
       "  <thead>\n",
       "    <tr style=\"text-align: right;\">\n",
       "      <th></th>\n",
       "      <th>PoolCutoffDate</th>\n",
       "      <th>LoanOriginationDate</th>\n",
       "      <th>DateOfLoanMaturity</th>\n",
       "      <th>BorrowersEmploymentStatus</th>\n",
       "      <th>BorrowerType</th>\n",
       "      <th>BorrowerCreditQuality</th>\n",
       "      <th>BureauScoreValue</th>\n",
       "      <th>ConstructionYear</th>\n",
       "      <th>CurrentInterestRate</th>\n",
       "      <th>CurrentInterestRateMargin</th>\n",
       "      <th>FinalMargin</th>\n",
       "      <th>CurrentValuationAmount</th>\n",
       "      <th>FirstTimeBuyer</th>\n",
       "      <th>FlexibleLoanAmount</th>\n",
       "      <th>CurrentBalance</th>\n",
       "      <th>OriginalBalance</th>\n",
       "      <th>ForeignNational</th>\n",
       "      <th>GeographicRegionList</th>\n",
       "      <th>LoanAge</th>\n",
       "      <th>Purpose</th>\n",
       "      <th>CLTV</th>\n",
       "      <th>TotalIncome</th>\n",
       "      <th>target</th>\n",
       "      <th>Borrower_Age</th>\n",
       "    </tr>\n",
       "  </thead>\n",
       "  <tbody>\n",
       "    <tr>\n",
       "      <th>0</th>\n",
       "      <td>2016-12-31</td>\n",
       "      <td>2008-01-01</td>\n",
       "      <td>2025-01-01</td>\n",
       "      <td>UNEMPLOYED</td>\n",
       "      <td>NO DATA</td>\n",
       "      <td>No Data</td>\n",
       "      <td>939.614706</td>\n",
       "      <td>1950.0</td>\n",
       "      <td>2.7759</td>\n",
       "      <td>2.39</td>\n",
       "      <td>2.39</td>\n",
       "      <td>159453.27</td>\n",
       "      <td>N</td>\n",
       "      <td>5262.716415</td>\n",
       "      <td>49667.70</td>\n",
       "      <td>118000.0</td>\n",
       "      <td>No Data</td>\n",
       "      <td>UKG11</td>\n",
       "      <td>107</td>\n",
       "      <td>PURCHASE</td>\n",
       "      <td>31.148750</td>\n",
       "      <td>51500.0</td>\n",
       "      <td>0</td>\n",
       "      <td>40</td>\n",
       "    </tr>\n",
       "    <tr>\n",
       "      <th>1</th>\n",
       "      <td>2017-12-31</td>\n",
       "      <td>2001-01-01</td>\n",
       "      <td>2026-01-01</td>\n",
       "      <td>UNEMPLOYED</td>\n",
       "      <td>NO DATA</td>\n",
       "      <td>No Data</td>\n",
       "      <td>939.614706</td>\n",
       "      <td>1910.0</td>\n",
       "      <td>2.0200</td>\n",
       "      <td>1.50</td>\n",
       "      <td>1.50</td>\n",
       "      <td>131051.84</td>\n",
       "      <td>N</td>\n",
       "      <td>5262.716415</td>\n",
       "      <td>21187.83</td>\n",
       "      <td>47250.0</td>\n",
       "      <td>No Data</td>\n",
       "      <td>UKD11</td>\n",
       "      <td>203</td>\n",
       "      <td>PURCHASE</td>\n",
       "      <td>16.167519</td>\n",
       "      <td>21060.0</td>\n",
       "      <td>0</td>\n",
       "      <td>25</td>\n",
       "    </tr>\n",
       "    <tr>\n",
       "      <th>2</th>\n",
       "      <td>2017-05-31</td>\n",
       "      <td>2005-07-01</td>\n",
       "      <td>2030-07-01</td>\n",
       "      <td>EMPLOYED</td>\n",
       "      <td>NO DATA</td>\n",
       "      <td>No Data</td>\n",
       "      <td>939.614706</td>\n",
       "      <td>1935.0</td>\n",
       "      <td>3.3300</td>\n",
       "      <td>2.99</td>\n",
       "      <td>2.99</td>\n",
       "      <td>494755.16</td>\n",
       "      <td>N</td>\n",
       "      <td>5262.716415</td>\n",
       "      <td>200551.16</td>\n",
       "      <td>224544.0</td>\n",
       "      <td>No Data</td>\n",
       "      <td>UKI11</td>\n",
       "      <td>142</td>\n",
       "      <td>PURCHASE</td>\n",
       "      <td>40.535435</td>\n",
       "      <td>0.0</td>\n",
       "      <td>1</td>\n",
       "      <td>22</td>\n",
       "    </tr>\n",
       "    <tr>\n",
       "      <th>3</th>\n",
       "      <td>2016-03-31</td>\n",
       "      <td>2008-04-01</td>\n",
       "      <td>2033-04-01</td>\n",
       "      <td>UNEMPLOYED</td>\n",
       "      <td>NO DATA</td>\n",
       "      <td>No Data</td>\n",
       "      <td>939.614706</td>\n",
       "      <td>1910.0</td>\n",
       "      <td>3.4300</td>\n",
       "      <td>2.84</td>\n",
       "      <td>2.84</td>\n",
       "      <td>143621.55</td>\n",
       "      <td>N</td>\n",
       "      <td>5262.716415</td>\n",
       "      <td>102336.49</td>\n",
       "      <td>101600.0</td>\n",
       "      <td>No Data</td>\n",
       "      <td>UKK11</td>\n",
       "      <td>95</td>\n",
       "      <td>REMORTGAGE</td>\n",
       "      <td>71.254270</td>\n",
       "      <td>24255.0</td>\n",
       "      <td>0</td>\n",
       "      <td>34</td>\n",
       "    </tr>\n",
       "    <tr>\n",
       "      <th>4</th>\n",
       "      <td>2018-03-31</td>\n",
       "      <td>2006-01-01</td>\n",
       "      <td>2031-01-01</td>\n",
       "      <td>UNEMPLOYED</td>\n",
       "      <td>NO DATA</td>\n",
       "      <td>No Data</td>\n",
       "      <td>939.614706</td>\n",
       "      <td>1989.0</td>\n",
       "      <td>3.0700</td>\n",
       "      <td>2.49</td>\n",
       "      <td>2.49</td>\n",
       "      <td>194983.10</td>\n",
       "      <td>N</td>\n",
       "      <td>5262.716415</td>\n",
       "      <td>171645.92</td>\n",
       "      <td>177000.0</td>\n",
       "      <td>No Data</td>\n",
       "      <td>UKE11</td>\n",
       "      <td>146</td>\n",
       "      <td>PURCHASE</td>\n",
       "      <td>88.031180</td>\n",
       "      <td>55273.0</td>\n",
       "      <td>0</td>\n",
       "      <td>29</td>\n",
       "    </tr>\n",
       "  </tbody>\n",
       "</table>\n",
       "</div>"
      ],
      "text/plain": [
       "  PoolCutoffDate LoanOriginationDate DateOfLoanMaturity  \\\n",
       "0     2016-12-31          2008-01-01         2025-01-01   \n",
       "1     2017-12-31          2001-01-01         2026-01-01   \n",
       "2     2017-05-31          2005-07-01         2030-07-01   \n",
       "3     2016-03-31          2008-04-01         2033-04-01   \n",
       "4     2018-03-31          2006-01-01         2031-01-01   \n",
       "\n",
       "  BorrowersEmploymentStatus BorrowerType BorrowerCreditQuality  \\\n",
       "0                UNEMPLOYED      NO DATA               No Data   \n",
       "1                UNEMPLOYED      NO DATA               No Data   \n",
       "2                  EMPLOYED      NO DATA               No Data   \n",
       "3                UNEMPLOYED      NO DATA               No Data   \n",
       "4                UNEMPLOYED      NO DATA               No Data   \n",
       "\n",
       "   BureauScoreValue  ConstructionYear  CurrentInterestRate  \\\n",
       "0        939.614706            1950.0               2.7759   \n",
       "1        939.614706            1910.0               2.0200   \n",
       "2        939.614706            1935.0               3.3300   \n",
       "3        939.614706            1910.0               3.4300   \n",
       "4        939.614706            1989.0               3.0700   \n",
       "\n",
       "   CurrentInterestRateMargin  FinalMargin  CurrentValuationAmount  \\\n",
       "0                       2.39         2.39               159453.27   \n",
       "1                       1.50         1.50               131051.84   \n",
       "2                       2.99         2.99               494755.16   \n",
       "3                       2.84         2.84               143621.55   \n",
       "4                       2.49         2.49               194983.10   \n",
       "\n",
       "  FirstTimeBuyer  FlexibleLoanAmount  CurrentBalance  OriginalBalance  \\\n",
       "0              N         5262.716415        49667.70         118000.0   \n",
       "1              N         5262.716415        21187.83          47250.0   \n",
       "2              N         5262.716415       200551.16         224544.0   \n",
       "3              N         5262.716415       102336.49         101600.0   \n",
       "4              N         5262.716415       171645.92         177000.0   \n",
       "\n",
       "  ForeignNational GeographicRegionList  LoanAge     Purpose       CLTV  \\\n",
       "0         No Data                UKG11      107    PURCHASE  31.148750   \n",
       "1         No Data                UKD11      203    PURCHASE  16.167519   \n",
       "2         No Data                UKI11      142    PURCHASE  40.535435   \n",
       "3         No Data                UKK11       95  REMORTGAGE  71.254270   \n",
       "4         No Data                UKE11      146    PURCHASE  88.031180   \n",
       "\n",
       "   TotalIncome  target  Borrower_Age  \n",
       "0      51500.0       0            40  \n",
       "1      21060.0       0            25  \n",
       "2          0.0       1            22  \n",
       "3      24255.0       0            34  \n",
       "4      55273.0       0            29  "
      ]
     },
     "execution_count": 193,
     "metadata": {},
     "output_type": "execute_result"
    }
   ],
   "source": [
    "df.head()"
   ]
  },
  {
   "cell_type": "code",
   "execution_count": 194,
   "metadata": {},
   "outputs": [
    {
     "name": "stdout",
     "output_type": "stream",
     "text": [
      "<class 'pandas.core.frame.DataFrame'>\n",
      "RangeIndex: 98093 entries, 0 to 98092\n",
      "Data columns (total 24 columns):\n",
      " #   Column                     Non-Null Count  Dtype         \n",
      "---  ------                     --------------  -----         \n",
      " 0   PoolCutoffDate             98093 non-null  datetime64[ns]\n",
      " 1   LoanOriginationDate        98093 non-null  datetime64[ns]\n",
      " 2   DateOfLoanMaturity         98093 non-null  datetime64[ns]\n",
      " 3   BorrowersEmploymentStatus  98093 non-null  object        \n",
      " 4   BorrowerType               98093 non-null  object        \n",
      " 5   BorrowerCreditQuality      98093 non-null  object        \n",
      " 6   BureauScoreValue           98093 non-null  float64       \n",
      " 7   ConstructionYear           98093 non-null  float64       \n",
      " 8   CurrentInterestRate        98093 non-null  float64       \n",
      " 9   CurrentInterestRateMargin  98093 non-null  float64       \n",
      " 10  FinalMargin                98093 non-null  float64       \n",
      " 11  CurrentValuationAmount     98093 non-null  float64       \n",
      " 12  FirstTimeBuyer             98093 non-null  object        \n",
      " 13  FlexibleLoanAmount         98093 non-null  float64       \n",
      " 14  CurrentBalance             98093 non-null  float64       \n",
      " 15  OriginalBalance            98093 non-null  float64       \n",
      " 16  ForeignNational            98093 non-null  object        \n",
      " 17  GeographicRegionList       98093 non-null  object        \n",
      " 18  LoanAge                    98093 non-null  int64         \n",
      " 19  Purpose                    98093 non-null  object        \n",
      " 20  CLTV                       98093 non-null  float64       \n",
      " 21  TotalIncome                98093 non-null  float64       \n",
      " 22  target                     98093 non-null  int64         \n",
      " 23  Borrower_Age               98093 non-null  int64         \n",
      "dtypes: datetime64[ns](3), float64(11), int64(3), object(7)\n",
      "memory usage: 18.0+ MB\n"
     ]
    }
   ],
   "source": [
    "df.info()"
   ]
  },
  {
   "cell_type": "code",
   "execution_count": 195,
   "metadata": {},
   "outputs": [],
   "source": [
    "# The age group over 60 and below 25 might be bias therefore drop those age groups\n",
    "\n",
    "# Student under 25 remove\n",
    "# we should be extremely careful when we removing the data\n",
    "# 18-25 years old, try to keep as much as you can \n",
    "\n",
    "\n",
    "df = df[((df['Borrower_Age'] < 60)  | \n",
    "         (df['Borrower_Age'] > 25)) & \n",
    "        \n",
    "        (df['BorrowerType'] != 'COMMERCIAL')]\n",
    "\n",
    "df = df.reset_index(drop=True)"
   ]
  },
  {
   "cell_type": "markdown",
   "metadata": {},
   "source": [
    "### 4.4.4 - 'BorrowerYearOfBirth' Columns"
   ]
  },
  {
   "cell_type": "code",
   "execution_count": 196,
   "metadata": {},
   "outputs": [
    {
     "data": {
      "text/plain": [
       "No Data        48085\n",
       "Prime          33565\n",
       "PRIME           6579\n",
       "PASS TYPE A     3795\n",
       "PASS TYPE B     3380\n",
       "PASS TYPE C     2529\n",
       "Vida 1            57\n",
       "Acquired          49\n",
       "Vida 2            13\n",
       "Vida 3             8\n",
       "Near Prime         7\n",
       "Vida 4             5\n",
       "Vida 5             1\n",
       "Name: BorrowerCreditQuality, dtype: int64"
      ]
     },
     "execution_count": 196,
     "metadata": {},
     "output_type": "execute_result"
    }
   ],
   "source": [
    "# Change the values in the 'BorrowerCreditQuality' column\n",
    "\n",
    "# We dont know where the data come from, \n",
    "# internal credit score, we most of the time, not used it\n",
    "# \n",
    "\n",
    "replace_CreditQuality = {'No Data'     :'NO DATA' ,\n",
    "                         'Prime'       :'PRIME'   ,\n",
    "                         'Near Prime'  :'PRIME'   ,\n",
    "                         'Vida 1'      :'VIDA'    ,\n",
    "                         'Vida 2'      :'VIDA'    ,\n",
    "                         'Vida 3'      :'VIDA'    ,\n",
    "                         'Vida 4'      :'VIDA'    ,\n",
    "                         'Vida 5'      :'VIDA'    ,\n",
    "                         'Acquired'    :'ACQUIRED'\n",
    "                        }\n",
    "\n",
    "df['BorrowerCreditQuality'].value_counts()"
   ]
  },
  {
   "cell_type": "markdown",
   "metadata": {},
   "source": [
    "### 4.4.5 - 'FirstTimeBuyer' Columns"
   ]
  },
  {
   "cell_type": "code",
   "execution_count": 197,
   "metadata": {},
   "outputs": [
    {
     "data": {
      "text/plain": [
       "N          48685\n",
       "No Data    36816\n",
       "Y          12572\n",
       "Name: FirstTimeBuyer, dtype: int64"
      ]
     },
     "execution_count": 197,
     "metadata": {},
     "output_type": "execute_result"
    }
   ],
   "source": [
    "# No Action is needed for this column\n",
    "\n",
    "df['FirstTimeBuyer'].value_counts()"
   ]
  },
  {
   "cell_type": "markdown",
   "metadata": {},
   "source": [
    "### 4.4.6 - 'ForeignNational' Columns"
   ]
  },
  {
   "cell_type": "code",
   "execution_count": 198,
   "metadata": {},
   "outputs": [
    {
     "data": {
      "text/plain": [
       "No Data    79575\n",
       "Y          17888\n",
       "N            610\n",
       "Name: ForeignNational, dtype: int64"
      ]
     },
     "execution_count": 198,
     "metadata": {},
     "output_type": "execute_result"
    }
   ],
   "source": [
    "# No Action is needed for this column\n",
    "\n",
    "df['ForeignNational'].value_counts()"
   ]
  },
  {
   "cell_type": "markdown",
   "metadata": {},
   "source": [
    "### 4.4.7 - 'GeographicRegionList' Columns"
   ]
  },
  {
   "cell_type": "code",
   "execution_count": 199,
   "metadata": {},
   "outputs": [
    {
     "data": {
      "text/html": [
       "<div>\n",
       "<style scoped>\n",
       "    .dataframe tbody tr th:only-of-type {\n",
       "        vertical-align: middle;\n",
       "    }\n",
       "\n",
       "    .dataframe tbody tr th {\n",
       "        vertical-align: top;\n",
       "    }\n",
       "\n",
       "    .dataframe thead th {\n",
       "        text-align: right;\n",
       "    }\n",
       "</style>\n",
       "<table border=\"1\" class=\"dataframe\">\n",
       "  <thead>\n",
       "    <tr style=\"text-align: right;\">\n",
       "      <th></th>\n",
       "      <th>GeographicRegionList</th>\n",
       "      <th>Level</th>\n",
       "    </tr>\n",
       "  </thead>\n",
       "  <tbody>\n",
       "    <tr>\n",
       "      <th>0</th>\n",
       "      <td>NaN</td>\n",
       "      <td>1</td>\n",
       "    </tr>\n",
       "    <tr>\n",
       "      <th>1</th>\n",
       "      <td>BE</td>\n",
       "      <td>2</td>\n",
       "    </tr>\n",
       "  </tbody>\n",
       "</table>\n",
       "</div>"
      ],
      "text/plain": [
       "  GeographicRegionList  Level\n",
       "0                  NaN      1\n",
       "1                   BE      2"
      ]
     },
     "execution_count": 199,
     "metadata": {},
     "output_type": "execute_result"
    }
   ],
   "source": [
    "# Use external file for nuts_list \n",
    "\n",
    "nuts_list = nuts_list[['NUTS-Code','Level']]\n",
    "nuts_list = nuts_list.rename({'NUTS-Code':'GeographicRegionList'}, axis=1)\n",
    "\n",
    "nuts_list = nuts_list.drop_duplicates()\n",
    "nuts_list.head(2)"
   ]
  },
  {
   "cell_type": "code",
   "execution_count": 200,
   "metadata": {},
   "outputs": [],
   "source": [
    "# Merge the nuts_list file and main data set\n",
    "# Drop the null values after merging\n",
    "\n",
    "df = df.merge(nuts_list, on=['GeographicRegionList'], how='left')\n",
    "df = df[df['Level'].notnull()]"
   ]
  },
  {
   "cell_type": "code",
   "execution_count": 201,
   "metadata": {},
   "outputs": [],
   "source": [
    "# Drop the 'GeographicRegionList' column - dummy variable\n",
    "\n",
    "df = df.drop(columns=['GeographicRegionList'], axis=1)"
   ]
  },
  {
   "cell_type": "markdown",
   "metadata": {},
   "source": [
    "### 4.4.8 - 'Purpose' Columns"
   ]
  },
  {
   "cell_type": "code",
   "execution_count": 202,
   "metadata": {},
   "outputs": [
    {
     "data": {
      "text/plain": [
       "PURCHASE                     53871\n",
       "REMORTGAGE                   30218\n",
       "DEBT CONSOLIDATION            3256\n",
       "REMORTGAGE EQUITY RELEASE     2015\n",
       "RENOVATION                    1301\n",
       "EQUITY RELEASE                1251\n",
       "NO DATA                        949\n",
       "RIGHT TO BUY                   942\n",
       "INVESTMENT                     729\n",
       "OTHER                          299\n",
       "REMORTGAGE NEW TERMS            69\n",
       "CONSTRUCTION                     2\n",
       "Name: Purpose, dtype: int64"
      ]
     },
     "execution_count": 202,
     "metadata": {},
     "output_type": "execute_result"
    }
   ],
   "source": [
    "# Check the 'Purpose' column\n",
    "\n",
    "df['Purpose'].value_counts()"
   ]
  },
  {
   "cell_type": "code",
   "execution_count": 203,
   "metadata": {},
   "outputs": [],
   "source": [
    "# Change the data in Purpose column\n",
    "\n",
    "df['Purpose'] = df['Purpose'].apply(lambda x: 'NO DATA' if x == 'OTHER' else x)"
   ]
  },
  {
   "cell_type": "markdown",
   "metadata": {},
   "source": [
    "### 4.4.9 - 'LoanOriginationDate' & 'DateOfLoanMaturity' Columns"
   ]
  },
  {
   "cell_type": "code",
   "execution_count": 204,
   "metadata": {},
   "outputs": [
    {
     "data": {
      "text/html": [
       "<div>\n",
       "<style scoped>\n",
       "    .dataframe tbody tr th:only-of-type {\n",
       "        vertical-align: middle;\n",
       "    }\n",
       "\n",
       "    .dataframe tbody tr th {\n",
       "        vertical-align: top;\n",
       "    }\n",
       "\n",
       "    .dataframe thead th {\n",
       "        text-align: right;\n",
       "    }\n",
       "</style>\n",
       "<table border=\"1\" class=\"dataframe\">\n",
       "  <thead>\n",
       "    <tr style=\"text-align: right;\">\n",
       "      <th></th>\n",
       "      <th>PoolCutoffDate</th>\n",
       "      <th>LoanOriginationDate</th>\n",
       "      <th>DateOfLoanMaturity</th>\n",
       "      <th>BorrowersEmploymentStatus</th>\n",
       "      <th>BorrowerType</th>\n",
       "      <th>BorrowerCreditQuality</th>\n",
       "      <th>BureauScoreValue</th>\n",
       "      <th>ConstructionYear</th>\n",
       "      <th>CurrentInterestRate</th>\n",
       "      <th>CurrentInterestRateMargin</th>\n",
       "      <th>FinalMargin</th>\n",
       "      <th>CurrentValuationAmount</th>\n",
       "      <th>FirstTimeBuyer</th>\n",
       "      <th>FlexibleLoanAmount</th>\n",
       "      <th>CurrentBalance</th>\n",
       "      <th>OriginalBalance</th>\n",
       "      <th>ForeignNational</th>\n",
       "      <th>LoanAge</th>\n",
       "      <th>Purpose</th>\n",
       "      <th>CLTV</th>\n",
       "      <th>TotalIncome</th>\n",
       "      <th>target</th>\n",
       "      <th>Borrower_Age</th>\n",
       "      <th>Level</th>\n",
       "    </tr>\n",
       "  </thead>\n",
       "  <tbody>\n",
       "    <tr>\n",
       "      <th>0</th>\n",
       "      <td>2016-12-31</td>\n",
       "      <td>2008-01-01</td>\n",
       "      <td>2025-01-01</td>\n",
       "      <td>UNEMPLOYED</td>\n",
       "      <td>NO DATA</td>\n",
       "      <td>No Data</td>\n",
       "      <td>939.614706</td>\n",
       "      <td>1950.0</td>\n",
       "      <td>2.7759</td>\n",
       "      <td>2.39</td>\n",
       "      <td>2.39</td>\n",
       "      <td>159453.27</td>\n",
       "      <td>N</td>\n",
       "      <td>5262.716415</td>\n",
       "      <td>49667.70</td>\n",
       "      <td>118000.0</td>\n",
       "      <td>No Data</td>\n",
       "      <td>107</td>\n",
       "      <td>PURCHASE</td>\n",
       "      <td>31.148750</td>\n",
       "      <td>51500.0</td>\n",
       "      <td>0</td>\n",
       "      <td>40</td>\n",
       "      <td>3.0</td>\n",
       "    </tr>\n",
       "    <tr>\n",
       "      <th>1</th>\n",
       "      <td>2017-12-31</td>\n",
       "      <td>2001-01-01</td>\n",
       "      <td>2026-01-01</td>\n",
       "      <td>UNEMPLOYED</td>\n",
       "      <td>NO DATA</td>\n",
       "      <td>No Data</td>\n",
       "      <td>939.614706</td>\n",
       "      <td>1910.0</td>\n",
       "      <td>2.0200</td>\n",
       "      <td>1.50</td>\n",
       "      <td>1.50</td>\n",
       "      <td>131051.84</td>\n",
       "      <td>N</td>\n",
       "      <td>5262.716415</td>\n",
       "      <td>21187.83</td>\n",
       "      <td>47250.0</td>\n",
       "      <td>No Data</td>\n",
       "      <td>203</td>\n",
       "      <td>PURCHASE</td>\n",
       "      <td>16.167519</td>\n",
       "      <td>21060.0</td>\n",
       "      <td>0</td>\n",
       "      <td>25</td>\n",
       "      <td>3.0</td>\n",
       "    </tr>\n",
       "    <tr>\n",
       "      <th>2</th>\n",
       "      <td>2017-05-31</td>\n",
       "      <td>2005-07-01</td>\n",
       "      <td>2030-07-01</td>\n",
       "      <td>EMPLOYED</td>\n",
       "      <td>NO DATA</td>\n",
       "      <td>No Data</td>\n",
       "      <td>939.614706</td>\n",
       "      <td>1935.0</td>\n",
       "      <td>3.3300</td>\n",
       "      <td>2.99</td>\n",
       "      <td>2.99</td>\n",
       "      <td>494755.16</td>\n",
       "      <td>N</td>\n",
       "      <td>5262.716415</td>\n",
       "      <td>200551.16</td>\n",
       "      <td>224544.0</td>\n",
       "      <td>No Data</td>\n",
       "      <td>142</td>\n",
       "      <td>PURCHASE</td>\n",
       "      <td>40.535435</td>\n",
       "      <td>0.0</td>\n",
       "      <td>1</td>\n",
       "      <td>22</td>\n",
       "      <td>3.0</td>\n",
       "    </tr>\n",
       "    <tr>\n",
       "      <th>3</th>\n",
       "      <td>2016-03-31</td>\n",
       "      <td>2008-04-01</td>\n",
       "      <td>2033-04-01</td>\n",
       "      <td>UNEMPLOYED</td>\n",
       "      <td>NO DATA</td>\n",
       "      <td>No Data</td>\n",
       "      <td>939.614706</td>\n",
       "      <td>1910.0</td>\n",
       "      <td>3.4300</td>\n",
       "      <td>2.84</td>\n",
       "      <td>2.84</td>\n",
       "      <td>143621.55</td>\n",
       "      <td>N</td>\n",
       "      <td>5262.716415</td>\n",
       "      <td>102336.49</td>\n",
       "      <td>101600.0</td>\n",
       "      <td>No Data</td>\n",
       "      <td>95</td>\n",
       "      <td>REMORTGAGE</td>\n",
       "      <td>71.254270</td>\n",
       "      <td>24255.0</td>\n",
       "      <td>0</td>\n",
       "      <td>34</td>\n",
       "      <td>3.0</td>\n",
       "    </tr>\n",
       "    <tr>\n",
       "      <th>4</th>\n",
       "      <td>2018-03-31</td>\n",
       "      <td>2006-01-01</td>\n",
       "      <td>2031-01-01</td>\n",
       "      <td>UNEMPLOYED</td>\n",
       "      <td>NO DATA</td>\n",
       "      <td>No Data</td>\n",
       "      <td>939.614706</td>\n",
       "      <td>1989.0</td>\n",
       "      <td>3.0700</td>\n",
       "      <td>2.49</td>\n",
       "      <td>2.49</td>\n",
       "      <td>194983.10</td>\n",
       "      <td>N</td>\n",
       "      <td>5262.716415</td>\n",
       "      <td>171645.92</td>\n",
       "      <td>177000.0</td>\n",
       "      <td>No Data</td>\n",
       "      <td>146</td>\n",
       "      <td>PURCHASE</td>\n",
       "      <td>88.031180</td>\n",
       "      <td>55273.0</td>\n",
       "      <td>0</td>\n",
       "      <td>29</td>\n",
       "      <td>3.0</td>\n",
       "    </tr>\n",
       "  </tbody>\n",
       "</table>\n",
       "</div>"
      ],
      "text/plain": [
       "  PoolCutoffDate LoanOriginationDate DateOfLoanMaturity  \\\n",
       "0     2016-12-31          2008-01-01         2025-01-01   \n",
       "1     2017-12-31          2001-01-01         2026-01-01   \n",
       "2     2017-05-31          2005-07-01         2030-07-01   \n",
       "3     2016-03-31          2008-04-01         2033-04-01   \n",
       "4     2018-03-31          2006-01-01         2031-01-01   \n",
       "\n",
       "  BorrowersEmploymentStatus BorrowerType BorrowerCreditQuality  \\\n",
       "0                UNEMPLOYED      NO DATA               No Data   \n",
       "1                UNEMPLOYED      NO DATA               No Data   \n",
       "2                  EMPLOYED      NO DATA               No Data   \n",
       "3                UNEMPLOYED      NO DATA               No Data   \n",
       "4                UNEMPLOYED      NO DATA               No Data   \n",
       "\n",
       "   BureauScoreValue  ConstructionYear  CurrentInterestRate  \\\n",
       "0        939.614706            1950.0               2.7759   \n",
       "1        939.614706            1910.0               2.0200   \n",
       "2        939.614706            1935.0               3.3300   \n",
       "3        939.614706            1910.0               3.4300   \n",
       "4        939.614706            1989.0               3.0700   \n",
       "\n",
       "   CurrentInterestRateMargin  FinalMargin  CurrentValuationAmount  \\\n",
       "0                       2.39         2.39               159453.27   \n",
       "1                       1.50         1.50               131051.84   \n",
       "2                       2.99         2.99               494755.16   \n",
       "3                       2.84         2.84               143621.55   \n",
       "4                       2.49         2.49               194983.10   \n",
       "\n",
       "  FirstTimeBuyer  FlexibleLoanAmount  CurrentBalance  OriginalBalance  \\\n",
       "0              N         5262.716415        49667.70         118000.0   \n",
       "1              N         5262.716415        21187.83          47250.0   \n",
       "2              N         5262.716415       200551.16         224544.0   \n",
       "3              N         5262.716415       102336.49         101600.0   \n",
       "4              N         5262.716415       171645.92         177000.0   \n",
       "\n",
       "  ForeignNational  LoanAge     Purpose       CLTV  TotalIncome  target  \\\n",
       "0         No Data      107    PURCHASE  31.148750      51500.0       0   \n",
       "1         No Data      203    PURCHASE  16.167519      21060.0       0   \n",
       "2         No Data      142    PURCHASE  40.535435          0.0       1   \n",
       "3         No Data       95  REMORTGAGE  71.254270      24255.0       0   \n",
       "4         No Data      146    PURCHASE  88.031180      55273.0       0   \n",
       "\n",
       "   Borrower_Age  Level  \n",
       "0            40    3.0  \n",
       "1            25    3.0  \n",
       "2            22    3.0  \n",
       "3            34    3.0  \n",
       "4            29    3.0  "
      ]
     },
     "execution_count": 204,
     "metadata": {},
     "output_type": "execute_result"
    }
   ],
   "source": [
    "df.head()"
   ]
  },
  {
   "cell_type": "code",
   "execution_count": 205,
   "metadata": {},
   "outputs": [],
   "source": [
    "# Create a new column 'Diff_Maturity_Origin' and take the difference between \n",
    "# 'DateOfLoanMaturity' - 'LoanOriginationDate'\n",
    "\n",
    "# Create a new column 'Diff_Cutoff_Origin' and take the difference between \n",
    "# 'PoolCutoffDate' - 'LoanOriginationDate'\n",
    "\n",
    "# Term of the Loan\n",
    "# Second one is remaning term.\n",
    "\n",
    "# More can be happens in the 30 years\n",
    "# How many months left ?\n",
    "# Instead of days always use months\n",
    "\n",
    "df['Diff_Maturity_Origin'] = (df['DateOfLoanMaturity'] - df['LoanOriginationDate']).dt.days\n",
    "df['Diff_Cutoff_Origin']   = (df['PoolCutoffDate']     - df['LoanOriginationDate']).dt.days"
   ]
  },
  {
   "cell_type": "code",
   "execution_count": 206,
   "metadata": {},
   "outputs": [],
   "source": [
    "# Drop the 'PoolCutoffDate','LoanOriginationDate','DateOfLoanMaturity'\n",
    "# Dummy variables \n",
    "\n",
    "df = df.drop(columns=['PoolCutoffDate','LoanOriginationDate','DateOfLoanMaturity'], axis=1)"
   ]
  },
  {
   "cell_type": "code",
   "execution_count": 207,
   "metadata": {},
   "outputs": [
    {
     "data": {
      "text/html": [
       "<div>\n",
       "<style scoped>\n",
       "    .dataframe tbody tr th:only-of-type {\n",
       "        vertical-align: middle;\n",
       "    }\n",
       "\n",
       "    .dataframe tbody tr th {\n",
       "        vertical-align: top;\n",
       "    }\n",
       "\n",
       "    .dataframe thead th {\n",
       "        text-align: right;\n",
       "    }\n",
       "</style>\n",
       "<table border=\"1\" class=\"dataframe\">\n",
       "  <thead>\n",
       "    <tr style=\"text-align: right;\">\n",
       "      <th></th>\n",
       "      <th>BorrowersEmploymentStatus</th>\n",
       "      <th>BorrowerType</th>\n",
       "      <th>BorrowerCreditQuality</th>\n",
       "      <th>BureauScoreValue</th>\n",
       "      <th>ConstructionYear</th>\n",
       "      <th>CurrentInterestRate</th>\n",
       "      <th>CurrentInterestRateMargin</th>\n",
       "      <th>FinalMargin</th>\n",
       "      <th>CurrentValuationAmount</th>\n",
       "      <th>FirstTimeBuyer</th>\n",
       "      <th>FlexibleLoanAmount</th>\n",
       "      <th>CurrentBalance</th>\n",
       "      <th>OriginalBalance</th>\n",
       "      <th>ForeignNational</th>\n",
       "      <th>LoanAge</th>\n",
       "      <th>Purpose</th>\n",
       "      <th>CLTV</th>\n",
       "      <th>TotalIncome</th>\n",
       "      <th>target</th>\n",
       "      <th>Borrower_Age</th>\n",
       "      <th>Level</th>\n",
       "      <th>Diff_Maturity_Origin</th>\n",
       "      <th>Diff_Cutoff_Origin</th>\n",
       "    </tr>\n",
       "  </thead>\n",
       "  <tbody>\n",
       "    <tr>\n",
       "      <th>0</th>\n",
       "      <td>UNEMPLOYED</td>\n",
       "      <td>NO DATA</td>\n",
       "      <td>No Data</td>\n",
       "      <td>939.614706</td>\n",
       "      <td>1950.0</td>\n",
       "      <td>2.7759</td>\n",
       "      <td>2.39</td>\n",
       "      <td>2.39</td>\n",
       "      <td>159453.27</td>\n",
       "      <td>N</td>\n",
       "      <td>5262.716415</td>\n",
       "      <td>49667.70</td>\n",
       "      <td>118000.0</td>\n",
       "      <td>No Data</td>\n",
       "      <td>107</td>\n",
       "      <td>PURCHASE</td>\n",
       "      <td>31.148750</td>\n",
       "      <td>51500.0</td>\n",
       "      <td>0</td>\n",
       "      <td>40</td>\n",
       "      <td>3.0</td>\n",
       "      <td>6210</td>\n",
       "      <td>3287</td>\n",
       "    </tr>\n",
       "    <tr>\n",
       "      <th>1</th>\n",
       "      <td>UNEMPLOYED</td>\n",
       "      <td>NO DATA</td>\n",
       "      <td>No Data</td>\n",
       "      <td>939.614706</td>\n",
       "      <td>1910.0</td>\n",
       "      <td>2.0200</td>\n",
       "      <td>1.50</td>\n",
       "      <td>1.50</td>\n",
       "      <td>131051.84</td>\n",
       "      <td>N</td>\n",
       "      <td>5262.716415</td>\n",
       "      <td>21187.83</td>\n",
       "      <td>47250.0</td>\n",
       "      <td>No Data</td>\n",
       "      <td>203</td>\n",
       "      <td>PURCHASE</td>\n",
       "      <td>16.167519</td>\n",
       "      <td>21060.0</td>\n",
       "      <td>0</td>\n",
       "      <td>25</td>\n",
       "      <td>3.0</td>\n",
       "      <td>9131</td>\n",
       "      <td>6208</td>\n",
       "    </tr>\n",
       "    <tr>\n",
       "      <th>2</th>\n",
       "      <td>EMPLOYED</td>\n",
       "      <td>NO DATA</td>\n",
       "      <td>No Data</td>\n",
       "      <td>939.614706</td>\n",
       "      <td>1935.0</td>\n",
       "      <td>3.3300</td>\n",
       "      <td>2.99</td>\n",
       "      <td>2.99</td>\n",
       "      <td>494755.16</td>\n",
       "      <td>N</td>\n",
       "      <td>5262.716415</td>\n",
       "      <td>200551.16</td>\n",
       "      <td>224544.0</td>\n",
       "      <td>No Data</td>\n",
       "      <td>142</td>\n",
       "      <td>PURCHASE</td>\n",
       "      <td>40.535435</td>\n",
       "      <td>0.0</td>\n",
       "      <td>1</td>\n",
       "      <td>22</td>\n",
       "      <td>3.0</td>\n",
       "      <td>9131</td>\n",
       "      <td>4352</td>\n",
       "    </tr>\n",
       "    <tr>\n",
       "      <th>3</th>\n",
       "      <td>UNEMPLOYED</td>\n",
       "      <td>NO DATA</td>\n",
       "      <td>No Data</td>\n",
       "      <td>939.614706</td>\n",
       "      <td>1910.0</td>\n",
       "      <td>3.4300</td>\n",
       "      <td>2.84</td>\n",
       "      <td>2.84</td>\n",
       "      <td>143621.55</td>\n",
       "      <td>N</td>\n",
       "      <td>5262.716415</td>\n",
       "      <td>102336.49</td>\n",
       "      <td>101600.0</td>\n",
       "      <td>No Data</td>\n",
       "      <td>95</td>\n",
       "      <td>REMORTGAGE</td>\n",
       "      <td>71.254270</td>\n",
       "      <td>24255.0</td>\n",
       "      <td>0</td>\n",
       "      <td>34</td>\n",
       "      <td>3.0</td>\n",
       "      <td>9131</td>\n",
       "      <td>2921</td>\n",
       "    </tr>\n",
       "    <tr>\n",
       "      <th>4</th>\n",
       "      <td>UNEMPLOYED</td>\n",
       "      <td>NO DATA</td>\n",
       "      <td>No Data</td>\n",
       "      <td>939.614706</td>\n",
       "      <td>1989.0</td>\n",
       "      <td>3.0700</td>\n",
       "      <td>2.49</td>\n",
       "      <td>2.49</td>\n",
       "      <td>194983.10</td>\n",
       "      <td>N</td>\n",
       "      <td>5262.716415</td>\n",
       "      <td>171645.92</td>\n",
       "      <td>177000.0</td>\n",
       "      <td>No Data</td>\n",
       "      <td>146</td>\n",
       "      <td>PURCHASE</td>\n",
       "      <td>88.031180</td>\n",
       "      <td>55273.0</td>\n",
       "      <td>0</td>\n",
       "      <td>29</td>\n",
       "      <td>3.0</td>\n",
       "      <td>9131</td>\n",
       "      <td>4472</td>\n",
       "    </tr>\n",
       "  </tbody>\n",
       "</table>\n",
       "</div>"
      ],
      "text/plain": [
       "  BorrowersEmploymentStatus BorrowerType BorrowerCreditQuality  \\\n",
       "0                UNEMPLOYED      NO DATA               No Data   \n",
       "1                UNEMPLOYED      NO DATA               No Data   \n",
       "2                  EMPLOYED      NO DATA               No Data   \n",
       "3                UNEMPLOYED      NO DATA               No Data   \n",
       "4                UNEMPLOYED      NO DATA               No Data   \n",
       "\n",
       "   BureauScoreValue  ConstructionYear  CurrentInterestRate  \\\n",
       "0        939.614706            1950.0               2.7759   \n",
       "1        939.614706            1910.0               2.0200   \n",
       "2        939.614706            1935.0               3.3300   \n",
       "3        939.614706            1910.0               3.4300   \n",
       "4        939.614706            1989.0               3.0700   \n",
       "\n",
       "   CurrentInterestRateMargin  FinalMargin  CurrentValuationAmount  \\\n",
       "0                       2.39         2.39               159453.27   \n",
       "1                       1.50         1.50               131051.84   \n",
       "2                       2.99         2.99               494755.16   \n",
       "3                       2.84         2.84               143621.55   \n",
       "4                       2.49         2.49               194983.10   \n",
       "\n",
       "  FirstTimeBuyer  FlexibleLoanAmount  CurrentBalance  OriginalBalance  \\\n",
       "0              N         5262.716415        49667.70         118000.0   \n",
       "1              N         5262.716415        21187.83          47250.0   \n",
       "2              N         5262.716415       200551.16         224544.0   \n",
       "3              N         5262.716415       102336.49         101600.0   \n",
       "4              N         5262.716415       171645.92         177000.0   \n",
       "\n",
       "  ForeignNational  LoanAge     Purpose       CLTV  TotalIncome  target  \\\n",
       "0         No Data      107    PURCHASE  31.148750      51500.0       0   \n",
       "1         No Data      203    PURCHASE  16.167519      21060.0       0   \n",
       "2         No Data      142    PURCHASE  40.535435          0.0       1   \n",
       "3         No Data       95  REMORTGAGE  71.254270      24255.0       0   \n",
       "4         No Data      146    PURCHASE  88.031180      55273.0       0   \n",
       "\n",
       "   Borrower_Age  Level  Diff_Maturity_Origin  Diff_Cutoff_Origin  \n",
       "0            40    3.0                  6210                3287  \n",
       "1            25    3.0                  9131                6208  \n",
       "2            22    3.0                  9131                4352  \n",
       "3            34    3.0                  9131                2921  \n",
       "4            29    3.0                  9131                4472  "
      ]
     },
     "execution_count": 207,
     "metadata": {},
     "output_type": "execute_result"
    }
   ],
   "source": [
    "df.head()"
   ]
  },
  {
   "cell_type": "code",
   "execution_count": 208,
   "metadata": {},
   "outputs": [
    {
     "data": {
      "text/plain": [
       "EMPLOYED         60450\n",
       "UNEMPLOYED       21786\n",
       "SELF EMPLOYED    11422\n",
       "PENSIONER         1244\n",
       "Name: BorrowersEmploymentStatus, dtype: int64"
      ]
     },
     "execution_count": 208,
     "metadata": {},
     "output_type": "execute_result"
    }
   ],
   "source": [
    "# Check the 'BorrowersEmploymentStatus'\n",
    "\n",
    "df['BorrowersEmploymentStatus'].value_counts()"
   ]
  },
  {
   "cell_type": "markdown",
   "metadata": {},
   "source": [
    "## 4.5 Exploratory Analysis"
   ]
  },
  {
   "cell_type": "markdown",
   "metadata": {},
   "source": [
    "### 4.5.1 Exploratory Analysis and Outliers"
   ]
  },
  {
   "cell_type": "code",
   "execution_count": 209,
   "metadata": {},
   "outputs": [
    {
     "name": "stderr",
     "output_type": "stream",
     "text": [
      "No handles with labels found to put in legend.\n"
     ]
    },
    {
     "data": {
      "text/plain": [
       "<matplotlib.legend.Legend at 0x7fb022edc490>"
      ]
     },
     "execution_count": 209,
     "metadata": {},
     "output_type": "execute_result"
    },
    {
     "data": {
      "image/png": "[encoded data removed]",
      "text/plain": [
       "<Figure size 432x288 with 1 Axes>"
      ]
     },
     "metadata": {
      "needs_background": "light"
     },
     "output_type": "display_data"
    }
   ],
   "source": [
    "# Relationship between columns\n",
    "plt.scatter(df['BorrowersEmploymentStatus'], df['TotalIncome'])\n",
    "\n",
    "plt.xlabel('BorrowersEmploymentStatus')\n",
    "plt.ylabel('TotalIncome')\n",
    "plt.legend()\n"
   ]
  },
  {
   "cell_type": "code",
   "execution_count": 210,
   "metadata": {},
   "outputs": [],
   "source": [
    "# Drop the outliers if the 'EmploymentStatus' ==> Self Employed and 'Total Income' is over 1 000 000\n",
    "# It looks like a outliers\n",
    "\n",
    "# It is very high, more \n",
    "# 200k , 98. percentile\n",
    "# not train the model with very high income data\n",
    "\n",
    "\n",
    "df = df[~((df['BorrowersEmploymentStatus'] == 'SELF EMPLOYED') &\n",
    "          (df['TotalIncome'] > 1000000))]"
   ]
  },
  {
   "cell_type": "markdown",
   "metadata": {},
   "source": [
    "### 4.5.2 Exploratory Analysis"
   ]
  },
  {
   "cell_type": "code",
   "execution_count": 211,
   "metadata": {},
   "outputs": [
    {
     "name": "stderr",
     "output_type": "stream",
     "text": [
      "No handles with labels found to put in legend.\n"
     ]
    },
    {
     "data": {
      "text/plain": [
       "<matplotlib.legend.Legend at 0x7fb02356e2d0>"
      ]
     },
     "execution_count": 211,
     "metadata": {},
     "output_type": "execute_result"
    },
    {
     "data": {
      "image/png": "[encoded data removed]",
      "text/plain": [
       "<Figure size 432x288 with 1 Axes>"
      ]
     },
     "metadata": {
      "needs_background": "light"
     },
     "output_type": "display_data"
    }
   ],
   "source": [
    "# Relationship between columns\n",
    "plt.scatter(df['BorrowersEmploymentStatus'], df['OriginalBalance'])\n",
    "\n",
    "plt.xlabel('BorrowersEmploymentStatus')\n",
    "plt.ylabel('OriginalBalance')\n",
    "plt.legend()"
   ]
  },
  {
   "cell_type": "markdown",
   "metadata": {},
   "source": [
    "### 4.5.3 Exploratory Analysis"
   ]
  },
  {
   "cell_type": "code",
   "execution_count": 212,
   "metadata": {},
   "outputs": [
    {
     "name": "stderr",
     "output_type": "stream",
     "text": [
      "No handles with labels found to put in legend.\n"
     ]
    },
    {
     "data": {
      "text/plain": [
       "<matplotlib.legend.Legend at 0x7fb022c7f6d0>"
      ]
     },
     "execution_count": 212,
     "metadata": {},
     "output_type": "execute_result"
    },
    {
     "data": {
      "image/png": "[encoded data removed]",
      "text/plain": [
       "<Figure size 432x288 with 1 Axes>"
      ]
     },
     "metadata": {
      "needs_background": "light"
     },
     "output_type": "display_data"
    }
   ],
   "source": [
    "# Relationship between columns\n",
    "plt.scatter(df['BorrowersEmploymentStatus'], df['FlexibleLoanAmount'])\n",
    "\n",
    "plt.xlabel('BorrowersEmploymentStatus')\n",
    "plt.ylabel('FlexibleLoanAmount')\n",
    "plt.legend()"
   ]
  },
  {
   "cell_type": "code",
   "execution_count": 213,
   "metadata": {},
   "outputs": [
    {
     "data": {
      "text/plain": [
       "<matplotlib.legend.Legend at 0x7fb027a7df90>"
      ]
     },
     "execution_count": 213,
     "metadata": {},
     "output_type": "execute_result"
    },
    {
     "data": {
      "image/png": "[encoded data removed]",
      "text/plain": [
       "<Figure size 432x288 with 1 Axes>"
      ]
     },
     "metadata": {
      "needs_background": "light"
     },
     "output_type": "display_data"
    }
   ],
   "source": [
    "# Relationship between columns\n",
    " \n",
    "color                     = ['Red','Blue','Green','Yellow']    \n",
    "BorrowersEmploymentStatus = ['EMPLOYED','UNEMPLOYED','SELF EMPLOYED','PENSIONER']\n",
    "    \n",
    "for i in range(len(BorrowersEmploymentStatus)):\n",
    "    \n",
    "    df_1 = df[df['BorrowersEmploymentStatus'] == BorrowersEmploymentStatus[i]] \n",
    "    plt.scatter(df_1['Borrower_Age'], df_1['TotalIncome'], c=color[i], label=BorrowersEmploymentStatus[i])\n",
    "\n",
    "plt.xlabel('Borrower_Age')\n",
    "plt.ylabel('TotalIncome')\n",
    "plt.legend()"
   ]
  },
  {
   "cell_type": "markdown",
   "metadata": {},
   "source": [
    "## 4.6 Correlation Matrix"
   ]
  },
  {
   "cell_type": "code",
   "execution_count": 214,
   "metadata": {},
   "outputs": [
    {
     "data": {
      "text/plain": [
       "(17.0, 0.0)"
      ]
     },
     "execution_count": 214,
     "metadata": {},
     "output_type": "execute_result"
    },
    {
     "data": {
      "image/png": "[encoded data removed]",
      "text/plain": [
       "<Figure size 1080x1080 with 2 Axes>"
      ]
     },
     "metadata": {
      "needs_background": "light"
     },
     "output_type": "display_data"
    }
   ],
   "source": [
    "corr = df.corr()\n",
    "plt.figure(figsize=(15,15))\n",
    "\n",
    "corr_select = sns.heatmap(corr, annot=True, cmap='coolwarm')\n",
    "bottom, top = corr_select.get_ylim()\n",
    "\n",
    "corr_select.set_ylim(bottom + 0.5, top - 0.5)\n"
   ]
  },
  {
   "cell_type": "code",
   "execution_count": 215,
   "metadata": {},
   "outputs": [],
   "source": [
    "# Drop highly correlated columns \n",
    "\n",
    "def correlated_columns(df, threshold):\n",
    "    \n",
    "    col_corr    = set()\n",
    "    corr_matrix = df.corr()\n",
    "    \n",
    "    for i in range(len(corr_matrix.columns)):\n",
    "    \n",
    "        for j in range(i):\n",
    "                   \n",
    "            if corr_matrix.iloc[i,j] > threshold:\n",
    "                colname = corr_matrix.columns[i]\n",
    "                col_corr.add(colname)\n",
    "                   \n",
    "    return col_corr"
   ]
  },
  {
   "cell_type": "code",
   "execution_count": 216,
   "metadata": {},
   "outputs": [
    {
     "data": {
      "text/plain": [
       "2"
      ]
     },
     "execution_count": 216,
     "metadata": {},
     "output_type": "execute_result"
    }
   ],
   "source": [
    "# If the correlation between columns are higher than 80% then drop these columns\n",
    "\n",
    "corr_features = correlated_columns(df, 0.8)\n",
    "len(set(corr_features))"
   ]
  },
  {
   "cell_type": "code",
   "execution_count": 217,
   "metadata": {},
   "outputs": [
    {
     "data": {
      "text/plain": [
       "{'Diff_Cutoff_Origin', 'OriginalBalance'}"
      ]
     },
     "execution_count": 217,
     "metadata": {},
     "output_type": "execute_result"
    }
   ],
   "source": [
    "# Names of the dropping columns\n",
    "\n",
    "corr_features"
   ]
  },
  {
   "cell_type": "code",
   "execution_count": 218,
   "metadata": {},
   "outputs": [],
   "source": [
    "# Drop the highly correlated columns\n",
    "\n",
    "df = df.drop(corr_features, axis=1)"
   ]
  },
  {
   "cell_type": "code",
   "execution_count": 219,
   "metadata": {},
   "outputs": [
    {
     "data": {
      "text/html": [
       "<div>\n",
       "<style scoped>\n",
       "    .dataframe tbody tr th:only-of-type {\n",
       "        vertical-align: middle;\n",
       "    }\n",
       "\n",
       "    .dataframe tbody tr th {\n",
       "        vertical-align: top;\n",
       "    }\n",
       "\n",
       "    .dataframe thead th {\n",
       "        text-align: right;\n",
       "    }\n",
       "</style>\n",
       "<table border=\"1\" class=\"dataframe\">\n",
       "  <thead>\n",
       "    <tr style=\"text-align: right;\">\n",
       "      <th></th>\n",
       "      <th>BorrowersEmploymentStatus</th>\n",
       "      <th>BorrowerType</th>\n",
       "      <th>BorrowerCreditQuality</th>\n",
       "      <th>BureauScoreValue</th>\n",
       "      <th>ConstructionYear</th>\n",
       "      <th>CurrentInterestRate</th>\n",
       "      <th>CurrentInterestRateMargin</th>\n",
       "      <th>FinalMargin</th>\n",
       "      <th>CurrentValuationAmount</th>\n",
       "      <th>FirstTimeBuyer</th>\n",
       "      <th>FlexibleLoanAmount</th>\n",
       "      <th>CurrentBalance</th>\n",
       "      <th>ForeignNational</th>\n",
       "      <th>LoanAge</th>\n",
       "      <th>Purpose</th>\n",
       "      <th>CLTV</th>\n",
       "      <th>TotalIncome</th>\n",
       "      <th>target</th>\n",
       "      <th>Borrower_Age</th>\n",
       "      <th>Level</th>\n",
       "      <th>Diff_Maturity_Origin</th>\n",
       "    </tr>\n",
       "  </thead>\n",
       "  <tbody>\n",
       "    <tr>\n",
       "      <th>0</th>\n",
       "      <td>UNEMPLOYED</td>\n",
       "      <td>NO DATA</td>\n",
       "      <td>No Data</td>\n",
       "      <td>939.614706</td>\n",
       "      <td>1950.0</td>\n",
       "      <td>2.7759</td>\n",
       "      <td>2.39</td>\n",
       "      <td>2.39</td>\n",
       "      <td>159453.27</td>\n",
       "      <td>N</td>\n",
       "      <td>5262.716415</td>\n",
       "      <td>49667.70</td>\n",
       "      <td>No Data</td>\n",
       "      <td>107</td>\n",
       "      <td>PURCHASE</td>\n",
       "      <td>31.148750</td>\n",
       "      <td>51500.0</td>\n",
       "      <td>0</td>\n",
       "      <td>40</td>\n",
       "      <td>3.0</td>\n",
       "      <td>6210</td>\n",
       "    </tr>\n",
       "    <tr>\n",
       "      <th>1</th>\n",
       "      <td>UNEMPLOYED</td>\n",
       "      <td>NO DATA</td>\n",
       "      <td>No Data</td>\n",
       "      <td>939.614706</td>\n",
       "      <td>1910.0</td>\n",
       "      <td>2.0200</td>\n",
       "      <td>1.50</td>\n",
       "      <td>1.50</td>\n",
       "      <td>131051.84</td>\n",
       "      <td>N</td>\n",
       "      <td>5262.716415</td>\n",
       "      <td>21187.83</td>\n",
       "      <td>No Data</td>\n",
       "      <td>203</td>\n",
       "      <td>PURCHASE</td>\n",
       "      <td>16.167519</td>\n",
       "      <td>21060.0</td>\n",
       "      <td>0</td>\n",
       "      <td>25</td>\n",
       "      <td>3.0</td>\n",
       "      <td>9131</td>\n",
       "    </tr>\n",
       "    <tr>\n",
       "      <th>2</th>\n",
       "      <td>EMPLOYED</td>\n",
       "      <td>NO DATA</td>\n",
       "      <td>No Data</td>\n",
       "      <td>939.614706</td>\n",
       "      <td>1935.0</td>\n",
       "      <td>3.3300</td>\n",
       "      <td>2.99</td>\n",
       "      <td>2.99</td>\n",
       "      <td>494755.16</td>\n",
       "      <td>N</td>\n",
       "      <td>5262.716415</td>\n",
       "      <td>200551.16</td>\n",
       "      <td>No Data</td>\n",
       "      <td>142</td>\n",
       "      <td>PURCHASE</td>\n",
       "      <td>40.535435</td>\n",
       "      <td>0.0</td>\n",
       "      <td>1</td>\n",
       "      <td>22</td>\n",
       "      <td>3.0</td>\n",
       "      <td>9131</td>\n",
       "    </tr>\n",
       "    <tr>\n",
       "      <th>3</th>\n",
       "      <td>UNEMPLOYED</td>\n",
       "      <td>NO DATA</td>\n",
       "      <td>No Data</td>\n",
       "      <td>939.614706</td>\n",
       "      <td>1910.0</td>\n",
       "      <td>3.4300</td>\n",
       "      <td>2.84</td>\n",
       "      <td>2.84</td>\n",
       "      <td>143621.55</td>\n",
       "      <td>N</td>\n",
       "      <td>5262.716415</td>\n",
       "      <td>102336.49</td>\n",
       "      <td>No Data</td>\n",
       "      <td>95</td>\n",
       "      <td>REMORTGAGE</td>\n",
       "      <td>71.254270</td>\n",
       "      <td>24255.0</td>\n",
       "      <td>0</td>\n",
       "      <td>34</td>\n",
       "      <td>3.0</td>\n",
       "      <td>9131</td>\n",
       "    </tr>\n",
       "    <tr>\n",
       "      <th>4</th>\n",
       "      <td>UNEMPLOYED</td>\n",
       "      <td>NO DATA</td>\n",
       "      <td>No Data</td>\n",
       "      <td>939.614706</td>\n",
       "      <td>1989.0</td>\n",
       "      <td>3.0700</td>\n",
       "      <td>2.49</td>\n",
       "      <td>2.49</td>\n",
       "      <td>194983.10</td>\n",
       "      <td>N</td>\n",
       "      <td>5262.716415</td>\n",
       "      <td>171645.92</td>\n",
       "      <td>No Data</td>\n",
       "      <td>146</td>\n",
       "      <td>PURCHASE</td>\n",
       "      <td>88.031180</td>\n",
       "      <td>55273.0</td>\n",
       "      <td>0</td>\n",
       "      <td>29</td>\n",
       "      <td>3.0</td>\n",
       "      <td>9131</td>\n",
       "    </tr>\n",
       "  </tbody>\n",
       "</table>\n",
       "</div>"
      ],
      "text/plain": [
       "  BorrowersEmploymentStatus BorrowerType BorrowerCreditQuality  \\\n",
       "0                UNEMPLOYED      NO DATA               No Data   \n",
       "1                UNEMPLOYED      NO DATA               No Data   \n",
       "2                  EMPLOYED      NO DATA               No Data   \n",
       "3                UNEMPLOYED      NO DATA               No Data   \n",
       "4                UNEMPLOYED      NO DATA               No Data   \n",
       "\n",
       "   BureauScoreValue  ConstructionYear  CurrentInterestRate  \\\n",
       "0        939.614706            1950.0               2.7759   \n",
       "1        939.614706            1910.0               2.0200   \n",
       "2        939.614706            1935.0               3.3300   \n",
       "3        939.614706            1910.0               3.4300   \n",
       "4        939.614706            1989.0               3.0700   \n",
       "\n",
       "   CurrentInterestRateMargin  FinalMargin  CurrentValuationAmount  \\\n",
       "0                       2.39         2.39               159453.27   \n",
       "1                       1.50         1.50               131051.84   \n",
       "2                       2.99         2.99               494755.16   \n",
       "3                       2.84         2.84               143621.55   \n",
       "4                       2.49         2.49               194983.10   \n",
       "\n",
       "  FirstTimeBuyer  FlexibleLoanAmount  CurrentBalance ForeignNational  LoanAge  \\\n",
       "0              N         5262.716415        49667.70         No Data      107   \n",
       "1              N         5262.716415        21187.83         No Data      203   \n",
       "2              N         5262.716415       200551.16         No Data      142   \n",
       "3              N         5262.716415       102336.49         No Data       95   \n",
       "4              N         5262.716415       171645.92         No Data      146   \n",
       "\n",
       "      Purpose       CLTV  TotalIncome  target  Borrower_Age  Level  \\\n",
       "0    PURCHASE  31.148750      51500.0       0            40    3.0   \n",
       "1    PURCHASE  16.167519      21060.0       0            25    3.0   \n",
       "2    PURCHASE  40.535435          0.0       1            22    3.0   \n",
       "3  REMORTGAGE  71.254270      24255.0       0            34    3.0   \n",
       "4    PURCHASE  88.031180      55273.0       0            29    3.0   \n",
       "\n",
       "   Diff_Maturity_Origin  \n",
       "0                  6210  \n",
       "1                  9131  \n",
       "2                  9131  \n",
       "3                  9131  \n",
       "4                  9131  "
      ]
     },
     "execution_count": 219,
     "metadata": {},
     "output_type": "execute_result"
    }
   ],
   "source": [
    "df.head()"
   ]
  },
  {
   "cell_type": "markdown",
   "metadata": {},
   "source": [
    "## 4.7 Label Encoding"
   ]
  },
  {
   "cell_type": "code",
   "execution_count": 220,
   "metadata": {},
   "outputs": [],
   "source": [
    "# Change the integer columns to numberic columns applied label encoding\n",
    "\n",
    "# There is also another encoding, there is some kind of discrimination between data\n",
    "# Distance between the number \n",
    "# Thats why one hot encoding is more prefitable...\n",
    "\n",
    "from sklearn.preprocessing import LabelEncoder\n",
    "\n",
    "cols = ['BorrowersEmploymentStatus','BorrowerType','BorrowerCreditQuality','FirstTimeBuyer','ForeignNational','Purpose']\n",
    "le   = LabelEncoder()\n",
    "\n",
    "for i in cols:\n",
    "    df[i] = le.fit_transform(df[i])"
   ]
  },
  {
   "cell_type": "code",
   "execution_count": 221,
   "metadata": {},
   "outputs": [
    {
     "data": {
      "text/html": [
       "<div>\n",
       "<style scoped>\n",
       "    .dataframe tbody tr th:only-of-type {\n",
       "        vertical-align: middle;\n",
       "    }\n",
       "\n",
       "    .dataframe tbody tr th {\n",
       "        vertical-align: top;\n",
       "    }\n",
       "\n",
       "    .dataframe thead th {\n",
       "        text-align: right;\n",
       "    }\n",
       "</style>\n",
       "<table border=\"1\" class=\"dataframe\">\n",
       "  <thead>\n",
       "    <tr style=\"text-align: right;\">\n",
       "      <th></th>\n",
       "      <th>BorrowersEmploymentStatus</th>\n",
       "      <th>BorrowerType</th>\n",
       "      <th>BorrowerCreditQuality</th>\n",
       "      <th>BureauScoreValue</th>\n",
       "      <th>ConstructionYear</th>\n",
       "      <th>CurrentInterestRate</th>\n",
       "      <th>CurrentInterestRateMargin</th>\n",
       "      <th>FinalMargin</th>\n",
       "      <th>CurrentValuationAmount</th>\n",
       "      <th>FirstTimeBuyer</th>\n",
       "      <th>FlexibleLoanAmount</th>\n",
       "      <th>CurrentBalance</th>\n",
       "      <th>ForeignNational</th>\n",
       "      <th>LoanAge</th>\n",
       "      <th>Purpose</th>\n",
       "      <th>CLTV</th>\n",
       "      <th>TotalIncome</th>\n",
       "      <th>target</th>\n",
       "      <th>Borrower_Age</th>\n",
       "      <th>Level</th>\n",
       "      <th>Diff_Maturity_Origin</th>\n",
       "    </tr>\n",
       "  </thead>\n",
       "  <tbody>\n",
       "    <tr>\n",
       "      <th>0</th>\n",
       "      <td>3</td>\n",
       "      <td>1</td>\n",
       "      <td>2</td>\n",
       "      <td>939.614706</td>\n",
       "      <td>1950.0</td>\n",
       "      <td>2.7759</td>\n",
       "      <td>2.39</td>\n",
       "      <td>2.39</td>\n",
       "      <td>159453.27</td>\n",
       "      <td>0</td>\n",
       "      <td>5262.716415</td>\n",
       "      <td>49667.70</td>\n",
       "      <td>1</td>\n",
       "      <td>107</td>\n",
       "      <td>5</td>\n",
       "      <td>31.148750</td>\n",
       "      <td>51500.0</td>\n",
       "      <td>0</td>\n",
       "      <td>40</td>\n",
       "      <td>3.0</td>\n",
       "      <td>6210</td>\n",
       "    </tr>\n",
       "    <tr>\n",
       "      <th>1</th>\n",
       "      <td>3</td>\n",
       "      <td>1</td>\n",
       "      <td>2</td>\n",
       "      <td>939.614706</td>\n",
       "      <td>1910.0</td>\n",
       "      <td>2.0200</td>\n",
       "      <td>1.50</td>\n",
       "      <td>1.50</td>\n",
       "      <td>131051.84</td>\n",
       "      <td>0</td>\n",
       "      <td>5262.716415</td>\n",
       "      <td>21187.83</td>\n",
       "      <td>1</td>\n",
       "      <td>203</td>\n",
       "      <td>5</td>\n",
       "      <td>16.167519</td>\n",
       "      <td>21060.0</td>\n",
       "      <td>0</td>\n",
       "      <td>25</td>\n",
       "      <td>3.0</td>\n",
       "      <td>9131</td>\n",
       "    </tr>\n",
       "    <tr>\n",
       "      <th>2</th>\n",
       "      <td>0</td>\n",
       "      <td>1</td>\n",
       "      <td>2</td>\n",
       "      <td>939.614706</td>\n",
       "      <td>1935.0</td>\n",
       "      <td>3.3300</td>\n",
       "      <td>2.99</td>\n",
       "      <td>2.99</td>\n",
       "      <td>494755.16</td>\n",
       "      <td>0</td>\n",
       "      <td>5262.716415</td>\n",
       "      <td>200551.16</td>\n",
       "      <td>1</td>\n",
       "      <td>142</td>\n",
       "      <td>5</td>\n",
       "      <td>40.535435</td>\n",
       "      <td>0.0</td>\n",
       "      <td>1</td>\n",
       "      <td>22</td>\n",
       "      <td>3.0</td>\n",
       "      <td>9131</td>\n",
       "    </tr>\n",
       "    <tr>\n",
       "      <th>3</th>\n",
       "      <td>3</td>\n",
       "      <td>1</td>\n",
       "      <td>2</td>\n",
       "      <td>939.614706</td>\n",
       "      <td>1910.0</td>\n",
       "      <td>3.4300</td>\n",
       "      <td>2.84</td>\n",
       "      <td>2.84</td>\n",
       "      <td>143621.55</td>\n",
       "      <td>0</td>\n",
       "      <td>5262.716415</td>\n",
       "      <td>102336.49</td>\n",
       "      <td>1</td>\n",
       "      <td>95</td>\n",
       "      <td>6</td>\n",
       "      <td>71.254270</td>\n",
       "      <td>24255.0</td>\n",
       "      <td>0</td>\n",
       "      <td>34</td>\n",
       "      <td>3.0</td>\n",
       "      <td>9131</td>\n",
       "    </tr>\n",
       "    <tr>\n",
       "      <th>4</th>\n",
       "      <td>3</td>\n",
       "      <td>1</td>\n",
       "      <td>2</td>\n",
       "      <td>939.614706</td>\n",
       "      <td>1989.0</td>\n",
       "      <td>3.0700</td>\n",
       "      <td>2.49</td>\n",
       "      <td>2.49</td>\n",
       "      <td>194983.10</td>\n",
       "      <td>0</td>\n",
       "      <td>5262.716415</td>\n",
       "      <td>171645.92</td>\n",
       "      <td>1</td>\n",
       "      <td>146</td>\n",
       "      <td>5</td>\n",
       "      <td>88.031180</td>\n",
       "      <td>55273.0</td>\n",
       "      <td>0</td>\n",
       "      <td>29</td>\n",
       "      <td>3.0</td>\n",
       "      <td>9131</td>\n",
       "    </tr>\n",
       "  </tbody>\n",
       "</table>\n",
       "</div>"
      ],
      "text/plain": [
       "   BorrowersEmploymentStatus  BorrowerType  BorrowerCreditQuality  \\\n",
       "0                          3             1                      2   \n",
       "1                          3             1                      2   \n",
       "2                          0             1                      2   \n",
       "3                          3             1                      2   \n",
       "4                          3             1                      2   \n",
       "\n",
       "   BureauScoreValue  ConstructionYear  CurrentInterestRate  \\\n",
       "0        939.614706            1950.0               2.7759   \n",
       "1        939.614706            1910.0               2.0200   \n",
       "2        939.614706            1935.0               3.3300   \n",
       "3        939.614706            1910.0               3.4300   \n",
       "4        939.614706            1989.0               3.0700   \n",
       "\n",
       "   CurrentInterestRateMargin  FinalMargin  CurrentValuationAmount  \\\n",
       "0                       2.39         2.39               159453.27   \n",
       "1                       1.50         1.50               131051.84   \n",
       "2                       2.99         2.99               494755.16   \n",
       "3                       2.84         2.84               143621.55   \n",
       "4                       2.49         2.49               194983.10   \n",
       "\n",
       "   FirstTimeBuyer  FlexibleLoanAmount  CurrentBalance  ForeignNational  \\\n",
       "0               0         5262.716415        49667.70                1   \n",
       "1               0         5262.716415        21187.83                1   \n",
       "2               0         5262.716415       200551.16                1   \n",
       "3               0         5262.716415       102336.49                1   \n",
       "4               0         5262.716415       171645.92                1   \n",
       "\n",
       "   LoanAge  Purpose       CLTV  TotalIncome  target  Borrower_Age  Level  \\\n",
       "0      107        5  31.148750      51500.0       0            40    3.0   \n",
       "1      203        5  16.167519      21060.0       0            25    3.0   \n",
       "2      142        5  40.535435          0.0       1            22    3.0   \n",
       "3       95        6  71.254270      24255.0       0            34    3.0   \n",
       "4      146        5  88.031180      55273.0       0            29    3.0   \n",
       "\n",
       "   Diff_Maturity_Origin  \n",
       "0                  6210  \n",
       "1                  9131  \n",
       "2                  9131  \n",
       "3                  9131  \n",
       "4                  9131  "
      ]
     },
     "execution_count": 221,
     "metadata": {},
     "output_type": "execute_result"
    }
   ],
   "source": [
    "df.head()"
   ]
  },
  {
   "cell_type": "markdown",
   "metadata": {},
   "source": [
    "## 4.8 Feature Selection - Back and Forward Method was applied "
   ]
  },
  {
   "cell_type": "code",
   "execution_count": 222,
   "metadata": {},
   "outputs": [],
   "source": [
    "# After many iteration, those columns are chosen for trainin model\n",
    "\n",
    "df = df[['BorrowersEmploymentStatus',\n",
    "         'BorrowerType',\n",
    "         'FirstTimeBuyer',\n",
    "         'Purpose', \n",
    "         'TotalIncome',\n",
    "         'Level',\n",
    "         'CurrentBalance', \n",
    "         'FirstTimeBuyer',\n",
    "         'Borrower_Age',\n",
    "         'Diff_Maturity_Origin',\n",
    "         'target']]"
   ]
  },
  {
   "cell_type": "code",
   "execution_count": 223,
   "metadata": {},
   "outputs": [
    {
     "name": "stdout",
     "output_type": "stream",
     "text": [
      "\n"
     ]
    }
   ],
   "source": [
    "# 0.703325%\n",
    "'''\n",
    "df = df[['BorrowersEmploymentStatus',\n",
    "         'BorrowerCreditQuality',\n",
    "         'FirstTimeBuyer',\n",
    "         'Purpose', \n",
    "         'TotalIncome',\n",
    "         'Level',\n",
    "         'CurrentBalance', \n",
    "         'FirstTimeBuyer',\n",
    "         'Borrower_Age',\n",
    "         'Diff_Maturity_Origin',\n",
    "         'target']]\n",
    "    \n",
    "'''\n",
    "print('')"
   ]
  },
  {
   "cell_type": "markdown",
   "metadata": {},
   "source": [
    "## 4.9 Clean Outliers"
   ]
  },
  {
   "cell_type": "code",
   "execution_count": 224,
   "metadata": {},
   "outputs": [
    {
     "name": "stdout",
     "output_type": "stream",
     "text": [
      "\n"
     ]
    }
   ],
   "source": [
    "'''\n",
    "\n",
    "df = df[['BorrowersEmploymentStatus',\n",
    "\n",
    "         'BorrowerCreditQuality',\n",
    "\n",
    "\n",
    "         'FirstTimeBuyer',\n",
    "         'LoanAge', \n",
    "\n",
    "         'TotalIncome',\n",
    "         'Diff_Maturity_Origin',\n",
    "         'Borrower_Age',\n",
    "\n",
    "\n",
    "         'target']]\n",
    "         \n",
    "'''\n",
    "print('')"
   ]
  },
  {
   "cell_type": "code",
   "execution_count": 225,
   "metadata": {},
   "outputs": [
    {
     "data": {
      "text/plain": [
       "95000.0"
      ]
     },
     "execution_count": 225,
     "metadata": {},
     "output_type": "execute_result"
    }
   ],
   "source": [
    "# Apply Quantile method for cleaning outliers from the data set \n",
    "# Max thresold is .95\n",
    "\n",
    "# .98 \n",
    "\n",
    "max_thresold = df['TotalIncome'].quantile(0.95)\n",
    "max_thresold"
   ]
  },
  {
   "cell_type": "code",
   "execution_count": 226,
   "metadata": {},
   "outputs": [
    {
     "data": {
      "text/plain": [
       "1000.0"
      ]
     },
     "execution_count": 226,
     "metadata": {},
     "output_type": "execute_result"
    }
   ],
   "source": [
    "# Apply Quantile method for cleaning outliers from the data set \n",
    "# Min thresold is .05\n",
    "\n",
    "min_thresold = df['TotalIncome'].quantile(0.05)\n",
    "min_thresold"
   ]
  },
  {
   "cell_type": "code",
   "execution_count": 227,
   "metadata": {},
   "outputs": [
    {
     "data": {
      "text/plain": [
       "(94894, 11)"
      ]
     },
     "execution_count": 227,
     "metadata": {},
     "output_type": "execute_result"
    }
   ],
   "source": [
    "df.shape"
   ]
  },
  {
   "cell_type": "code",
   "execution_count": 228,
   "metadata": {},
   "outputs": [],
   "source": [
    "# Remove Outliers\n",
    "\n",
    "df = df[(df['TotalIncome']<max_thresold) & (df['TotalIncome']>min_thresold)]"
   ]
  },
  {
   "cell_type": "code",
   "execution_count": 229,
   "metadata": {},
   "outputs": [
    {
     "data": {
      "text/plain": [
       "(84633, 11)"
      ]
     },
     "execution_count": 229,
     "metadata": {},
     "output_type": "execute_result"
    }
   ],
   "source": [
    "df.shape"
   ]
  },
  {
   "cell_type": "code",
   "execution_count": 230,
   "metadata": {},
   "outputs": [
    {
     "data": {
      "text/plain": [
       "(84633, 11)"
      ]
     },
     "execution_count": 230,
     "metadata": {},
     "output_type": "execute_result"
    }
   ],
   "source": [
    "df.shape"
   ]
  },
  {
   "cell_type": "code",
   "execution_count": 231,
   "metadata": {},
   "outputs": [
    {
     "data": {
      "text/html": [
       "<div>\n",
       "<style scoped>\n",
       "    .dataframe tbody tr th:only-of-type {\n",
       "        vertical-align: middle;\n",
       "    }\n",
       "\n",
       "    .dataframe tbody tr th {\n",
       "        vertical-align: top;\n",
       "    }\n",
       "\n",
       "    .dataframe thead th {\n",
       "        text-align: right;\n",
       "    }\n",
       "</style>\n",
       "<table border=\"1\" class=\"dataframe\">\n",
       "  <thead>\n",
       "    <tr style=\"text-align: right;\">\n",
       "      <th></th>\n",
       "      <th>BorrowersEmploymentStatus</th>\n",
       "      <th>BorrowerType</th>\n",
       "      <th>FirstTimeBuyer</th>\n",
       "      <th>Purpose</th>\n",
       "      <th>TotalIncome</th>\n",
       "      <th>Level</th>\n",
       "      <th>CurrentBalance</th>\n",
       "      <th>FirstTimeBuyer</th>\n",
       "      <th>Borrower_Age</th>\n",
       "      <th>Diff_Maturity_Origin</th>\n",
       "      <th>target</th>\n",
       "    </tr>\n",
       "  </thead>\n",
       "  <tbody>\n",
       "    <tr>\n",
       "      <th>0</th>\n",
       "      <td>3</td>\n",
       "      <td>1</td>\n",
       "      <td>0</td>\n",
       "      <td>5</td>\n",
       "      <td>51500.0</td>\n",
       "      <td>3.0</td>\n",
       "      <td>49667.70</td>\n",
       "      <td>0</td>\n",
       "      <td>40</td>\n",
       "      <td>6210</td>\n",
       "      <td>0</td>\n",
       "    </tr>\n",
       "    <tr>\n",
       "      <th>1</th>\n",
       "      <td>3</td>\n",
       "      <td>1</td>\n",
       "      <td>0</td>\n",
       "      <td>5</td>\n",
       "      <td>21060.0</td>\n",
       "      <td>3.0</td>\n",
       "      <td>21187.83</td>\n",
       "      <td>0</td>\n",
       "      <td>25</td>\n",
       "      <td>9131</td>\n",
       "      <td>0</td>\n",
       "    </tr>\n",
       "  </tbody>\n",
       "</table>\n",
       "</div>"
      ],
      "text/plain": [
       "   BorrowersEmploymentStatus  BorrowerType  FirstTimeBuyer  Purpose  \\\n",
       "0                          3             1               0        5   \n",
       "1                          3             1               0        5   \n",
       "\n",
       "   TotalIncome  Level  CurrentBalance  FirstTimeBuyer  Borrower_Age  \\\n",
       "0      51500.0    3.0        49667.70               0            40   \n",
       "1      21060.0    3.0        21187.83               0            25   \n",
       "\n",
       "   Diff_Maturity_Origin  target  \n",
       "0                  6210       0  \n",
       "1                  9131       0  "
      ]
     },
     "execution_count": 231,
     "metadata": {},
     "output_type": "execute_result"
    }
   ],
   "source": [
    "df.head(2)"
   ]
  },
  {
   "cell_type": "markdown",
   "metadata": {},
   "source": [
    "## 5- Model Building"
   ]
  },
  {
   "cell_type": "markdown",
   "metadata": {},
   "source": [
    "### 5.1 - Data Set Balance"
   ]
  },
  {
   "cell_type": "code",
   "execution_count": 232,
   "metadata": {},
   "outputs": [
    {
     "data": {
      "text/plain": [
       "<matplotlib.axes._subplots.AxesSubplot at 0x7fb023505290>"
      ]
     },
     "execution_count": 232,
     "metadata": {},
     "output_type": "execute_result"
    },
    {
     "data": {
      "image/png": "[encoded data removed]",
      "text/plain": [
       "<Figure size 432x288 with 1 Axes>"
      ]
     },
     "metadata": {
      "needs_background": "light"
     },
     "output_type": "display_data"
    }
   ],
   "source": [
    "# Check the dataset balanced or not balanced\n",
    "\n",
    "# Accuricy is not great matric to check\n",
    "# 80 - 20, unbalanced dataset, the accuracy is not best score...\n",
    "# Unblancaed dataset and statistical \n",
    "\n",
    "sns.countplot(df['target'])"
   ]
  },
  {
   "cell_type": "code",
   "execution_count": 233,
   "metadata": {},
   "outputs": [],
   "source": [
    "def check_dataset_balance(df):\n",
    "\n",
    "    df_0 = df[df['target'] == 0]\n",
    "    df_1 = df[df['target'] == 1]\n",
    "\n",
    "    print('target_0 rows, columns:', df_0.shape, 'and target_1 rows, columns:', df_1.shape)\n",
    "\n",
    "    print()\n",
    "    if df_0.shape[0]/df_1.shape[0] > 2 or df_0.shape[0]/df_1.shape[0] < 0.5:\n",
    "        print('imbalance data set')\n",
    "    else:\n",
    "        print('balanced  data set')"
   ]
  },
  {
   "cell_type": "code",
   "execution_count": 234,
   "metadata": {},
   "outputs": [
    {
     "name": "stdout",
     "output_type": "stream",
     "text": [
      "target_0 rows, columns: (60220, 11) and target_1 rows, columns: (24413, 11)\n",
      "\n",
      "imbalance data set\n"
     ]
    }
   ],
   "source": [
    "check_dataset_balance(df)"
   ]
  },
  {
   "cell_type": "markdown",
   "metadata": {},
   "source": [
    "The dataset is unbalanced but make it balanced is causing the dropping accuracy for the model,\n",
    "Therefore oversampling is not applied, \n",
    "The dataset is small therefore under sampling was not used."
   ]
  },
  {
   "cell_type": "markdown",
   "metadata": {},
   "source": [
    "### 5.2 - Split Dataset - Dependent and Independent Features"
   ]
  },
  {
   "cell_type": "code",
   "execution_count": 235,
   "metadata": {},
   "outputs": [],
   "source": [
    "from sklearn.model_selection import train_test_split"
   ]
  },
  {
   "cell_type": "code",
   "execution_count": 236,
   "metadata": {},
   "outputs": [],
   "source": [
    "# Split dataset dependent and independent features\n",
    "# Convert array\n",
    "\n",
    "X = df.drop(['target'], axis=1)\n",
    "X = np.array(X)\n",
    "\n",
    "y = df[['target']].to_numpy()"
   ]
  },
  {
   "cell_type": "markdown",
   "metadata": {},
   "source": [
    "### 5.3 Over Sampler Libraries"
   ]
  },
  {
   "cell_type": "code",
   "execution_count": 237,
   "metadata": {},
   "outputs": [
    {
     "data": {
      "text/html": [
       "<div>\n",
       "<style scoped>\n",
       "    .dataframe tbody tr th:only-of-type {\n",
       "        vertical-align: middle;\n",
       "    }\n",
       "\n",
       "    .dataframe tbody tr th {\n",
       "        vertical-align: top;\n",
       "    }\n",
       "\n",
       "    .dataframe thead th {\n",
       "        text-align: right;\n",
       "    }\n",
       "</style>\n",
       "<table border=\"1\" class=\"dataframe\">\n",
       "  <thead>\n",
       "    <tr style=\"text-align: right;\">\n",
       "      <th></th>\n",
       "      <th>BorrowersEmploymentStatus</th>\n",
       "      <th>BorrowerType</th>\n",
       "      <th>FirstTimeBuyer</th>\n",
       "      <th>Purpose</th>\n",
       "      <th>TotalIncome</th>\n",
       "      <th>Level</th>\n",
       "      <th>CurrentBalance</th>\n",
       "      <th>FirstTimeBuyer</th>\n",
       "      <th>Borrower_Age</th>\n",
       "      <th>Diff_Maturity_Origin</th>\n",
       "      <th>target</th>\n",
       "    </tr>\n",
       "  </thead>\n",
       "  <tbody>\n",
       "    <tr>\n",
       "      <th>0</th>\n",
       "      <td>3</td>\n",
       "      <td>1</td>\n",
       "      <td>0</td>\n",
       "      <td>5</td>\n",
       "      <td>51500.0</td>\n",
       "      <td>3.0</td>\n",
       "      <td>49667.70</td>\n",
       "      <td>0</td>\n",
       "      <td>40</td>\n",
       "      <td>6210</td>\n",
       "      <td>0</td>\n",
       "    </tr>\n",
       "    <tr>\n",
       "      <th>1</th>\n",
       "      <td>3</td>\n",
       "      <td>1</td>\n",
       "      <td>0</td>\n",
       "      <td>5</td>\n",
       "      <td>21060.0</td>\n",
       "      <td>3.0</td>\n",
       "      <td>21187.83</td>\n",
       "      <td>0</td>\n",
       "      <td>25</td>\n",
       "      <td>9131</td>\n",
       "      <td>0</td>\n",
       "    </tr>\n",
       "    <tr>\n",
       "      <th>3</th>\n",
       "      <td>3</td>\n",
       "      <td>1</td>\n",
       "      <td>0</td>\n",
       "      <td>6</td>\n",
       "      <td>24255.0</td>\n",
       "      <td>3.0</td>\n",
       "      <td>102336.49</td>\n",
       "      <td>0</td>\n",
       "      <td>34</td>\n",
       "      <td>9131</td>\n",
       "      <td>0</td>\n",
       "    </tr>\n",
       "    <tr>\n",
       "      <th>4</th>\n",
       "      <td>3</td>\n",
       "      <td>1</td>\n",
       "      <td>0</td>\n",
       "      <td>5</td>\n",
       "      <td>55273.0</td>\n",
       "      <td>3.0</td>\n",
       "      <td>171645.92</td>\n",
       "      <td>0</td>\n",
       "      <td>29</td>\n",
       "      <td>9131</td>\n",
       "      <td>0</td>\n",
       "    </tr>\n",
       "    <tr>\n",
       "      <th>6</th>\n",
       "      <td>3</td>\n",
       "      <td>1</td>\n",
       "      <td>0</td>\n",
       "      <td>5</td>\n",
       "      <td>54984.0</td>\n",
       "      <td>3.0</td>\n",
       "      <td>114788.91</td>\n",
       "      <td>0</td>\n",
       "      <td>29</td>\n",
       "      <td>9132</td>\n",
       "      <td>0</td>\n",
       "    </tr>\n",
       "  </tbody>\n",
       "</table>\n",
       "</div>"
      ],
      "text/plain": [
       "   BorrowersEmploymentStatus  BorrowerType  FirstTimeBuyer  Purpose  \\\n",
       "0                          3             1               0        5   \n",
       "1                          3             1               0        5   \n",
       "3                          3             1               0        6   \n",
       "4                          3             1               0        5   \n",
       "6                          3             1               0        5   \n",
       "\n",
       "   TotalIncome  Level  CurrentBalance  FirstTimeBuyer  Borrower_Age  \\\n",
       "0      51500.0    3.0        49667.70               0            40   \n",
       "1      21060.0    3.0        21187.83               0            25   \n",
       "3      24255.0    3.0       102336.49               0            34   \n",
       "4      55273.0    3.0       171645.92               0            29   \n",
       "6      54984.0    3.0       114788.91               0            29   \n",
       "\n",
       "   Diff_Maturity_Origin  target  \n",
       "0                  6210       0  \n",
       "1                  9131       0  \n",
       "3                  9131       0  \n",
       "4                  9131       0  \n",
       "6                  9132       0  "
      ]
     },
     "execution_count": 237,
     "metadata": {},
     "output_type": "execute_result"
    }
   ],
   "source": [
    "df.head()"
   ]
  },
  {
   "cell_type": "code",
   "execution_count": 238,
   "metadata": {},
   "outputs": [],
   "source": [
    "from imblearn.combine import SMOTETomek\n",
    "from imblearn.over_sampling import SMOTE\n",
    "from imblearn.over_sampling import RandomOverSampler"
   ]
  },
  {
   "cell_type": "markdown",
   "metadata": {},
   "source": [
    "### 5.4 Over Sampler Version 1"
   ]
  },
  {
   "cell_type": "code",
   "execution_count": 239,
   "metadata": {},
   "outputs": [
    {
     "data": {
      "text/html": [
       "<div>\n",
       "<style scoped>\n",
       "    .dataframe tbody tr th:only-of-type {\n",
       "        vertical-align: middle;\n",
       "    }\n",
       "\n",
       "    .dataframe tbody tr th {\n",
       "        vertical-align: top;\n",
       "    }\n",
       "\n",
       "    .dataframe thead th {\n",
       "        text-align: right;\n",
       "    }\n",
       "</style>\n",
       "<table border=\"1\" class=\"dataframe\">\n",
       "  <thead>\n",
       "    <tr style=\"text-align: right;\">\n",
       "      <th></th>\n",
       "      <th>BorrowersEmploymentStatus</th>\n",
       "      <th>BorrowerType</th>\n",
       "      <th>FirstTimeBuyer</th>\n",
       "      <th>Purpose</th>\n",
       "      <th>TotalIncome</th>\n",
       "      <th>Level</th>\n",
       "      <th>CurrentBalance</th>\n",
       "      <th>FirstTimeBuyer</th>\n",
       "      <th>Borrower_Age</th>\n",
       "      <th>Diff_Maturity_Origin</th>\n",
       "      <th>target</th>\n",
       "    </tr>\n",
       "  </thead>\n",
       "  <tbody>\n",
       "    <tr>\n",
       "      <th>0</th>\n",
       "      <td>3</td>\n",
       "      <td>1</td>\n",
       "      <td>0</td>\n",
       "      <td>5</td>\n",
       "      <td>51500.0</td>\n",
       "      <td>3.0</td>\n",
       "      <td>49667.70</td>\n",
       "      <td>0</td>\n",
       "      <td>40</td>\n",
       "      <td>6210</td>\n",
       "      <td>0</td>\n",
       "    </tr>\n",
       "    <tr>\n",
       "      <th>1</th>\n",
       "      <td>3</td>\n",
       "      <td>1</td>\n",
       "      <td>0</td>\n",
       "      <td>5</td>\n",
       "      <td>21060.0</td>\n",
       "      <td>3.0</td>\n",
       "      <td>21187.83</td>\n",
       "      <td>0</td>\n",
       "      <td>25</td>\n",
       "      <td>9131</td>\n",
       "      <td>0</td>\n",
       "    </tr>\n",
       "    <tr>\n",
       "      <th>3</th>\n",
       "      <td>3</td>\n",
       "      <td>1</td>\n",
       "      <td>0</td>\n",
       "      <td>6</td>\n",
       "      <td>24255.0</td>\n",
       "      <td>3.0</td>\n",
       "      <td>102336.49</td>\n",
       "      <td>0</td>\n",
       "      <td>34</td>\n",
       "      <td>9131</td>\n",
       "      <td>0</td>\n",
       "    </tr>\n",
       "    <tr>\n",
       "      <th>4</th>\n",
       "      <td>3</td>\n",
       "      <td>1</td>\n",
       "      <td>0</td>\n",
       "      <td>5</td>\n",
       "      <td>55273.0</td>\n",
       "      <td>3.0</td>\n",
       "      <td>171645.92</td>\n",
       "      <td>0</td>\n",
       "      <td>29</td>\n",
       "      <td>9131</td>\n",
       "      <td>0</td>\n",
       "    </tr>\n",
       "    <tr>\n",
       "      <th>6</th>\n",
       "      <td>3</td>\n",
       "      <td>1</td>\n",
       "      <td>0</td>\n",
       "      <td>5</td>\n",
       "      <td>54984.0</td>\n",
       "      <td>3.0</td>\n",
       "      <td>114788.91</td>\n",
       "      <td>0</td>\n",
       "      <td>29</td>\n",
       "      <td>9132</td>\n",
       "      <td>0</td>\n",
       "    </tr>\n",
       "  </tbody>\n",
       "</table>\n",
       "</div>"
      ],
      "text/plain": [
       "   BorrowersEmploymentStatus  BorrowerType  FirstTimeBuyer  Purpose  \\\n",
       "0                          3             1               0        5   \n",
       "1                          3             1               0        5   \n",
       "3                          3             1               0        6   \n",
       "4                          3             1               0        5   \n",
       "6                          3             1               0        5   \n",
       "\n",
       "   TotalIncome  Level  CurrentBalance  FirstTimeBuyer  Borrower_Age  \\\n",
       "0      51500.0    3.0        49667.70               0            40   \n",
       "1      21060.0    3.0        21187.83               0            25   \n",
       "3      24255.0    3.0       102336.49               0            34   \n",
       "4      55273.0    3.0       171645.92               0            29   \n",
       "6      54984.0    3.0       114788.91               0            29   \n",
       "\n",
       "   Diff_Maturity_Origin  target  \n",
       "0                  6210       0  \n",
       "1                  9131       0  \n",
       "3                  9131       0  \n",
       "4                  9131       0  \n",
       "6                  9132       0  "
      ]
     },
     "execution_count": 239,
     "metadata": {},
     "output_type": "execute_result"
    }
   ],
   "source": [
    "df.head()"
   ]
  },
  {
   "cell_type": "markdown",
   "metadata": {},
   "source": [
    "The dataset is unbalanced but make it balanced is causing the dropping accuracy for the model,\n",
    "Therefore oversampling is not applied, \n",
    "The dataset is small therefore under sampling was not used."
   ]
  },
  {
   "cell_type": "code",
   "execution_count": 240,
   "metadata": {},
   "outputs": [],
   "source": [
    "#smk      = SMOTETomek(random_state=12)\n",
    "#X_b, y_b = smk.fit_resample(X, y)"
   ]
  },
  {
   "cell_type": "code",
   "execution_count": 241,
   "metadata": {},
   "outputs": [],
   "source": [
    "#X_b.shape"
   ]
  },
  {
   "cell_type": "code",
   "execution_count": 242,
   "metadata": {},
   "outputs": [],
   "source": [
    "#y_b.shape "
   ]
  },
  {
   "cell_type": "markdown",
   "metadata": {},
   "source": [
    "### 5.5 Over Sampler Version 2"
   ]
  },
  {
   "cell_type": "markdown",
   "metadata": {},
   "source": [
    "The dataset is unbalanced but make it balanced is causing the dropping accuracy for the model,\n",
    "Therefore oversampling is not applied, \n",
    "The dataset is small therefore under sampling was not used."
   ]
  },
  {
   "cell_type": "code",
   "execution_count": 243,
   "metadata": {},
   "outputs": [],
   "source": [
    "#Over_Sampler = RandomOverSampler(random_state=42) \n",
    "#X_c, y_c     = Over_Sampler.fit_resample(X,y)"
   ]
  },
  {
   "cell_type": "code",
   "execution_count": 244,
   "metadata": {},
   "outputs": [],
   "source": [
    "#X_c.shape"
   ]
  },
  {
   "cell_type": "code",
   "execution_count": 245,
   "metadata": {},
   "outputs": [],
   "source": [
    "#y_c.shape"
   ]
  },
  {
   "cell_type": "markdown",
   "metadata": {},
   "source": [
    "### 5.6 Over Sampler Version 3"
   ]
  },
  {
   "cell_type": "markdown",
   "metadata": {},
   "source": [
    "The dataset is unbalanced but make it balanced is causing the dropping accuracy for the model,\n",
    "Therefore oversampling is not applied, \n",
    "The dataset is small therefore under sampling was not used."
   ]
  },
  {
   "cell_type": "code",
   "execution_count": 246,
   "metadata": {},
   "outputs": [],
   "source": [
    "#Over_Sampler_2 = SMOTE(random_state=12) \n",
    "#X_d, y_d      = Over_Sampler_2.fit_resample(X,y)"
   ]
  },
  {
   "cell_type": "code",
   "execution_count": 247,
   "metadata": {},
   "outputs": [],
   "source": [
    "#X_d.shape"
   ]
  },
  {
   "cell_type": "code",
   "execution_count": 248,
   "metadata": {},
   "outputs": [],
   "source": [
    "#y_d.shape"
   ]
  },
  {
   "cell_type": "markdown",
   "metadata": {},
   "source": [
    "## 6- Building Model"
   ]
  },
  {
   "cell_type": "markdown",
   "metadata": {},
   "source": [
    "### 6.1 - Scaling dataset"
   ]
  },
  {
   "cell_type": "markdown",
   "metadata": {},
   "source": [
    "The dataset is not scaled, cause it cause drop the model accuracy"
   ]
  },
  {
   "cell_type": "code",
   "execution_count": 249,
   "metadata": {},
   "outputs": [],
   "source": [
    "# Scaling dataset\n",
    "\n",
    "from sklearn.preprocessing import StandardScaler\n",
    "scaling = StandardScaler()\n",
    "\n",
    "#X   = scaling.fit_transform(X)\n",
    "#X_b = scaling.fit_transform(X_b)\n",
    "#X_c = scaling.fit_transform(X_c)\n",
    "#X_d = scaling.fit_transform(X_d)"
   ]
  },
  {
   "cell_type": "code",
   "execution_count": 250,
   "metadata": {},
   "outputs": [],
   "source": [
    "# Upload the model libraries\n",
    "\n",
    "from sklearn.metrics import accuracy_score, f1_score\n",
    "from sklearn.metrics import confusion_matrix as CM\n",
    "from sklearn.metrics import classification_report\n",
    "\n",
    "\n",
    "from sklearn.metrics  import roc_curve\n",
    "from sklearn.metrics  import roc_auc_score\n",
    "from sklearn.datasets import make_classification"
   ]
  },
  {
   "cell_type": "code",
   "execution_count": 251,
   "metadata": {},
   "outputs": [],
   "source": [
    "# Impoting classification models\n",
    "\n",
    "from sklearn.linear_model import LogisticRegression\n",
    "from sklearn.neighbors    import KNeighborsClassifier\n",
    "from sklearn.svm          import SVC\n",
    "from sklearn.tree         import DecisionTreeClassifier\n",
    "from sklearn.ensemble     import RandomForestClassifier\n",
    "from sklearn.ensemble     import GradientBoostingClassifier\n",
    "\n",
    "from sklearn.naive_bayes  import GaussianNB\n",
    "\n",
    "from xgboost              import XGBClassifier\n",
    "\n"
   ]
  },
  {
   "cell_type": "code",
   "execution_count": 252,
   "metadata": {},
   "outputs": [],
   "source": [
    "# to perform K-fold cross validation\n",
    "\n",
    "from sklearn.model_selection import KFold\n",
    "\n",
    "from sklearn import model_selection"
   ]
  },
  {
   "cell_type": "markdown",
   "metadata": {},
   "source": [
    "### 6.2 - Train and Split Manually"
   ]
  },
  {
   "cell_type": "code",
   "execution_count": 253,
   "metadata": {},
   "outputs": [],
   "source": [
    "from sklearn.model_selection import KFold, cross_val_score, train_test_split\n",
    "\n",
    "X_train, X_test, y_train, y_test = train_test_split(X, y, test_size=0.2, random_state=0)"
   ]
  },
  {
   "cell_type": "code",
   "execution_count": 254,
   "metadata": {},
   "outputs": [],
   "source": [
    "models = {'K-Nearest Neighbors'    : KNeighborsClassifier(),\n",
    "          'Logistic  Regression'   : LogisticRegression(),\n",
    "          'Random Forest'          : RandomForestClassifier(),  \n",
    "          'Gradient Boosting'      : GradientBoostingClassifier(),\n",
    "          'XG Boosting'            : XGBClassifier()\n",
    "         }"
   ]
  },
  {
   "cell_type": "code",
   "execution_count": 255,
   "metadata": {},
   "outputs": [
    {
     "name": "stdout",
     "output_type": "stream",
     "text": [
      "K-Nearest Neighbors training started\n",
      "K-Nearest Neighbors trained\n",
      "****************************************\n",
      "Logistic  Regression training started\n",
      "Logistic  Regression trained\n",
      "****************************************\n",
      "Random Forest training started\n",
      "Random Forest trained\n",
      "****************************************\n",
      "Gradient Boosting training started\n",
      "Gradient Boosting trained\n",
      "****************************************\n",
      "XG Boosting training started\n",
      "XG Boosting trained\n",
      "****************************************\n",
      "FINISHED\n",
      "CPU times: user 30.5 s, sys: 682 ms, total: 31.1 s\n",
      "Wall time: 32.7 s\n"
     ]
    }
   ],
   "source": [
    "%%time\n",
    "\n",
    "for name, model in models.items():\n",
    "    print(f'{name} training started')\n",
    "    model.fit(X_train, y_train)\n",
    "    \n",
    "    print(f'{name} trained')\n",
    "    \n",
    "    print('*'*40)\n",
    "    \n",
    "print('FINISHED')"
   ]
  },
  {
   "cell_type": "code",
   "execution_count": 256,
   "metadata": {},
   "outputs": [
    {
     "name": "stdout",
     "output_type": "stream",
     "text": [
      "K-Nearest Neighbors accuracy_score : 0.662\n",
      "Logistic  Regression accuracy_score : 0.708\n",
      "Random Forest accuracy_score : 0.716\n",
      "Gradient Boosting accuracy_score : 0.722\n",
      "XG Boosting accuracy_score : 0.721\n"
     ]
    }
   ],
   "source": [
    "for name in models:\n",
    "    acc_score = round(accuracy_score(y_test, models[name].predict(X_test)), 3)\n",
    "    print(f'{name} accuracy_score : {acc_score}')"
   ]
  },
  {
   "cell_type": "code",
   "execution_count": 257,
   "metadata": {},
   "outputs": [
    {
     "name": "stdout",
     "output_type": "stream",
     "text": [
      "K-Nearest Neighbors f1_score : 0.274\n",
      "Logistic  Regression f1_score : 0.028\n",
      "Random Forest f1_score : 0.383\n",
      "Gradient Boosting f1_score : 0.166\n",
      "XG Boosting f1_score : 0.151\n"
     ]
    }
   ],
   "source": [
    "for name in models:\n",
    "    acc_score = round(f1_score(y_test, models[name].predict(X_test)), 3)\n",
    "    print(f'{name} f1_score : {acc_score}')"
   ]
  },
  {
   "cell_type": "code",
   "execution_count": 258,
   "metadata": {},
   "outputs": [
    {
     "name": "stdout",
     "output_type": "stream",
     "text": [
      "K-Nearest Neighbors roc_auc_score : 0.531\n",
      "Logistic  Regression roc_auc_score : 0.5\n",
      "Random Forest roc_auc_score : 0.594\n",
      "Gradient Boosting roc_auc_score : 0.535\n",
      "XG Boosting roc_auc_score : 0.532\n"
     ]
    }
   ],
   "source": [
    "for name in models:\n",
    "    acc_score = round(roc_auc_score(y_test, models[name].predict(X_test)), 3)\n",
    "    print(f'{name} roc_auc_score : {acc_score}')"
   ]
  },
  {
   "cell_type": "code",
   "execution_count": 259,
   "metadata": {},
   "outputs": [
    {
     "name": "stdout",
     "output_type": "stream",
     "text": [
      "K-Nearest Neighbors classification report\n",
      "-----------------------------\n",
      "              precision    recall  f1-score   support\n",
      "\n",
      "           0       0.73      0.84      0.78     12072\n",
      "           1       0.36      0.22      0.27      4855\n",
      "\n",
      "    accuracy                           0.66     16927\n",
      "   macro avg       0.54      0.53      0.53     16927\n",
      "weighted avg       0.62      0.66      0.63     16927\n",
      "\n",
      "*****************************\n",
      " \n",
      "Logistic  Regression classification report\n",
      "-----------------------------\n",
      "              precision    recall  f1-score   support\n",
      "\n",
      "           0       0.71      0.99      0.83     12072\n",
      "           1       0.30      0.01      0.03      4855\n",
      "\n",
      "    accuracy                           0.71     16927\n",
      "   macro avg       0.51      0.50      0.43     16927\n",
      "weighted avg       0.59      0.71      0.60     16927\n",
      "\n",
      "*****************************\n",
      " \n",
      "Random Forest classification report\n",
      "-----------------------------\n",
      "              precision    recall  f1-score   support\n",
      "\n",
      "           0       0.76      0.88      0.82     12072\n",
      "           1       0.51      0.31      0.38      4855\n",
      "\n",
      "    accuracy                           0.72     16927\n",
      "   macro avg       0.63      0.59      0.60     16927\n",
      "weighted avg       0.69      0.72      0.69     16927\n",
      "\n",
      "*****************************\n",
      " \n",
      "Gradient Boosting classification report\n",
      "-----------------------------\n",
      "              precision    recall  f1-score   support\n",
      "\n",
      "           0       0.73      0.97      0.83     12072\n",
      "           1       0.59      0.10      0.17      4855\n",
      "\n",
      "    accuracy                           0.72     16927\n",
      "   macro avg       0.66      0.53      0.50     16927\n",
      "weighted avg       0.69      0.72      0.64     16927\n",
      "\n",
      "*****************************\n",
      " \n",
      "XG Boosting classification report\n",
      "-----------------------------\n",
      "              precision    recall  f1-score   support\n",
      "\n",
      "           0       0.73      0.98      0.83     12072\n",
      "           1       0.60      0.09      0.15      4855\n",
      "\n",
      "    accuracy                           0.72     16927\n",
      "   macro avg       0.66      0.53      0.49     16927\n",
      "weighted avg       0.69      0.72      0.64     16927\n",
      "\n",
      "*****************************\n",
      " \n",
      "CPU times: user 1.92 s, sys: 26.4 ms, total: 1.94 s\n",
      "Wall time: 1.85 s\n"
     ]
    }
   ],
   "source": [
    "%%time\n",
    "\n",
    "for name_ in models:\n",
    "    print(f'{name_} classification report')\n",
    "    print('-----------------------------')\n",
    "    \n",
    "    print(classification_report(y_test, models[name_].predict(X_test)))\n",
    "    \n",
    "    print('*****************************')\n",
    "    print(' ')"
   ]
  },
  {
   "cell_type": "markdown",
   "metadata": {},
   "source": [
    "### 6.3 - Cross Validation"
   ]
  },
  {
   "cell_type": "code",
   "execution_count": 260,
   "metadata": {},
   "outputs": [],
   "source": [
    "# Gaussian Naive Bayes classifier\n",
    "gnb_classifier = GaussianNB()"
   ]
  },
  {
   "cell_type": "code",
   "execution_count": 261,
   "metadata": {},
   "outputs": [],
   "source": [
    "# Logistic Regression classifier\n",
    "lr_classifier = LogisticRegression(penalty = 'l2', random_state = 0)"
   ]
  },
  {
   "cell_type": "code",
   "execution_count": 262,
   "metadata": {},
   "outputs": [],
   "source": [
    "# Decision Tree Classifier\n",
    "dt_classifier = DecisionTreeClassifier(random_state=42)"
   ]
  },
  {
   "cell_type": "code",
   "execution_count": 263,
   "metadata": {},
   "outputs": [],
   "source": [
    "# Random Forest Classifier\n",
    "rf_classifier = RandomForestClassifier(n_estimators = 5, criterion = 'entropy')"
   ]
  },
  {
   "cell_type": "code",
   "execution_count": 264,
   "metadata": {},
   "outputs": [],
   "source": [
    "# eXtreme Gradient Boosting Classifier (XGBClassifier)\n",
    "xgb_classifier = XGBClassifier()"
   ]
  },
  {
   "cell_type": "code",
   "execution_count": 265,
   "metadata": {},
   "outputs": [],
   "source": [
    "# models list to automate the training and testing \n",
    "models = []"
   ]
  },
  {
   "cell_type": "code",
   "execution_count": 266,
   "metadata": {},
   "outputs": [],
   "source": [
    "# append classifiers to the list\n",
    "models.append(('GBN',gnb_classifier))\n",
    "models.append(('LR',lr_classifier))\n",
    "models.append(('DT',dt_classifier))\n",
    "models.append(('XGB',xgb_classifier))\n",
    "models.append(('RF',rf_classifier))"
   ]
  },
  {
   "cell_type": "code",
   "execution_count": 267,
   "metadata": {},
   "outputs": [
    {
     "data": {
      "text/plain": [
       "[('GBN', GaussianNB()),\n",
       " ('LR', LogisticRegression(random_state=0)),\n",
       " ('DT', DecisionTreeClassifier(random_state=42)),\n",
       " ('XGB', XGBClassifier()),\n",
       " ('RF', RandomForestClassifier(criterion='entropy', n_estimators=5))]"
      ]
     },
     "execution_count": 267,
     "metadata": {},
     "output_type": "execute_result"
    }
   ],
   "source": [
    "# list of the models that using for training the model\n",
    "models"
   ]
  },
  {
   "cell_type": "code",
   "execution_count": 268,
   "metadata": {},
   "outputs": [],
   "source": [
    "# Check the difference accuracy between test and train dataset"
   ]
  },
  {
   "cell_type": "code",
   "execution_count": 269,
   "metadata": {},
   "outputs": [
    {
     "name": "stdout",
     "output_type": "stream",
     "text": [
      "GBN\n",
      "roc_auc : 0.578411566850295\n",
      "f1 : 0.03914786824107486\n",
      "precision : 0.46584249223336227\n",
      "recall : 0.021588992441102232\n",
      "accuracy : 0.7082698397248828\n",
      "\n",
      "\n",
      "LR\n",
      "roc_auc : 0.6033997697512034\n",
      "f1 : 0.028567748362775213\n",
      "precision : 0.39990606079402574\n",
      "recall : 0.015237357576562822\n",
      "accuracy : 0.7044412872378755\n",
      "\n",
      "\n",
      "DT\n",
      "roc_auc : 0.515130883434064\n",
      "f1 : 0.32996044529237467\n",
      "precision : 0.3226100222717879\n",
      "recall : 0.3700052441551827\n",
      "accuracy : 0.5763602396800305\n",
      "\n",
      "\n",
      "XGB\n",
      "roc_auc : 0.6125064755333909\n",
      "f1 : 0.1342555028439702\n",
      "precision : 0.30619031434851596\n",
      "recall : 0.16151370543013313\n",
      "accuracy : 0.6111944351002373\n",
      "\n",
      "\n",
      "RF\n",
      "roc_auc : 0.5472027538359104\n",
      "f1 : 0.2943329257977989\n",
      "precision : 0.357961706911324\n",
      "recall : 0.3083567441412587\n",
      "accuracy : 0.5958569223375767\n",
      "\n",
      "\n"
     ]
    }
   ],
   "source": [
    "results = []\n",
    "names = []\n",
    "\n",
    "for name, model in models:\n",
    "\n",
    "    print(name)\n",
    "    for score in [\"roc_auc\", \"f1\", \"precision\", \"recall\", \"accuracy\"]:\n",
    "        cvs = cross_val_score(model, X, y, scoring=score, cv=10).mean()\n",
    "        print(score + \" : \"+ str(cvs))\n",
    "       \n",
    "    print('\\n')"
   ]
  },
  {
   "cell_type": "code",
   "execution_count": 270,
   "metadata": {},
   "outputs": [
    {
     "name": "stdout",
     "output_type": "stream",
     "text": [
      "GBN: 0.684500 (0.361309)\n",
      "LR: 0.692523 (0.363504)\n",
      "DT: 0.369759 (0.204843)\n",
      "XGB: 0.409611 (0.313606)\n",
      "RF: 0.378325 (0.243726)\n"
     ]
    },
    {
     "data": {
      "image/png": "[encoded data removed]",
      "text/plain": [
       "<Figure size 432x288 with 1 Axes>"
      ]
     },
     "metadata": {
      "needs_background": "light"
     },
     "output_type": "display_data"
    }
   ],
   "source": [
    "# evaluate each model in turn\n",
    "results = []\n",
    "names = []\n",
    "\n",
    "# comparing models based on the accuracy\n",
    "\n",
    "scoring = 'accuracy'\n",
    "\n",
    "for name, model in models:\n",
    "    \n",
    "    # k-fold crossvalidation\n",
    "    \n",
    "    kfold = model_selection.KFold(n_splits=5)\n",
    "    \n",
    "    #applying the crossvalidation\n",
    "    \n",
    "    cv_results = model_selection.cross_val_score(model, X, y, cv=kfold, scoring=scoring)\n",
    "    \n",
    "    #adding results to the list\n",
    "    \n",
    "    results.append(cv_results)\n",
    "    \n",
    "    names.append(name)\n",
    "    \n",
    "    msg = \"%s: %f (%f)\" % (name, cv_results.mean(), cv_results.std())\n",
    "    print(msg)\n",
    "\n",
    "\n",
    "# boxplot algorithm comparison\n",
    "fig = plt.figure()\n",
    "fig.suptitle('Algorithm Comparison')\n",
    "ax = fig.add_subplot(111)\n",
    "plt.boxplot(results)\n",
    "ax.set_xticklabels(names)\n",
    "plt.show()"
   ]
  },
  {
   "cell_type": "code",
   "execution_count": 271,
   "metadata": {},
   "outputs": [
    {
     "data": {
      "text/plain": [
       "[('GBN', GaussianNB()),\n",
       " ('LR', LogisticRegression(random_state=0)),\n",
       " ('DT', DecisionTreeClassifier(random_state=42)),\n",
       " ('XGB', XGBClassifier()),\n",
       " ('RF', RandomForestClassifier(criterion='entropy', n_estimators=5))]"
      ]
     },
     "execution_count": 271,
     "metadata": {},
     "output_type": "execute_result"
    }
   ],
   "source": [
    "models"
   ]
  },
  {
   "cell_type": "code",
   "execution_count": 272,
   "metadata": {},
   "outputs": [],
   "source": [
    "# Based on the models,\n",
    "# Logistic Regression has the best performance"
   ]
  },
  {
   "cell_type": "code",
   "execution_count": 273,
   "metadata": {},
   "outputs": [],
   "source": [
    "# It is very likely Xboost, makes model very good but no sense,\n",
    "# May be the model\n",
    "\n",
    "# Feature importance need to added. \n",
    "# this the problem for xboosting"
   ]
  },
  {
   "cell_type": "markdown",
   "metadata": {},
   "source": [
    "### 6.2 - Hyperparameter tuning"
   ]
  },
  {
   "cell_type": "code",
   "execution_count": 274,
   "metadata": {},
   "outputs": [
    {
     "name": "stdout",
     "output_type": "stream",
     "text": [
      "Fitting 20 folds for each of 20 candidates, totalling 400 fits\n",
      "Best Score:  0.7058351547382518\n",
      "Best Params:  {'C': 1e-10, 'penalty': 'l2'}\n"
     ]
    }
   ],
   "source": [
    "from sklearn.model_selection import GridSearchCV\n",
    "\n",
    "# Hyper parameter tunning selection is including limited paramaters, due to run time issue\n",
    "\n",
    "param_grid = [{'penalty'  : ['l2']                                        ,\n",
    "               'C'        : np.power(10.0, np.arange(-10, 10))\n",
    "              }]\n",
    "\n",
    "lr_classifier = LogisticRegression(penalty = 'l2', random_state = 0)\n",
    "grid = GridSearchCV(lr_classifier, param_grid = param_grid, cv = 20, verbose = True)\n",
    "\n",
    "\n",
    "grid_result = grid.fit(X,y)\n",
    "\n",
    "print('Best Score: ', grid_result.best_score_)\n",
    "print('Best Params: ', grid_result.best_params_)"
   ]
  },
  {
   "cell_type": "code",
   "execution_count": 275,
   "metadata": {},
   "outputs": [
    {
     "name": "stdout",
     "output_type": "stream",
     "text": [
      "Best Score:  0.6074711514195225\n",
      "Best Params:  {'C': 1e-05, 'penalty': 'l2'}\n"
     ]
    }
   ],
   "source": [
    "from sklearn.model_selection import GridSearchCV\n",
    "\n",
    "# Hyper parameter tunning selection is including limited paramaters, due to run time issue\n",
    "\n",
    "param_grid = [{'penalty'  : ['l2']                                        ,\n",
    "               'C'        : np.power(10.0, np.arange(-10, 10))\n",
    "              }]\n",
    "\n",
    "\n",
    "\n",
    "lr_classifier = LogisticRegression(penalty = 'l2', random_state = 0)\n",
    "grid = GridSearchCV(lr_classifier, param_grid = param_grid, cv = 20, scoring = 'roc_auc')\n",
    "\n",
    "\n",
    "grid_result = grid.fit(X,y)\n",
    "\n",
    "print('Best Score: ', grid_result.best_score_)\n",
    "print('Best Params: ', grid_result.best_params_)"
   ]
  },
  {
   "cell_type": "code",
   "execution_count": 277,
   "metadata": {},
   "outputs": [
    {
     "name": "stdout",
     "output_type": "stream",
     "text": [
      "\n"
     ]
    }
   ],
   "source": [
    "'''\n",
    "from sklearn.metrics import precision_score, make_scorer\n",
    "\n",
    "# Create a precision scorer\n",
    "precision = make_scorer(precision_score)\n",
    "# Finalize the random search\n",
    "rs = RandomizedSearchCV(\n",
    "  estimator=rfc, param_distributions=param_dist,\n",
    "  scoring = precision,\n",
    "  cv=5, n_iter=10, random_state=1111)\n",
    "rs.fit(X, y)\n",
    "\n",
    "# print the mean test scores:\n",
    "print('The accuracy for each run was: {}.'.format(rs.cv_results_['mean_test_score']))\n",
    "# print the best model score:\n",
    "print('The best accuracy for a single model was: {}'.format(rs.best_score_))\n",
    "\n",
    "'''\n",
    "print('')"
   ]
  }
 ],
 "metadata": {
  "kernelspec": {
   "display_name": "Python 3",
   "language": "python",
   "name": "python3"
  },
  "language_info": {
   "codemirror_mode": {
    "name": "ipython",
    "version": 3
   },
   "file_extension": ".py",
   "mimetype": "text/x-python",
   "name": "python",
   "nbconvert_exporter": "python",
   "pygments_lexer": "ipython3",
   "version": "3.7.4"
  }
 },
 "nbformat": 4,
 "nbformat_minor": 2
}
