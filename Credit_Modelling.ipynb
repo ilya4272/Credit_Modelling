{
 "cells": [
  {
   "cell_type": "markdown",
   "metadata": {},
   "source": [
    "## 1- Import Libraries"
   ]
  },
  {
   "cell_type": "code",
   "execution_count": 1,
   "metadata": {},
   "outputs": [],
   "source": [
    "import pandas as pd\n",
    "import numpy  as np\n",
    "\n",
    "import seaborn as sns\n",
    "from matplotlib import pyplot as plt\n",
    "\n",
    "import matplotlib\n",
    "\n",
    "%matplotlib inline"
   ]
  },
  {
   "cell_type": "code",
   "execution_count": 2,
   "metadata": {},
   "outputs": [],
   "source": [
    "import warnings\n",
    "warnings.filterwarnings('ignore')"
   ]
  },
  {
   "cell_type": "code",
   "execution_count": 3,
   "metadata": {},
   "outputs": [],
   "source": [
    "pd.set_option('display.max_rows', None, 'display.max_columns', None)"
   ]
  },
  {
   "cell_type": "markdown",
   "metadata": {},
   "source": [
    "## 2- Upload the Dataset"
   ]
  },
  {
   "cell_type": "code",
   "execution_count": 4,
   "metadata": {},
   "outputs": [],
   "source": [
    "# Upload data\n",
    "\n",
    "df = pd.read_csv('/Users/ilyasozgur/Desktop/Credit_Modelling/sample.csv')\n",
    "nuts_list = pd.read_csv('/Users/ilyasozgur/Desktop/Credit_Modelling/nuts_1.csv')"
   ]
  },
  {
   "cell_type": "markdown",
   "metadata": {},
   "source": [
    "## 3- Data Exploration"
   ]
  },
  {
   "cell_type": "markdown",
   "metadata": {},
   "source": [
    "### 3.1- Initial Analysis"
   ]
  },
  {
   "cell_type": "code",
   "execution_count": 5,
   "metadata": {},
   "outputs": [
    {
     "name": "stdout",
     "output_type": "stream",
     "text": [
      "<class 'pandas.core.frame.DataFrame'>\n",
      "RangeIndex: 98093 entries, 0 to 98092\n",
      "Data columns (total 25 columns):\n",
      " #   Column                     Non-Null Count  Dtype  \n",
      "---  ------                     --------------  -----  \n",
      " 0   ID                         98093 non-null  object \n",
      " 1   PoolCutoffDate             98093 non-null  object \n",
      " 2   LoanOriginationDate        98093 non-null  object \n",
      " 3   DateOfLoanMaturity         98093 non-null  object \n",
      " 4   BorrowersEmploymentStatus  98093 non-null  object \n",
      " 5   BorrowerType               98093 non-null  object \n",
      " 6   BorrowerYearOfBirth        56576 non-null  float64\n",
      " 7   BorrowerCreditQuality      98093 non-null  object \n",
      " 8   BureauScoreValue           38189 non-null  float64\n",
      " 9   ConstructionYear           19937 non-null  float64\n",
      " 10  CurrentInterestRate        98093 non-null  float64\n",
      " 11  CurrentInterestRateMargin  98093 non-null  float64\n",
      " 12  FinalMargin                36475 non-null  float64\n",
      " 13  CurrentValuationAmount     98057 non-null  float64\n",
      " 14  FirstTimeBuyer             98093 non-null  object \n",
      " 15  FlexibleLoanAmount         56053 non-null  float64\n",
      " 16  CurrentBalance             98093 non-null  float64\n",
      " 17  OriginalBalance            98093 non-null  float64\n",
      " 18  ForeignNational            98093 non-null  object \n",
      " 19  GeographicRegionList       98093 non-null  object \n",
      " 20  LoanAge                    98093 non-null  int64  \n",
      " 21  Purpose                    98093 non-null  object \n",
      " 22  CLTV                       98064 non-null  float64\n",
      " 23  TotalIncome                98093 non-null  float64\n",
      " 24  target                     98093 non-null  int64  \n",
      "dtypes: float64(12), int64(2), object(11)\n",
      "memory usage: 18.7+ MB\n"
     ]
    },
    {
     "data": {
      "text/html": [
       "<div>\n",
       "<style scoped>\n",
       "    .dataframe tbody tr th:only-of-type {\n",
       "        vertical-align: middle;\n",
       "    }\n",
       "\n",
       "    .dataframe tbody tr th {\n",
       "        vertical-align: top;\n",
       "    }\n",
       "\n",
       "    .dataframe thead th {\n",
       "        text-align: right;\n",
       "    }\n",
       "</style>\n",
       "<table border=\"1\" class=\"dataframe\">\n",
       "  <thead>\n",
       "    <tr style=\"text-align: right;\">\n",
       "      <th></th>\n",
       "      <th>ID</th>\n",
       "      <th>PoolCutoffDate</th>\n",
       "      <th>LoanOriginationDate</th>\n",
       "      <th>DateOfLoanMaturity</th>\n",
       "      <th>BorrowersEmploymentStatus</th>\n",
       "      <th>BorrowerType</th>\n",
       "      <th>BorrowerYearOfBirth</th>\n",
       "      <th>BorrowerCreditQuality</th>\n",
       "      <th>BureauScoreValue</th>\n",
       "      <th>ConstructionYear</th>\n",
       "      <th>CurrentInterestRate</th>\n",
       "      <th>CurrentInterestRateMargin</th>\n",
       "      <th>FinalMargin</th>\n",
       "      <th>CurrentValuationAmount</th>\n",
       "      <th>FirstTimeBuyer</th>\n",
       "      <th>FlexibleLoanAmount</th>\n",
       "      <th>CurrentBalance</th>\n",
       "      <th>OriginalBalance</th>\n",
       "      <th>ForeignNational</th>\n",
       "      <th>GeographicRegionList</th>\n",
       "      <th>LoanAge</th>\n",
       "      <th>Purpose</th>\n",
       "      <th>CLTV</th>\n",
       "      <th>TotalIncome</th>\n",
       "      <th>target</th>\n",
       "    </tr>\n",
       "  </thead>\n",
       "  <tbody>\n",
       "    <tr>\n",
       "      <th>0</th>\n",
       "      <td>38933530</td>\n",
       "      <td>12/31/2016</td>\n",
       "      <td>01/01/2008</td>\n",
       "      <td>01/01/2025</td>\n",
       "      <td>NO DATA</td>\n",
       "      <td>NO DATA</td>\n",
       "      <td>1968.0</td>\n",
       "      <td>No Data</td>\n",
       "      <td>NaN</td>\n",
       "      <td>1950.0</td>\n",
       "      <td>2.7759</td>\n",
       "      <td>2.39</td>\n",
       "      <td>2.39</td>\n",
       "      <td>159453.27</td>\n",
       "      <td>N</td>\n",
       "      <td>NaN</td>\n",
       "      <td>49667.70</td>\n",
       "      <td>118000.0</td>\n",
       "      <td>No Data</td>\n",
       "      <td>UKG11</td>\n",
       "      <td>107</td>\n",
       "      <td>PURCHASE</td>\n",
       "      <td>31.148750</td>\n",
       "      <td>51500.0</td>\n",
       "      <td>0</td>\n",
       "    </tr>\n",
       "    <tr>\n",
       "      <th>1</th>\n",
       "      <td>38933309</td>\n",
       "      <td>12/31/2017</td>\n",
       "      <td>01/01/2001</td>\n",
       "      <td>01/01/2026</td>\n",
       "      <td>NO DATA</td>\n",
       "      <td>NO DATA</td>\n",
       "      <td>1976.0</td>\n",
       "      <td>No Data</td>\n",
       "      <td>NaN</td>\n",
       "      <td>1910.0</td>\n",
       "      <td>2.0200</td>\n",
       "      <td>1.50</td>\n",
       "      <td>1.50</td>\n",
       "      <td>131051.84</td>\n",
       "      <td>N</td>\n",
       "      <td>NaN</td>\n",
       "      <td>21187.83</td>\n",
       "      <td>47250.0</td>\n",
       "      <td>No Data</td>\n",
       "      <td>UKD11</td>\n",
       "      <td>203</td>\n",
       "      <td>PURCHASE</td>\n",
       "      <td>16.167519</td>\n",
       "      <td>21060.0</td>\n",
       "      <td>0</td>\n",
       "    </tr>\n",
       "    <tr>\n",
       "      <th>2</th>\n",
       "      <td>38933233</td>\n",
       "      <td>5/31/2017</td>\n",
       "      <td>07/01/2005</td>\n",
       "      <td>07/01/2030</td>\n",
       "      <td>EMPLOYED</td>\n",
       "      <td>NO DATA</td>\n",
       "      <td>1983.0</td>\n",
       "      <td>No Data</td>\n",
       "      <td>NaN</td>\n",
       "      <td>1935.0</td>\n",
       "      <td>3.3300</td>\n",
       "      <td>2.99</td>\n",
       "      <td>2.99</td>\n",
       "      <td>494755.16</td>\n",
       "      <td>N</td>\n",
       "      <td>NaN</td>\n",
       "      <td>200551.16</td>\n",
       "      <td>224544.0</td>\n",
       "      <td>No Data</td>\n",
       "      <td>UKI11</td>\n",
       "      <td>142</td>\n",
       "      <td>PURCHASE</td>\n",
       "      <td>40.535435</td>\n",
       "      <td>0.0</td>\n",
       "      <td>1</td>\n",
       "    </tr>\n",
       "    <tr>\n",
       "      <th>3</th>\n",
       "      <td>3893330</td>\n",
       "      <td>3/31/2016</td>\n",
       "      <td>04/01/2008</td>\n",
       "      <td>04/01/2033</td>\n",
       "      <td>NO DATA</td>\n",
       "      <td>NO DATA</td>\n",
       "      <td>1974.0</td>\n",
       "      <td>No Data</td>\n",
       "      <td>NaN</td>\n",
       "      <td>1910.0</td>\n",
       "      <td>3.4300</td>\n",
       "      <td>2.84</td>\n",
       "      <td>2.84</td>\n",
       "      <td>143621.55</td>\n",
       "      <td>N</td>\n",
       "      <td>NaN</td>\n",
       "      <td>102336.49</td>\n",
       "      <td>101600.0</td>\n",
       "      <td>No Data</td>\n",
       "      <td>UKK11</td>\n",
       "      <td>95</td>\n",
       "      <td>REMORTGAGE</td>\n",
       "      <td>71.254270</td>\n",
       "      <td>24255.0</td>\n",
       "      <td>0</td>\n",
       "    </tr>\n",
       "    <tr>\n",
       "      <th>4</th>\n",
       "      <td>38933054</td>\n",
       "      <td>3/31/2018</td>\n",
       "      <td>01/01/2006</td>\n",
       "      <td>01/01/2031</td>\n",
       "      <td>NO DATA</td>\n",
       "      <td>NO DATA</td>\n",
       "      <td>1977.0</td>\n",
       "      <td>No Data</td>\n",
       "      <td>NaN</td>\n",
       "      <td>1989.0</td>\n",
       "      <td>3.0700</td>\n",
       "      <td>2.49</td>\n",
       "      <td>2.49</td>\n",
       "      <td>194983.10</td>\n",
       "      <td>N</td>\n",
       "      <td>NaN</td>\n",
       "      <td>171645.92</td>\n",
       "      <td>177000.0</td>\n",
       "      <td>No Data</td>\n",
       "      <td>UKE11</td>\n",
       "      <td>146</td>\n",
       "      <td>PURCHASE</td>\n",
       "      <td>88.031180</td>\n",
       "      <td>55273.0</td>\n",
       "      <td>0</td>\n",
       "    </tr>\n",
       "  </tbody>\n",
       "</table>\n",
       "</div>"
      ],
      "text/plain": [
       "         ID PoolCutoffDate LoanOriginationDate DateOfLoanMaturity  \\\n",
       "0  38933530     12/31/2016          01/01/2008         01/01/2025   \n",
       "1  38933309     12/31/2017          01/01/2001         01/01/2026   \n",
       "2  38933233      5/31/2017          07/01/2005         07/01/2030   \n",
       "3   3893330      3/31/2016          04/01/2008         04/01/2033   \n",
       "4  38933054      3/31/2018          01/01/2006         01/01/2031   \n",
       "\n",
       "  BorrowersEmploymentStatus BorrowerType  BorrowerYearOfBirth  \\\n",
       "0                   NO DATA      NO DATA               1968.0   \n",
       "1                   NO DATA      NO DATA               1976.0   \n",
       "2                  EMPLOYED      NO DATA               1983.0   \n",
       "3                   NO DATA      NO DATA               1974.0   \n",
       "4                   NO DATA      NO DATA               1977.0   \n",
       "\n",
       "  BorrowerCreditQuality  BureauScoreValue  ConstructionYear  \\\n",
       "0               No Data               NaN            1950.0   \n",
       "1               No Data               NaN            1910.0   \n",
       "2               No Data               NaN            1935.0   \n",
       "3               No Data               NaN            1910.0   \n",
       "4               No Data               NaN            1989.0   \n",
       "\n",
       "   CurrentInterestRate  CurrentInterestRateMargin  FinalMargin  \\\n",
       "0               2.7759                       2.39         2.39   \n",
       "1               2.0200                       1.50         1.50   \n",
       "2               3.3300                       2.99         2.99   \n",
       "3               3.4300                       2.84         2.84   \n",
       "4               3.0700                       2.49         2.49   \n",
       "\n",
       "   CurrentValuationAmount FirstTimeBuyer  FlexibleLoanAmount  CurrentBalance  \\\n",
       "0               159453.27              N                 NaN        49667.70   \n",
       "1               131051.84              N                 NaN        21187.83   \n",
       "2               494755.16              N                 NaN       200551.16   \n",
       "3               143621.55              N                 NaN       102336.49   \n",
       "4               194983.10              N                 NaN       171645.92   \n",
       "\n",
       "   OriginalBalance ForeignNational GeographicRegionList  LoanAge     Purpose  \\\n",
       "0         118000.0         No Data                UKG11      107    PURCHASE   \n",
       "1          47250.0         No Data                UKD11      203    PURCHASE   \n",
       "2         224544.0         No Data                UKI11      142    PURCHASE   \n",
       "3         101600.0         No Data                UKK11       95  REMORTGAGE   \n",
       "4         177000.0         No Data                UKE11      146    PURCHASE   \n",
       "\n",
       "        CLTV  TotalIncome  target  \n",
       "0  31.148750      51500.0       0  \n",
       "1  16.167519      21060.0       0  \n",
       "2  40.535435          0.0       1  \n",
       "3  71.254270      24255.0       0  \n",
       "4  88.031180      55273.0       0  "
      ]
     },
     "execution_count": 5,
     "metadata": {},
     "output_type": "execute_result"
    }
   ],
   "source": [
    "df.info()\n",
    "df.head()"
   ]
  },
  {
   "cell_type": "code",
   "execution_count": 6,
   "metadata": {},
   "outputs": [
    {
     "data": {
      "text/plain": [
       "(98093, 25)"
      ]
     },
     "execution_count": 6,
     "metadata": {},
     "output_type": "execute_result"
    }
   ],
   "source": [
    "df.shape"
   ]
  },
  {
   "cell_type": "markdown",
   "metadata": {},
   "source": [
    "### 3.2- Check the null values"
   ]
  },
  {
   "cell_type": "code",
   "execution_count": 7,
   "metadata": {},
   "outputs": [
    {
     "data": {
      "text/plain": [
       "ID                               0\n",
       "PoolCutoffDate                   0\n",
       "LoanOriginationDate              0\n",
       "DateOfLoanMaturity               0\n",
       "BorrowersEmploymentStatus        0\n",
       "BorrowerType                     0\n",
       "BorrowerYearOfBirth          41517\n",
       "BorrowerCreditQuality            0\n",
       "BureauScoreValue             59904\n",
       "ConstructionYear             78156\n",
       "CurrentInterestRate              0\n",
       "CurrentInterestRateMargin        0\n",
       "FinalMargin                  61618\n",
       "CurrentValuationAmount          36\n",
       "FirstTimeBuyer                   0\n",
       "FlexibleLoanAmount           42040\n",
       "CurrentBalance                   0\n",
       "OriginalBalance                  0\n",
       "ForeignNational                  0\n",
       "GeographicRegionList             0\n",
       "LoanAge                          0\n",
       "Purpose                          0\n",
       "CLTV                            29\n",
       "TotalIncome                      0\n",
       "target                           0\n",
       "dtype: int64"
      ]
     },
     "execution_count": 7,
     "metadata": {},
     "output_type": "execute_result"
    }
   ],
   "source": [
    "df.isnull().sum()"
   ]
  },
  {
   "cell_type": "markdown",
   "metadata": {},
   "source": [
    "### 3.3- Check dataset"
   ]
  },
  {
   "cell_type": "code",
   "execution_count": 8,
   "metadata": {
    "scrolled": true
   },
   "outputs": [
    {
     "data": {
      "text/html": [
       "<div>\n",
       "<style scoped>\n",
       "    .dataframe tbody tr th:only-of-type {\n",
       "        vertical-align: middle;\n",
       "    }\n",
       "\n",
       "    .dataframe tbody tr th {\n",
       "        vertical-align: top;\n",
       "    }\n",
       "\n",
       "    .dataframe thead th {\n",
       "        text-align: right;\n",
       "    }\n",
       "</style>\n",
       "<table border=\"1\" class=\"dataframe\">\n",
       "  <thead>\n",
       "    <tr style=\"text-align: right;\">\n",
       "      <th></th>\n",
       "      <th>BorrowerYearOfBirth</th>\n",
       "      <th>BureauScoreValue</th>\n",
       "      <th>ConstructionYear</th>\n",
       "      <th>CurrentInterestRate</th>\n",
       "      <th>CurrentInterestRateMargin</th>\n",
       "      <th>FinalMargin</th>\n",
       "      <th>CurrentValuationAmount</th>\n",
       "      <th>FlexibleLoanAmount</th>\n",
       "      <th>CurrentBalance</th>\n",
       "      <th>OriginalBalance</th>\n",
       "      <th>LoanAge</th>\n",
       "      <th>CLTV</th>\n",
       "      <th>TotalIncome</th>\n",
       "      <th>target</th>\n",
       "    </tr>\n",
       "  </thead>\n",
       "  <tbody>\n",
       "    <tr>\n",
       "      <th>count</th>\n",
       "      <td>56576.000000</td>\n",
       "      <td>38189.000000</td>\n",
       "      <td>19937.000000</td>\n",
       "      <td>98093.000000</td>\n",
       "      <td>98093.000000</td>\n",
       "      <td>36475.000000</td>\n",
       "      <td>9.805700e+04</td>\n",
       "      <td>56053.000000</td>\n",
       "      <td>9.809300e+04</td>\n",
       "      <td>9.809300e+04</td>\n",
       "      <td>98093.000000</td>\n",
       "      <td>9.806400e+04</td>\n",
       "      <td>9.809300e+04</td>\n",
       "      <td>98093.000000</td>\n",
       "    </tr>\n",
       "    <tr>\n",
       "      <th>mean</th>\n",
       "      <td>1966.126414</td>\n",
       "      <td>939.614706</td>\n",
       "      <td>1948.525706</td>\n",
       "      <td>3.373642</td>\n",
       "      <td>1.930933</td>\n",
       "      <td>0.677094</td>\n",
       "      <td>2.168267e+05</td>\n",
       "      <td>5262.716415</td>\n",
       "      <td>9.348497e+04</td>\n",
       "      <td>1.116967e+05</td>\n",
       "      <td>99.789587</td>\n",
       "      <td>1.672321e+02</td>\n",
       "      <td>4.139592e+04</td>\n",
       "      <td>0.284149</td>\n",
       "    </tr>\n",
       "    <tr>\n",
       "      <th>std</th>\n",
       "      <td>10.737155</td>\n",
       "      <td>238.119071</td>\n",
       "      <td>44.097670</td>\n",
       "      <td>1.396281</td>\n",
       "      <td>1.899722</td>\n",
       "      <td>1.251652</td>\n",
       "      <td>1.743889e+05</td>\n",
       "      <td>19202.408592</td>\n",
       "      <td>7.949611e+04</td>\n",
       "      <td>8.206267e+04</td>\n",
       "      <td>45.665194</td>\n",
       "      <td>1.788503e+04</td>\n",
       "      <td>4.568578e+04</td>\n",
       "      <td>0.451010</td>\n",
       "    </tr>\n",
       "    <tr>\n",
       "      <th>min</th>\n",
       "      <td>1914.000000</td>\n",
       "      <td>-999.000000</td>\n",
       "      <td>1700.000000</td>\n",
       "      <td>0.250000</td>\n",
       "      <td>0.000000</td>\n",
       "      <td>0.000000</td>\n",
       "      <td>1.070000e+00</td>\n",
       "      <td>-495956.280000</td>\n",
       "      <td>1.000230e+03</td>\n",
       "      <td>1.000000e+00</td>\n",
       "      <td>1.000000</td>\n",
       "      <td>7.853181e-02</td>\n",
       "      <td>0.000000e+00</td>\n",
       "      <td>0.000000</td>\n",
       "    </tr>\n",
       "    <tr>\n",
       "      <th>25%</th>\n",
       "      <td>1960.000000</td>\n",
       "      <td>916.000000</td>\n",
       "      <td>1928.000000</td>\n",
       "      <td>2.500000</td>\n",
       "      <td>0.000000</td>\n",
       "      <td>0.000000</td>\n",
       "      <td>1.160860e+05</td>\n",
       "      <td>0.000000</td>\n",
       "      <td>4.103837e+04</td>\n",
       "      <td>6.035000e+04</td>\n",
       "      <td>68.000000</td>\n",
       "      <td>2.420893e+01</td>\n",
       "      <td>2.311200e+04</td>\n",
       "      <td>0.000000</td>\n",
       "    </tr>\n",
       "    <tr>\n",
       "      <th>50%</th>\n",
       "      <td>1967.000000</td>\n",
       "      <td>1024.000000</td>\n",
       "      <td>1955.000000</td>\n",
       "      <td>3.640000</td>\n",
       "      <td>1.150000</td>\n",
       "      <td>0.000000</td>\n",
       "      <td>1.699713e+05</td>\n",
       "      <td>0.000000</td>\n",
       "      <td>7.680217e+04</td>\n",
       "      <td>9.500000e+04</td>\n",
       "      <td>96.000000</td>\n",
       "      <td>4.817849e+01</td>\n",
       "      <td>3.440000e+04</td>\n",
       "      <td>0.000000</td>\n",
       "    </tr>\n",
       "    <tr>\n",
       "      <th>75%</th>\n",
       "      <td>1973.000000</td>\n",
       "      <td>1079.000000</td>\n",
       "      <td>1980.000000</td>\n",
       "      <td>4.740000</td>\n",
       "      <td>4.090000</td>\n",
       "      <td>0.990000</td>\n",
       "      <td>2.600585e+05</td>\n",
       "      <td>240.000000</td>\n",
       "      <td>1.227673e+05</td>\n",
       "      <td>1.403960e+05</td>\n",
       "      <td>127.000000</td>\n",
       "      <td>7.057731e+01</td>\n",
       "      <td>5.000000e+04</td>\n",
       "      <td>1.000000</td>\n",
       "    </tr>\n",
       "    <tr>\n",
       "      <th>max</th>\n",
       "      <td>1997.000000</td>\n",
       "      <td>1440.000000</td>\n",
       "      <td>2018.000000</td>\n",
       "      <td>15.850000</td>\n",
       "      <td>7.000000</td>\n",
       "      <td>9.770000</td>\n",
       "      <td>6.542383e+06</td>\n",
       "      <td>531173.440000</td>\n",
       "      <td>1.874000e+06</td>\n",
       "      <td>3.293000e+06</td>\n",
       "      <td>672.000000</td>\n",
       "      <td>4.130223e+06</td>\n",
       "      <td>5.131000e+06</td>\n",
       "      <td>1.000000</td>\n",
       "    </tr>\n",
       "  </tbody>\n",
       "</table>\n",
       "</div>"
      ],
      "text/plain": [
       "       BorrowerYearOfBirth  BureauScoreValue  ConstructionYear  \\\n",
       "count         56576.000000      38189.000000      19937.000000   \n",
       "mean           1966.126414        939.614706       1948.525706   \n",
       "std              10.737155        238.119071         44.097670   \n",
       "min            1914.000000       -999.000000       1700.000000   \n",
       "25%            1960.000000        916.000000       1928.000000   \n",
       "50%            1967.000000       1024.000000       1955.000000   \n",
       "75%            1973.000000       1079.000000       1980.000000   \n",
       "max            1997.000000       1440.000000       2018.000000   \n",
       "\n",
       "       CurrentInterestRate  CurrentInterestRateMargin   FinalMargin  \\\n",
       "count         98093.000000               98093.000000  36475.000000   \n",
       "mean              3.373642                   1.930933      0.677094   \n",
       "std               1.396281                   1.899722      1.251652   \n",
       "min               0.250000                   0.000000      0.000000   \n",
       "25%               2.500000                   0.000000      0.000000   \n",
       "50%               3.640000                   1.150000      0.000000   \n",
       "75%               4.740000                   4.090000      0.990000   \n",
       "max              15.850000                   7.000000      9.770000   \n",
       "\n",
       "       CurrentValuationAmount  FlexibleLoanAmount  CurrentBalance  \\\n",
       "count            9.805700e+04        56053.000000    9.809300e+04   \n",
       "mean             2.168267e+05         5262.716415    9.348497e+04   \n",
       "std              1.743889e+05        19202.408592    7.949611e+04   \n",
       "min              1.070000e+00      -495956.280000    1.000230e+03   \n",
       "25%              1.160860e+05            0.000000    4.103837e+04   \n",
       "50%              1.699713e+05            0.000000    7.680217e+04   \n",
       "75%              2.600585e+05          240.000000    1.227673e+05   \n",
       "max              6.542383e+06       531173.440000    1.874000e+06   \n",
       "\n",
       "       OriginalBalance       LoanAge          CLTV   TotalIncome        target  \n",
       "count     9.809300e+04  98093.000000  9.806400e+04  9.809300e+04  98093.000000  \n",
       "mean      1.116967e+05     99.789587  1.672321e+02  4.139592e+04      0.284149  \n",
       "std       8.206267e+04     45.665194  1.788503e+04  4.568578e+04      0.451010  \n",
       "min       1.000000e+00      1.000000  7.853181e-02  0.000000e+00      0.000000  \n",
       "25%       6.035000e+04     68.000000  2.420893e+01  2.311200e+04      0.000000  \n",
       "50%       9.500000e+04     96.000000  4.817849e+01  3.440000e+04      0.000000  \n",
       "75%       1.403960e+05    127.000000  7.057731e+01  5.000000e+04      1.000000  \n",
       "max       3.293000e+06    672.000000  4.130223e+06  5.131000e+06      1.000000  "
      ]
     },
     "execution_count": 8,
     "metadata": {},
     "output_type": "execute_result"
    }
   ],
   "source": [
    "df.describe()"
   ]
  },
  {
   "cell_type": "markdown",
   "metadata": {},
   "source": [
    "## 4- Data Cleaning and Manipulations"
   ]
  },
  {
   "cell_type": "markdown",
   "metadata": {},
   "source": [
    "### 4.1- Impute the missing values"
   ]
  },
  {
   "cell_type": "code",
   "execution_count": 9,
   "metadata": {},
   "outputs": [
    {
     "data": {
      "text/plain": [
       "ID                               0\n",
       "PoolCutoffDate                   0\n",
       "LoanOriginationDate              0\n",
       "DateOfLoanMaturity               0\n",
       "BorrowersEmploymentStatus        0\n",
       "BorrowerType                     0\n",
       "BorrowerYearOfBirth          41517\n",
       "BorrowerCreditQuality            0\n",
       "BureauScoreValue             59904\n",
       "ConstructionYear             78156\n",
       "CurrentInterestRate              0\n",
       "CurrentInterestRateMargin        0\n",
       "FinalMargin                  61618\n",
       "CurrentValuationAmount          36\n",
       "FirstTimeBuyer                   0\n",
       "FlexibleLoanAmount           42040\n",
       "CurrentBalance                   0\n",
       "OriginalBalance                  0\n",
       "ForeignNational                  0\n",
       "GeographicRegionList             0\n",
       "LoanAge                          0\n",
       "Purpose                          0\n",
       "CLTV                            29\n",
       "TotalIncome                      0\n",
       "target                           0\n",
       "dtype: int64"
      ]
     },
     "execution_count": 9,
     "metadata": {},
     "output_type": "execute_result"
    }
   ],
   "source": [
    "# Check the null values again \n",
    "\n",
    "df.isnull().sum()"
   ]
  },
  {
   "cell_type": "code",
   "execution_count": 10,
   "metadata": {},
   "outputs": [],
   "source": [
    "# Fill the null values based on the datatypes\n",
    "\n",
    "def impute_null_values(df):\n",
    "\n",
    "    # if blank values in columns > 0 then add this columns into list\n",
    "    for i in df.columns:\n",
    "        \n",
    "        if df[i].isnull().sum() >0 :\n",
    "            \n",
    "            # check the datatypes of the column, fillna with mean if float values, else use mode \n",
    "\n",
    "            if df[i].dtypes == 'float64':\n",
    "                df[i] = df[i].fillna(df[i].mean())\n",
    "            else:\n",
    "                df[i2] = df[i2].fillna(df[i2].mode()[0])\n",
    "\n",
    "    return df"
   ]
  },
  {
   "cell_type": "code",
   "execution_count": 11,
   "metadata": {},
   "outputs": [],
   "source": [
    "df = impute_null_values(df)"
   ]
  },
  {
   "cell_type": "code",
   "execution_count": 12,
   "metadata": {},
   "outputs": [
    {
     "name": "stdout",
     "output_type": "stream",
     "text": [
      "Not use this function\n"
     ]
    }
   ],
   "source": [
    "'''\n",
    "def impute_null_values(df):\n",
    "    \n",
    "    # Create a blank list\n",
    "    null_columns = []\n",
    "\n",
    "    # if blank values in columns > 0 then add this columns into list\n",
    "    for i in df.columns:\n",
    "        if df[i].isnull().sum() >0 : \n",
    "            null_columns.append(i)\n",
    "\n",
    "    # check the datatypes of the column, fillna with mean if float values, else use mode \n",
    "    for i2 in null_columns:\n",
    "        if df[i2].dtypes == 'float64':\n",
    "            df[i2] = df[i2].fillna(df[i2].mean())\n",
    "            \n",
    "        else:\n",
    "            df[i2] = df[i2].fillna(df[i2].mode()[0])\n",
    "            \n",
    "    return df\n",
    "    \n",
    "'''\n",
    "print('Not use this function')"
   ]
  },
  {
   "cell_type": "code",
   "execution_count": 13,
   "metadata": {},
   "outputs": [
    {
     "data": {
      "text/plain": [
       "ID                           0\n",
       "PoolCutoffDate               0\n",
       "LoanOriginationDate          0\n",
       "DateOfLoanMaturity           0\n",
       "BorrowersEmploymentStatus    0\n",
       "BorrowerType                 0\n",
       "BorrowerYearOfBirth          0\n",
       "BorrowerCreditQuality        0\n",
       "BureauScoreValue             0\n",
       "ConstructionYear             0\n",
       "CurrentInterestRate          0\n",
       "CurrentInterestRateMargin    0\n",
       "FinalMargin                  0\n",
       "CurrentValuationAmount       0\n",
       "FirstTimeBuyer               0\n",
       "FlexibleLoanAmount           0\n",
       "CurrentBalance               0\n",
       "OriginalBalance              0\n",
       "ForeignNational              0\n",
       "GeographicRegionList         0\n",
       "LoanAge                      0\n",
       "Purpose                      0\n",
       "CLTV                         0\n",
       "TotalIncome                  0\n",
       "target                       0\n",
       "dtype: int64"
      ]
     },
     "execution_count": 13,
     "metadata": {},
     "output_type": "execute_result"
    }
   ],
   "source": [
    "# Check the null values again \n",
    "\n",
    "df.isnull().sum()"
   ]
  },
  {
   "cell_type": "markdown",
   "metadata": {},
   "source": [
    "### 4.2- Convert Date Columns to Datetime"
   ]
  },
  {
   "cell_type": "code",
   "execution_count": 14,
   "metadata": {},
   "outputs": [
    {
     "data": {
      "text/plain": [
       "dtype('O')"
      ]
     },
     "execution_count": 14,
     "metadata": {},
     "output_type": "execute_result"
    }
   ],
   "source": [
    "# Check datatype of 'PoolCutoffDate' column\n",
    "\n",
    "df['PoolCutoffDate'].dtypes"
   ]
  },
  {
   "cell_type": "code",
   "execution_count": 15,
   "metadata": {},
   "outputs": [],
   "source": [
    "# Change the datatype of the datetime columns\n",
    "\n",
    "def convert_datetime(df):\n",
    "    \n",
    "    for i in df.columns:\n",
    "        if 'date' in i.lower(): \n",
    "            print('Column_name is: ',i, 'and Column type is:', df[i].dtypes)\n",
    "    \n",
    "\n",
    "    for i in df.columns:\n",
    "        if 'date' in i.lower(): \n",
    "\n",
    "            df[i] = pd.to_datetime(df[i], infer_datetime_format=True)\n",
    "    \n",
    "    print('')\n",
    "    print('All columns contains date converted to datetime')\n",
    "\n",
    "    return(df)"
   ]
  },
  {
   "cell_type": "code",
   "execution_count": 16,
   "metadata": {},
   "outputs": [
    {
     "name": "stdout",
     "output_type": "stream",
     "text": [
      "Column_name is:  PoolCutoffDate and Column type is: object\n",
      "Column_name is:  LoanOriginationDate and Column type is: object\n",
      "Column_name is:  DateOfLoanMaturity and Column type is: object\n",
      "\n",
      "All columns contains date converted to datetime\n"
     ]
    }
   ],
   "source": [
    "df = convert_datetime(df)"
   ]
  },
  {
   "cell_type": "code",
   "execution_count": 17,
   "metadata": {},
   "outputs": [
    {
     "name": "stdout",
     "output_type": "stream",
     "text": [
      "<class 'pandas.core.frame.DataFrame'>\n",
      "RangeIndex: 98093 entries, 0 to 98092\n",
      "Data columns (total 25 columns):\n",
      " #   Column                     Non-Null Count  Dtype         \n",
      "---  ------                     --------------  -----         \n",
      " 0   ID                         98093 non-null  object        \n",
      " 1   PoolCutoffDate             98093 non-null  datetime64[ns]\n",
      " 2   LoanOriginationDate        98093 non-null  datetime64[ns]\n",
      " 3   DateOfLoanMaturity         98093 non-null  datetime64[ns]\n",
      " 4   BorrowersEmploymentStatus  98093 non-null  object        \n",
      " 5   BorrowerType               98093 non-null  object        \n",
      " 6   BorrowerYearOfBirth        98093 non-null  float64       \n",
      " 7   BorrowerCreditQuality      98093 non-null  object        \n",
      " 8   BureauScoreValue           98093 non-null  float64       \n",
      " 9   ConstructionYear           98093 non-null  float64       \n",
      " 10  CurrentInterestRate        98093 non-null  float64       \n",
      " 11  CurrentInterestRateMargin  98093 non-null  float64       \n",
      " 12  FinalMargin                98093 non-null  float64       \n",
      " 13  CurrentValuationAmount     98093 non-null  float64       \n",
      " 14  FirstTimeBuyer             98093 non-null  object        \n",
      " 15  FlexibleLoanAmount         98093 non-null  float64       \n",
      " 16  CurrentBalance             98093 non-null  float64       \n",
      " 17  OriginalBalance            98093 non-null  float64       \n",
      " 18  ForeignNational            98093 non-null  object        \n",
      " 19  GeographicRegionList       98093 non-null  object        \n",
      " 20  LoanAge                    98093 non-null  int64         \n",
      " 21  Purpose                    98093 non-null  object        \n",
      " 22  CLTV                       98093 non-null  float64       \n",
      " 23  TotalIncome                98093 non-null  float64       \n",
      " 24  target                     98093 non-null  int64         \n",
      "dtypes: datetime64[ns](3), float64(12), int64(2), object(8)\n",
      "memory usage: 18.7+ MB\n"
     ]
    },
    {
     "data": {
      "text/html": [
       "<div>\n",
       "<style scoped>\n",
       "    .dataframe tbody tr th:only-of-type {\n",
       "        vertical-align: middle;\n",
       "    }\n",
       "\n",
       "    .dataframe tbody tr th {\n",
       "        vertical-align: top;\n",
       "    }\n",
       "\n",
       "    .dataframe thead th {\n",
       "        text-align: right;\n",
       "    }\n",
       "</style>\n",
       "<table border=\"1\" class=\"dataframe\">\n",
       "  <thead>\n",
       "    <tr style=\"text-align: right;\">\n",
       "      <th></th>\n",
       "      <th>ID</th>\n",
       "      <th>PoolCutoffDate</th>\n",
       "      <th>LoanOriginationDate</th>\n",
       "      <th>DateOfLoanMaturity</th>\n",
       "      <th>BorrowersEmploymentStatus</th>\n",
       "      <th>BorrowerType</th>\n",
       "      <th>BorrowerYearOfBirth</th>\n",
       "      <th>BorrowerCreditQuality</th>\n",
       "      <th>BureauScoreValue</th>\n",
       "      <th>ConstructionYear</th>\n",
       "      <th>CurrentInterestRate</th>\n",
       "      <th>CurrentInterestRateMargin</th>\n",
       "      <th>FinalMargin</th>\n",
       "      <th>CurrentValuationAmount</th>\n",
       "      <th>FirstTimeBuyer</th>\n",
       "      <th>FlexibleLoanAmount</th>\n",
       "      <th>CurrentBalance</th>\n",
       "      <th>OriginalBalance</th>\n",
       "      <th>ForeignNational</th>\n",
       "      <th>GeographicRegionList</th>\n",
       "      <th>LoanAge</th>\n",
       "      <th>Purpose</th>\n",
       "      <th>CLTV</th>\n",
       "      <th>TotalIncome</th>\n",
       "      <th>target</th>\n",
       "    </tr>\n",
       "  </thead>\n",
       "  <tbody>\n",
       "    <tr>\n",
       "      <th>0</th>\n",
       "      <td>38933530</td>\n",
       "      <td>2016-12-31</td>\n",
       "      <td>2008-01-01</td>\n",
       "      <td>2025-01-01</td>\n",
       "      <td>NO DATA</td>\n",
       "      <td>NO DATA</td>\n",
       "      <td>1968.0</td>\n",
       "      <td>No Data</td>\n",
       "      <td>939.614706</td>\n",
       "      <td>1950.0</td>\n",
       "      <td>2.7759</td>\n",
       "      <td>2.39</td>\n",
       "      <td>2.39</td>\n",
       "      <td>159453.27</td>\n",
       "      <td>N</td>\n",
       "      <td>5262.716415</td>\n",
       "      <td>49667.70</td>\n",
       "      <td>118000.0</td>\n",
       "      <td>No Data</td>\n",
       "      <td>UKG11</td>\n",
       "      <td>107</td>\n",
       "      <td>PURCHASE</td>\n",
       "      <td>31.148750</td>\n",
       "      <td>51500.0</td>\n",
       "      <td>0</td>\n",
       "    </tr>\n",
       "    <tr>\n",
       "      <th>1</th>\n",
       "      <td>38933309</td>\n",
       "      <td>2017-12-31</td>\n",
       "      <td>2001-01-01</td>\n",
       "      <td>2026-01-01</td>\n",
       "      <td>NO DATA</td>\n",
       "      <td>NO DATA</td>\n",
       "      <td>1976.0</td>\n",
       "      <td>No Data</td>\n",
       "      <td>939.614706</td>\n",
       "      <td>1910.0</td>\n",
       "      <td>2.0200</td>\n",
       "      <td>1.50</td>\n",
       "      <td>1.50</td>\n",
       "      <td>131051.84</td>\n",
       "      <td>N</td>\n",
       "      <td>5262.716415</td>\n",
       "      <td>21187.83</td>\n",
       "      <td>47250.0</td>\n",
       "      <td>No Data</td>\n",
       "      <td>UKD11</td>\n",
       "      <td>203</td>\n",
       "      <td>PURCHASE</td>\n",
       "      <td>16.167519</td>\n",
       "      <td>21060.0</td>\n",
       "      <td>0</td>\n",
       "    </tr>\n",
       "  </tbody>\n",
       "</table>\n",
       "</div>"
      ],
      "text/plain": [
       "         ID PoolCutoffDate LoanOriginationDate DateOfLoanMaturity  \\\n",
       "0  38933530     2016-12-31          2008-01-01         2025-01-01   \n",
       "1  38933309     2017-12-31          2001-01-01         2026-01-01   \n",
       "\n",
       "  BorrowersEmploymentStatus BorrowerType  BorrowerYearOfBirth  \\\n",
       "0                   NO DATA      NO DATA               1968.0   \n",
       "1                   NO DATA      NO DATA               1976.0   \n",
       "\n",
       "  BorrowerCreditQuality  BureauScoreValue  ConstructionYear  \\\n",
       "0               No Data        939.614706            1950.0   \n",
       "1               No Data        939.614706            1910.0   \n",
       "\n",
       "   CurrentInterestRate  CurrentInterestRateMargin  FinalMargin  \\\n",
       "0               2.7759                       2.39         2.39   \n",
       "1               2.0200                       1.50         1.50   \n",
       "\n",
       "   CurrentValuationAmount FirstTimeBuyer  FlexibleLoanAmount  CurrentBalance  \\\n",
       "0               159453.27              N         5262.716415        49667.70   \n",
       "1               131051.84              N         5262.716415        21187.83   \n",
       "\n",
       "   OriginalBalance ForeignNational GeographicRegionList  LoanAge   Purpose  \\\n",
       "0         118000.0         No Data                UKG11      107  PURCHASE   \n",
       "1          47250.0         No Data                UKD11      203  PURCHASE   \n",
       "\n",
       "        CLTV  TotalIncome  target  \n",
       "0  31.148750      51500.0       0  \n",
       "1  16.167519      21060.0       0  "
      ]
     },
     "execution_count": 17,
     "metadata": {},
     "output_type": "execute_result"
    }
   ],
   "source": [
    "df.info()\n",
    "df.head(2)"
   ]
  },
  {
   "cell_type": "markdown",
   "metadata": {},
   "source": [
    "### 4.3- Drop Columns"
   ]
  },
  {
   "cell_type": "code",
   "execution_count": 18,
   "metadata": {},
   "outputs": [],
   "source": [
    "# Drop the ID columsn which we dont need\n",
    "\n",
    "df = df.drop(['ID'], axis=1)"
   ]
  },
  {
   "cell_type": "markdown",
   "metadata": {},
   "source": [
    "### 4.4- Data Manipulations"
   ]
  },
  {
   "cell_type": "markdown",
   "metadata": {},
   "source": [
    "### 4.4.1 - 'BorrowersEmploymentStatus' Columns"
   ]
  },
  {
   "cell_type": "code",
   "execution_count": 19,
   "metadata": {},
   "outputs": [
    {
     "data": {
      "text/plain": [
       "EMPLOYED         62109\n",
       "NO DATA          20307\n",
       "SELF EMPLOYED    11638\n",
       "PENSIONER         1259\n",
       "PROTECTED         1205\n",
       "OTHER              979\n",
       "UNEMPLOYED         485\n",
       "CORPORATE           93\n",
       "STUDENT             18\n",
       "Name: BorrowersEmploymentStatus, dtype: int64"
      ]
     },
     "execution_count": 19,
     "metadata": {},
     "output_type": "execute_result"
    }
   ],
   "source": [
    "# Check different type of employement status in the data\n",
    "\n",
    "df['BorrowersEmploymentStatus'].value_counts()"
   ]
  },
  {
   "cell_type": "code",
   "execution_count": 20,
   "metadata": {},
   "outputs": [],
   "source": [
    "# Convert 'Other','No Data', 'Protected', 'Corporate', 'Student' as 'Unemployed'\n",
    "\n",
    "Replace_Emp_Stat = {'OTHER'     :'UNEMPLOYED',\n",
    "                    'NO DATA'   :'UNEMPLOYED',\n",
    "                    'PROTECTED' :'UNEMPLOYED',\n",
    "                    'CORPORATE' :'UNEMPLOYED',\n",
    "                    'STUDENT'   :'UNEMPLOYED'\n",
    "                   }"
   ]
  },
  {
   "cell_type": "code",
   "execution_count": 21,
   "metadata": {},
   "outputs": [],
   "source": [
    "# Changed Employement status in the data as we defined above\n",
    "\n",
    "df['BorrowersEmploymentStatus'] = df['BorrowersEmploymentStatus'].replace(Replace_Emp_Stat)"
   ]
  },
  {
   "cell_type": "markdown",
   "metadata": {},
   "source": [
    "### 4.4.2 - 'BorrowerType' Columns"
   ]
  },
  {
   "cell_type": "code",
   "execution_count": 22,
   "metadata": {},
   "outputs": [
    {
     "data": {
      "text/plain": [
       "INDIVIDUAL    69597\n",
       "NO DATA       28476\n",
       "COMMERCIAL       20\n",
       "Name: BorrowerType, dtype: int64"
      ]
     },
     "execution_count": 22,
     "metadata": {},
     "output_type": "execute_result"
    }
   ],
   "source": [
    "# Check different BorrowerType status in the data, no action needed here\n",
    "\n",
    "df['BorrowerType'].value_counts()"
   ]
  },
  {
   "cell_type": "markdown",
   "metadata": {},
   "source": [
    "### 4.4.3 - 'BorrowerYearOfBirth' Columns"
   ]
  },
  {
   "cell_type": "code",
   "execution_count": 23,
   "metadata": {},
   "outputs": [
    {
     "data": {
      "text/html": [
       "<div>\n",
       "<style scoped>\n",
       "    .dataframe tbody tr th:only-of-type {\n",
       "        vertical-align: middle;\n",
       "    }\n",
       "\n",
       "    .dataframe tbody tr th {\n",
       "        vertical-align: top;\n",
       "    }\n",
       "\n",
       "    .dataframe thead th {\n",
       "        text-align: right;\n",
       "    }\n",
       "</style>\n",
       "<table border=\"1\" class=\"dataframe\">\n",
       "  <thead>\n",
       "    <tr style=\"text-align: right;\">\n",
       "      <th></th>\n",
       "      <th>PoolCutoffDate</th>\n",
       "      <th>LoanOriginationDate</th>\n",
       "      <th>DateOfLoanMaturity</th>\n",
       "      <th>BorrowersEmploymentStatus</th>\n",
       "      <th>BorrowerType</th>\n",
       "      <th>BorrowerYearOfBirth</th>\n",
       "      <th>BorrowerCreditQuality</th>\n",
       "      <th>BureauScoreValue</th>\n",
       "      <th>ConstructionYear</th>\n",
       "      <th>CurrentInterestRate</th>\n",
       "      <th>CurrentInterestRateMargin</th>\n",
       "      <th>FinalMargin</th>\n",
       "      <th>CurrentValuationAmount</th>\n",
       "      <th>FirstTimeBuyer</th>\n",
       "      <th>FlexibleLoanAmount</th>\n",
       "      <th>CurrentBalance</th>\n",
       "      <th>OriginalBalance</th>\n",
       "      <th>ForeignNational</th>\n",
       "      <th>GeographicRegionList</th>\n",
       "      <th>LoanAge</th>\n",
       "      <th>Purpose</th>\n",
       "      <th>CLTV</th>\n",
       "      <th>TotalIncome</th>\n",
       "      <th>target</th>\n",
       "    </tr>\n",
       "  </thead>\n",
       "  <tbody>\n",
       "    <tr>\n",
       "      <th>0</th>\n",
       "      <td>2016-12-31</td>\n",
       "      <td>2008-01-01</td>\n",
       "      <td>2025-01-01</td>\n",
       "      <td>UNEMPLOYED</td>\n",
       "      <td>NO DATA</td>\n",
       "      <td>1968.0</td>\n",
       "      <td>No Data</td>\n",
       "      <td>939.614706</td>\n",
       "      <td>1950.0</td>\n",
       "      <td>2.7759</td>\n",
       "      <td>2.39</td>\n",
       "      <td>2.39</td>\n",
       "      <td>159453.27</td>\n",
       "      <td>N</td>\n",
       "      <td>5262.716415</td>\n",
       "      <td>49667.70</td>\n",
       "      <td>118000.0</td>\n",
       "      <td>No Data</td>\n",
       "      <td>UKG11</td>\n",
       "      <td>107</td>\n",
       "      <td>PURCHASE</td>\n",
       "      <td>31.148750</td>\n",
       "      <td>51500.0</td>\n",
       "      <td>0</td>\n",
       "    </tr>\n",
       "    <tr>\n",
       "      <th>1</th>\n",
       "      <td>2017-12-31</td>\n",
       "      <td>2001-01-01</td>\n",
       "      <td>2026-01-01</td>\n",
       "      <td>UNEMPLOYED</td>\n",
       "      <td>NO DATA</td>\n",
       "      <td>1976.0</td>\n",
       "      <td>No Data</td>\n",
       "      <td>939.614706</td>\n",
       "      <td>1910.0</td>\n",
       "      <td>2.0200</td>\n",
       "      <td>1.50</td>\n",
       "      <td>1.50</td>\n",
       "      <td>131051.84</td>\n",
       "      <td>N</td>\n",
       "      <td>5262.716415</td>\n",
       "      <td>21187.83</td>\n",
       "      <td>47250.0</td>\n",
       "      <td>No Data</td>\n",
       "      <td>UKD11</td>\n",
       "      <td>203</td>\n",
       "      <td>PURCHASE</td>\n",
       "      <td>16.167519</td>\n",
       "      <td>21060.0</td>\n",
       "      <td>0</td>\n",
       "    </tr>\n",
       "    <tr>\n",
       "      <th>2</th>\n",
       "      <td>2017-05-31</td>\n",
       "      <td>2005-07-01</td>\n",
       "      <td>2030-07-01</td>\n",
       "      <td>EMPLOYED</td>\n",
       "      <td>NO DATA</td>\n",
       "      <td>1983.0</td>\n",
       "      <td>No Data</td>\n",
       "      <td>939.614706</td>\n",
       "      <td>1935.0</td>\n",
       "      <td>3.3300</td>\n",
       "      <td>2.99</td>\n",
       "      <td>2.99</td>\n",
       "      <td>494755.16</td>\n",
       "      <td>N</td>\n",
       "      <td>5262.716415</td>\n",
       "      <td>200551.16</td>\n",
       "      <td>224544.0</td>\n",
       "      <td>No Data</td>\n",
       "      <td>UKI11</td>\n",
       "      <td>142</td>\n",
       "      <td>PURCHASE</td>\n",
       "      <td>40.535435</td>\n",
       "      <td>0.0</td>\n",
       "      <td>1</td>\n",
       "    </tr>\n",
       "    <tr>\n",
       "      <th>3</th>\n",
       "      <td>2016-03-31</td>\n",
       "      <td>2008-04-01</td>\n",
       "      <td>2033-04-01</td>\n",
       "      <td>UNEMPLOYED</td>\n",
       "      <td>NO DATA</td>\n",
       "      <td>1974.0</td>\n",
       "      <td>No Data</td>\n",
       "      <td>939.614706</td>\n",
       "      <td>1910.0</td>\n",
       "      <td>3.4300</td>\n",
       "      <td>2.84</td>\n",
       "      <td>2.84</td>\n",
       "      <td>143621.55</td>\n",
       "      <td>N</td>\n",
       "      <td>5262.716415</td>\n",
       "      <td>102336.49</td>\n",
       "      <td>101600.0</td>\n",
       "      <td>No Data</td>\n",
       "      <td>UKK11</td>\n",
       "      <td>95</td>\n",
       "      <td>REMORTGAGE</td>\n",
       "      <td>71.254270</td>\n",
       "      <td>24255.0</td>\n",
       "      <td>0</td>\n",
       "    </tr>\n",
       "    <tr>\n",
       "      <th>4</th>\n",
       "      <td>2018-03-31</td>\n",
       "      <td>2006-01-01</td>\n",
       "      <td>2031-01-01</td>\n",
       "      <td>UNEMPLOYED</td>\n",
       "      <td>NO DATA</td>\n",
       "      <td>1977.0</td>\n",
       "      <td>No Data</td>\n",
       "      <td>939.614706</td>\n",
       "      <td>1989.0</td>\n",
       "      <td>3.0700</td>\n",
       "      <td>2.49</td>\n",
       "      <td>2.49</td>\n",
       "      <td>194983.10</td>\n",
       "      <td>N</td>\n",
       "      <td>5262.716415</td>\n",
       "      <td>171645.92</td>\n",
       "      <td>177000.0</td>\n",
       "      <td>No Data</td>\n",
       "      <td>UKE11</td>\n",
       "      <td>146</td>\n",
       "      <td>PURCHASE</td>\n",
       "      <td>88.031180</td>\n",
       "      <td>55273.0</td>\n",
       "      <td>0</td>\n",
       "    </tr>\n",
       "  </tbody>\n",
       "</table>\n",
       "</div>"
      ],
      "text/plain": [
       "  PoolCutoffDate LoanOriginationDate DateOfLoanMaturity  \\\n",
       "0     2016-12-31          2008-01-01         2025-01-01   \n",
       "1     2017-12-31          2001-01-01         2026-01-01   \n",
       "2     2017-05-31          2005-07-01         2030-07-01   \n",
       "3     2016-03-31          2008-04-01         2033-04-01   \n",
       "4     2018-03-31          2006-01-01         2031-01-01   \n",
       "\n",
       "  BorrowersEmploymentStatus BorrowerType  BorrowerYearOfBirth  \\\n",
       "0                UNEMPLOYED      NO DATA               1968.0   \n",
       "1                UNEMPLOYED      NO DATA               1976.0   \n",
       "2                  EMPLOYED      NO DATA               1983.0   \n",
       "3                UNEMPLOYED      NO DATA               1974.0   \n",
       "4                UNEMPLOYED      NO DATA               1977.0   \n",
       "\n",
       "  BorrowerCreditQuality  BureauScoreValue  ConstructionYear  \\\n",
       "0               No Data        939.614706            1950.0   \n",
       "1               No Data        939.614706            1910.0   \n",
       "2               No Data        939.614706            1935.0   \n",
       "3               No Data        939.614706            1910.0   \n",
       "4               No Data        939.614706            1989.0   \n",
       "\n",
       "   CurrentInterestRate  CurrentInterestRateMargin  FinalMargin  \\\n",
       "0               2.7759                       2.39         2.39   \n",
       "1               2.0200                       1.50         1.50   \n",
       "2               3.3300                       2.99         2.99   \n",
       "3               3.4300                       2.84         2.84   \n",
       "4               3.0700                       2.49         2.49   \n",
       "\n",
       "   CurrentValuationAmount FirstTimeBuyer  FlexibleLoanAmount  CurrentBalance  \\\n",
       "0               159453.27              N         5262.716415        49667.70   \n",
       "1               131051.84              N         5262.716415        21187.83   \n",
       "2               494755.16              N         5262.716415       200551.16   \n",
       "3               143621.55              N         5262.716415       102336.49   \n",
       "4               194983.10              N         5262.716415       171645.92   \n",
       "\n",
       "   OriginalBalance ForeignNational GeographicRegionList  LoanAge     Purpose  \\\n",
       "0         118000.0         No Data                UKG11      107    PURCHASE   \n",
       "1          47250.0         No Data                UKD11      203    PURCHASE   \n",
       "2         224544.0         No Data                UKI11      142    PURCHASE   \n",
       "3         101600.0         No Data                UKK11       95  REMORTGAGE   \n",
       "4         177000.0         No Data                UKE11      146    PURCHASE   \n",
       "\n",
       "        CLTV  TotalIncome  target  \n",
       "0  31.148750      51500.0       0  \n",
       "1  16.167519      21060.0       0  \n",
       "2  40.535435          0.0       1  \n",
       "3  71.254270      24255.0       0  \n",
       "4  88.031180      55273.0       0  "
      ]
     },
     "execution_count": 23,
     "metadata": {},
     "output_type": "execute_result"
    }
   ],
   "source": [
    "df.head()"
   ]
  },
  {
   "cell_type": "code",
   "execution_count": 24,
   "metadata": {},
   "outputs": [],
   "source": [
    "# Change the 'BorrowerYearOfBirth' column datatype to int \n",
    "# Create a new column and calculate the difference between the 'LoanOriginationDate'-'BorrowerYearOfBirth'\n",
    "# Borrowers age is more related than it is year of birth\n",
    "\n",
    "df['BorrowerYearOfBirth'] = df['BorrowerYearOfBirth'].astype(int)\n",
    "df['Borrower_Age'] = df['LoanOriginationDate'].dt.year.astype(int) - df['BorrowerYearOfBirth'].astype(int)\n",
    "\n",
    "df = df.drop(columns=['BorrowerYearOfBirth'], axis=1)"
   ]
  },
  {
   "cell_type": "code",
   "execution_count": 25,
   "metadata": {},
   "outputs": [
    {
     "data": {
      "text/plain": [
       "<matplotlib.axes._subplots.AxesSubplot at 0x7f90be542a10>"
      ]
     },
     "execution_count": 25,
     "metadata": {},
     "output_type": "execute_result"
    },
    {
     "data": {
      "image/png": "[encoded data removed]",
      "text/plain": [
       "<Figure size 432x288 with 1 Axes>"
      ]
     },
     "metadata": {
      "needs_background": "light"
     },
     "output_type": "display_data"
    }
   ],
   "source": [
    "# Check the distribution of the Borrowers age\n",
    "\n",
    "df['Borrower_Age'].hist()"
   ]
  },
  {
   "cell_type": "code",
   "execution_count": 26,
   "metadata": {},
   "outputs": [],
   "source": [
    "# The age group over 60 and below 25 might be bias therefore drop those age groups\n",
    "\n",
    "df = df[((df['Borrower_Age'] < 60)  | \n",
    "         (df['Borrower_Age'] > 25)) & \n",
    "        \n",
    "        (df['BorrowerType'] != 'COMMERCIAL')]\n",
    "\n",
    "df = df.reset_index(drop=True)"
   ]
  },
  {
   "cell_type": "markdown",
   "metadata": {},
   "source": [
    "### 4.4.4 - 'BorrowerYearOfBirth' Columns"
   ]
  },
  {
   "cell_type": "code",
   "execution_count": 27,
   "metadata": {},
   "outputs": [
    {
     "data": {
      "text/plain": [
       "No Data        48085\n",
       "Prime          33565\n",
       "PRIME           6579\n",
       "PASS TYPE A     3795\n",
       "PASS TYPE B     3380\n",
       "PASS TYPE C     2529\n",
       "Vida 1            57\n",
       "Acquired          49\n",
       "Vida 2            13\n",
       "Vida 3             8\n",
       "Near Prime         7\n",
       "Vida 4             5\n",
       "Vida 5             1\n",
       "Name: BorrowerCreditQuality, dtype: int64"
      ]
     },
     "execution_count": 27,
     "metadata": {},
     "output_type": "execute_result"
    }
   ],
   "source": [
    "# Change the values in the 'BorrowerCreditQuality' column\n",
    "\n",
    "replace_CreditQuality = {'No Data'     :'NO DATA' ,\n",
    "                         'Prime'       :'PRIME'   ,\n",
    "                         'Near Prime'  :'PRIME'   ,\n",
    "                         'Vida 1'      :'VIDA'    ,\n",
    "                         'Vida 2'      :'VIDA'    ,\n",
    "                         'Vida 3'      :'VIDA'    ,\n",
    "                         'Vida 4'      :'VIDA'    ,\n",
    "                         'Vida 5'      :'VIDA'    ,\n",
    "                         'Acquired'    :'ACQUIRED'\n",
    "                        }\n",
    "\n",
    "df['BorrowerCreditQuality'].value_counts()"
   ]
  },
  {
   "cell_type": "markdown",
   "metadata": {},
   "source": [
    "### 4.4.5 - 'FirstTimeBuyer' Columns"
   ]
  },
  {
   "cell_type": "code",
   "execution_count": 28,
   "metadata": {},
   "outputs": [
    {
     "data": {
      "text/plain": [
       "N          48685\n",
       "No Data    36816\n",
       "Y          12572\n",
       "Name: FirstTimeBuyer, dtype: int64"
      ]
     },
     "execution_count": 28,
     "metadata": {},
     "output_type": "execute_result"
    }
   ],
   "source": [
    "# No Action is needed for this column\n",
    "\n",
    "df['FirstTimeBuyer'].value_counts()"
   ]
  },
  {
   "cell_type": "markdown",
   "metadata": {},
   "source": [
    "### 4.4.6 - 'ForeignNational' Columns"
   ]
  },
  {
   "cell_type": "code",
   "execution_count": 29,
   "metadata": {},
   "outputs": [
    {
     "data": {
      "text/plain": [
       "No Data    79575\n",
       "Y          17888\n",
       "N            610\n",
       "Name: ForeignNational, dtype: int64"
      ]
     },
     "execution_count": 29,
     "metadata": {},
     "output_type": "execute_result"
    }
   ],
   "source": [
    "# No Action is needed for this column\n",
    "\n",
    "df['ForeignNational'].value_counts()"
   ]
  },
  {
   "cell_type": "markdown",
   "metadata": {},
   "source": [
    "### 4.4.7 - 'GeographicRegionList' Columns"
   ]
  },
  {
   "cell_type": "code",
   "execution_count": 30,
   "metadata": {},
   "outputs": [
    {
     "data": {
      "text/html": [
       "<div>\n",
       "<style scoped>\n",
       "    .dataframe tbody tr th:only-of-type {\n",
       "        vertical-align: middle;\n",
       "    }\n",
       "\n",
       "    .dataframe tbody tr th {\n",
       "        vertical-align: top;\n",
       "    }\n",
       "\n",
       "    .dataframe thead th {\n",
       "        text-align: right;\n",
       "    }\n",
       "</style>\n",
       "<table border=\"1\" class=\"dataframe\">\n",
       "  <thead>\n",
       "    <tr style=\"text-align: right;\">\n",
       "      <th></th>\n",
       "      <th>GeographicRegionList</th>\n",
       "      <th>Level</th>\n",
       "    </tr>\n",
       "  </thead>\n",
       "  <tbody>\n",
       "    <tr>\n",
       "      <th>0</th>\n",
       "      <td>NaN</td>\n",
       "      <td>1</td>\n",
       "    </tr>\n",
       "    <tr>\n",
       "      <th>1</th>\n",
       "      <td>BE</td>\n",
       "      <td>2</td>\n",
       "    </tr>\n",
       "  </tbody>\n",
       "</table>\n",
       "</div>"
      ],
      "text/plain": [
       "  GeographicRegionList  Level\n",
       "0                  NaN      1\n",
       "1                   BE      2"
      ]
     },
     "execution_count": 30,
     "metadata": {},
     "output_type": "execute_result"
    }
   ],
   "source": [
    "# Use external file for nuts_list \n",
    "\n",
    "nuts_list = nuts_list[['NUTS-Code','Level']]\n",
    "nuts_list = nuts_list.rename({'NUTS-Code':'GeographicRegionList'}, axis=1)\n",
    "\n",
    "nuts_list = nuts_list.drop_duplicates()\n",
    "nuts_list.head(2)"
   ]
  },
  {
   "cell_type": "code",
   "execution_count": 31,
   "metadata": {},
   "outputs": [],
   "source": [
    "# Merge the nuts_list file and main data set\n",
    "# Drop the null values after merging\n",
    "\n",
    "df = df.merge(nuts_list, on=['GeographicRegionList'], how='left')\n",
    "df = df[df['Level'].notnull()]"
   ]
  },
  {
   "cell_type": "code",
   "execution_count": 32,
   "metadata": {},
   "outputs": [],
   "source": [
    "# Drop the 'GeographicRegionList' column - dummy variable\n",
    "\n",
    "df = df.drop(columns=['GeographicRegionList'], axis=1)"
   ]
  },
  {
   "cell_type": "markdown",
   "metadata": {},
   "source": [
    "### 4.4.8 - 'Purpose' Columns"
   ]
  },
  {
   "cell_type": "code",
   "execution_count": 33,
   "metadata": {},
   "outputs": [
    {
     "data": {
      "text/plain": [
       "PURCHASE                     53871\n",
       "REMORTGAGE                   30218\n",
       "DEBT CONSOLIDATION            3256\n",
       "REMORTGAGE EQUITY RELEASE     2015\n",
       "RENOVATION                    1301\n",
       "EQUITY RELEASE                1251\n",
       "NO DATA                        949\n",
       "RIGHT TO BUY                   942\n",
       "INVESTMENT                     729\n",
       "OTHER                          299\n",
       "REMORTGAGE NEW TERMS            69\n",
       "CONSTRUCTION                     2\n",
       "Name: Purpose, dtype: int64"
      ]
     },
     "execution_count": 33,
     "metadata": {},
     "output_type": "execute_result"
    }
   ],
   "source": [
    "# Check the 'Purpose' column\n",
    "\n",
    "df['Purpose'].value_counts()"
   ]
  },
  {
   "cell_type": "code",
   "execution_count": 34,
   "metadata": {},
   "outputs": [],
   "source": [
    "# Change the data in Purpose column\n",
    "\n",
    "df['Purpose'] = df['Purpose'].apply(lambda x: 'NO DATA' if x == 'OTHER' else x)"
   ]
  },
  {
   "cell_type": "markdown",
   "metadata": {},
   "source": [
    "### 4.4.9 - 'LoanOriginationDate' & 'DateOfLoanMaturity' Columns"
   ]
  },
  {
   "cell_type": "code",
   "execution_count": 35,
   "metadata": {},
   "outputs": [],
   "source": [
    "# Create a new column 'Diff_Maturity_Origin' and take the difference between \n",
    "# 'DateOfLoanMaturity' - 'LoanOriginationDate'\n",
    "\n",
    "# Create a new column 'Diff_Cutoff_Origin' and take the difference between \n",
    "# 'PoolCutoffDate' - 'LoanOriginationDate'\n",
    "\n",
    "df['Diff_Maturity_Origin'] = (df['DateOfLoanMaturity'] - df['LoanOriginationDate']).dt.days\n",
    "df['Diff_Cutoff_Origin']   = (df['PoolCutoffDate']     - df['LoanOriginationDate']).dt.days"
   ]
  },
  {
   "cell_type": "code",
   "execution_count": 36,
   "metadata": {},
   "outputs": [],
   "source": [
    "# Drop the 'PoolCutoffDate','LoanOriginationDate','DateOfLoanMaturity'\n",
    "# Dummy variables \n",
    "\n",
    "df = df.drop(columns=['PoolCutoffDate','LoanOriginationDate','DateOfLoanMaturity'], axis=1)"
   ]
  },
  {
   "cell_type": "code",
   "execution_count": 37,
   "metadata": {},
   "outputs": [
    {
     "data": {
      "text/plain": [
       "EMPLOYED         60450\n",
       "UNEMPLOYED       21786\n",
       "SELF EMPLOYED    11422\n",
       "PENSIONER         1244\n",
       "Name: BorrowersEmploymentStatus, dtype: int64"
      ]
     },
     "execution_count": 37,
     "metadata": {},
     "output_type": "execute_result"
    }
   ],
   "source": [
    "# Check the 'BorrowersEmploymentStatus'\n",
    "\n",
    "df['BorrowersEmploymentStatus'].value_counts()"
   ]
  },
  {
   "cell_type": "markdown",
   "metadata": {},
   "source": [
    "## 4.5 Exploratory Analysis"
   ]
  },
  {
   "cell_type": "markdown",
   "metadata": {},
   "source": [
    "### 4.5.1 Exploratory Analysis and Outliers"
   ]
  },
  {
   "cell_type": "code",
   "execution_count": 38,
   "metadata": {},
   "outputs": [
    {
     "name": "stderr",
     "output_type": "stream",
     "text": [
      "No handles with labels found to put in legend.\n"
     ]
    },
    {
     "data": {
      "text/plain": [
       "<matplotlib.legend.Legend at 0x7f90be5ef890>"
      ]
     },
     "execution_count": 38,
     "metadata": {},
     "output_type": "execute_result"
    },
    {
     "data": {
      "image/png": "[encoded data removed]",
      "text/plain": [
       "<Figure size 432x288 with 1 Axes>"
      ]
     },
     "metadata": {
      "needs_background": "light"
     },
     "output_type": "display_data"
    }
   ],
   "source": [
    "# Relationship between columns\n",
    "plt.scatter(df['BorrowersEmploymentStatus'], df['TotalIncome'])\n",
    "\n",
    "plt.xlabel('BorrowersEmploymentStatus')\n",
    "plt.ylabel('TotalIncome')\n",
    "plt.legend()\n"
   ]
  },
  {
   "cell_type": "code",
   "execution_count": 39,
   "metadata": {},
   "outputs": [],
   "source": [
    "# Drop the outliers if the 'EmploymentStatus' ==> Self Employed and 'Total Income' is over 1 000 000\n",
    "# It looks like a outliers\n",
    "\n",
    "df = df[~((df['BorrowersEmploymentStatus'] == 'SELF EMPLOYED') &\n",
    "          (df['TotalIncome'] > 1000000))]"
   ]
  },
  {
   "cell_type": "markdown",
   "metadata": {},
   "source": [
    "### 4.5.2 Exploratory Analysis"
   ]
  },
  {
   "cell_type": "code",
   "execution_count": 40,
   "metadata": {},
   "outputs": [
    {
     "name": "stderr",
     "output_type": "stream",
     "text": [
      "No handles with labels found to put in legend.\n"
     ]
    },
    {
     "data": {
      "text/plain": [
       "<matplotlib.legend.Legend at 0x7f90babd85d0>"
      ]
     },
     "execution_count": 40,
     "metadata": {},
     "output_type": "execute_result"
    },
    {
     "data": {
      "image/png": "[encoded data removed]",
      "text/plain": [
       "<Figure size 432x288 with 1 Axes>"
      ]
     },
     "metadata": {
      "needs_background": "light"
     },
     "output_type": "display_data"
    }
   ],
   "source": [
    "# Relationship between columns\n",
    "plt.scatter(df['BorrowersEmploymentStatus'], df['OriginalBalance'])\n",
    "\n",
    "plt.xlabel('BorrowersEmploymentStatus')\n",
    "plt.ylabel('OriginalBalance')\n",
    "plt.legend()"
   ]
  },
  {
   "cell_type": "markdown",
   "metadata": {},
   "source": [
    "### 4.5.3 Exploratory Analysis"
   ]
  },
  {
   "cell_type": "code",
   "execution_count": 41,
   "metadata": {},
   "outputs": [
    {
     "name": "stderr",
     "output_type": "stream",
     "text": [
      "No handles with labels found to put in legend.\n"
     ]
    },
    {
     "data": {
      "text/plain": [
       "<matplotlib.legend.Legend at 0x7f90be4ac9d0>"
      ]
     },
     "execution_count": 41,
     "metadata": {},
     "output_type": "execute_result"
    },
    {
     "data": {
      "image/png": "[encoded data removed]",
      "text/plain": [
       "<Figure size 432x288 with 1 Axes>"
      ]
     },
     "metadata": {
      "needs_background": "light"
     },
     "output_type": "display_data"
    }
   ],
   "source": [
    "# Relationship between columns\n",
    "plt.scatter(df['BorrowersEmploymentStatus'], df['FlexibleLoanAmount'])\n",
    "\n",
    "plt.xlabel('BorrowersEmploymentStatus')\n",
    "plt.ylabel('FlexibleLoanAmount')\n",
    "plt.legend()"
   ]
  },
  {
   "cell_type": "code",
   "execution_count": null,
   "metadata": {},
   "outputs": [
    {
     "data": {
      "text/plain": [
       "<matplotlib.legend.Legend at 0x7f90bf0188d0>"
      ]
     },
     "execution_count": 42,
     "metadata": {},
     "output_type": "execute_result"
    }
   ],
   "source": [
    "# Relationship between columns\n",
    " \n",
    "color                     = ['Red','Blue','Green','Yellow']    \n",
    "BorrowersEmploymentStatus = ['EMPLOYED','UNEMPLOYED','SELF EMPLOYED','PENSIONER']\n",
    "    \n",
    "for i in range(len(BorrowersEmploymentStatus)):\n",
    "    \n",
    "    df_1 = df[df['BorrowersEmploymentStatus'] == BorrowersEmploymentStatus[i]] \n",
    "    plt.scatter(df_1['Borrower_Age'], df_1['TotalIncome'], c=color[i], label=BorrowersEmploymentStatus[i])\n",
    "\n",
    "plt.xlabel('Borrower_Age')\n",
    "plt.ylabel('TotalIncome')\n",
    "plt.legend()"
   ]
  },
  {
   "cell_type": "markdown",
   "metadata": {},
   "source": [
    "## 4.6 Correlation Matrix"
   ]
  },
  {
   "cell_type": "code",
   "execution_count": null,
   "metadata": {},
   "outputs": [],
   "source": [
    "corr = df.corr()\n",
    "plt.figure(figsize=(15,15))\n",
    "\n",
    "corr_select = sns.heatmap(corr, annot=True, cmap='coolwarm')\n",
    "bottom, top = corr_select.get_ylim()\n",
    "\n",
    "corr_select.set_ylim(bottom + 0.5, top - 0.5)\n"
   ]
  },
  {
   "cell_type": "code",
   "execution_count": null,
   "metadata": {},
   "outputs": [],
   "source": [
    "# Drop highly correlated columns \n",
    "\n",
    "def correlated_columns(df, threshold):\n",
    "    \n",
    "    col_corr    = set()\n",
    "    corr_matrix = df.corr()\n",
    "    \n",
    "    for i in range(len(corr_matrix.columns)):\n",
    "    \n",
    "        for j in range(i):\n",
    "                   \n",
    "            if corr_matrix.iloc[i,j] > threshold:\n",
    "                colname = corr_matrix.columns[i]\n",
    "                col_corr.add(colname)\n",
    "                   \n",
    "    return col_corr"
   ]
  },
  {
   "cell_type": "code",
   "execution_count": null,
   "metadata": {},
   "outputs": [],
   "source": [
    "# If the correlation between columns are higher than 80% then drop these columns\n",
    "\n",
    "corr_features = correlated_columns(df, 0.8)\n",
    "len(set(corr_features))"
   ]
  },
  {
   "cell_type": "code",
   "execution_count": null,
   "metadata": {},
   "outputs": [],
   "source": [
    "# Names of the dropping columns\n",
    "\n",
    "corr_features"
   ]
  },
  {
   "cell_type": "code",
   "execution_count": null,
   "metadata": {},
   "outputs": [],
   "source": [
    "# Drop the highly correlated columns\n",
    "\n",
    "df = df.drop(corr_features, axis=1)"
   ]
  },
  {
   "cell_type": "markdown",
   "metadata": {},
   "source": [
    "## 4.7 Label Encoding"
   ]
  },
  {
   "cell_type": "code",
   "execution_count": null,
   "metadata": {},
   "outputs": [],
   "source": [
    "# Change the integer columns to numberic columns applied label encoding\n",
    "\n",
    "from sklearn.preprocessing import LabelEncoder\n",
    "\n",
    "cols = ['BorrowersEmploymentStatus','BorrowerType','BorrowerCreditQuality','FirstTimeBuyer','ForeignNational','Purpose']\n",
    "le   = LabelEncoder()\n",
    "\n",
    "for i in cols:\n",
    "    df[i] = le.fit_transform(df[i])"
   ]
  },
  {
   "cell_type": "code",
   "execution_count": null,
   "metadata": {},
   "outputs": [],
   "source": [
    "df.head()"
   ]
  },
  {
   "cell_type": "markdown",
   "metadata": {},
   "source": [
    "## 4.8 Feature Selection - Back and Forward Method was applied "
   ]
  },
  {
   "cell_type": "code",
   "execution_count": null,
   "metadata": {},
   "outputs": [],
   "source": [
    "# After many iteration, those columns are chosen for trainin model\n",
    "\n",
    "df = df[['BorrowersEmploymentStatus',\n",
    "         'BorrowerType',\n",
    "         'BorrowerCreditQuality',\n",
    "         'FirstTimeBuyer',\n",
    "         'Purpose', \n",
    "         'TotalIncome',\n",
    "         'Level',\n",
    "         'CurrentBalance', \n",
    "         'FirstTimeBuyer',\n",
    "         'Borrower_Age',\n",
    "         'Diff_Maturity_Origin',\n",
    "         'target']]"
   ]
  },
  {
   "cell_type": "code",
   "execution_count": null,
   "metadata": {},
   "outputs": [],
   "source": [
    "# 0.703325%\n",
    "'''\n",
    "df = df[['BorrowersEmploymentStatus',\n",
    "         'BorrowerCreditQuality',\n",
    "         'FirstTimeBuyer',\n",
    "         'Purpose', \n",
    "         'TotalIncome',\n",
    "         'Level',\n",
    "         'CurrentBalance', \n",
    "         'FirstTimeBuyer',\n",
    "         'Borrower_Age',\n",
    "         'Diff_Maturity_Origin',\n",
    "         'target']]\n",
    "    \n",
    "'''\n",
    "print('')"
   ]
  },
  {
   "cell_type": "code",
   "execution_count": null,
   "metadata": {},
   "outputs": [],
   "source": [
    "'''\n",
    "\n",
    "df = df[['BorrowersEmploymentStatus',\n",
    "\n",
    "         'BorrowerCreditQuality',\n",
    "\n",
    "\n",
    "         'FirstTimeBuyer',\n",
    "         'LoanAge', \n",
    "\n",
    "         'TotalIncome',\n",
    "         'Diff_Maturity_Origin',\n",
    "         'Borrower_Age',\n",
    "\n",
    "\n",
    "         'target']]\n",
    "         \n",
    "'''\n",
    "print('')"
   ]
  },
  {
   "cell_type": "markdown",
   "metadata": {},
   "source": [
    "## 4.9 Clean Outliers"
   ]
  },
  {
   "cell_type": "code",
   "execution_count": null,
   "metadata": {},
   "outputs": [],
   "source": [
    "# Apply Quantile method for cleaning outliers from the data set \n",
    "# Max thresold is .95\n",
    "\n",
    "max_thresold = df['TotalIncome'].quantile(0.95)\n",
    "max_thresold"
   ]
  },
  {
   "cell_type": "code",
   "execution_count": null,
   "metadata": {},
   "outputs": [],
   "source": [
    "# Apply Quantile method for cleaning outliers from the data set \n",
    "# Min thresold is .05\n",
    "\n",
    "min_thresold = df['TotalIncome'].quantile(0.05)\n",
    "min_thresold"
   ]
  },
  {
   "cell_type": "code",
   "execution_count": null,
   "metadata": {},
   "outputs": [],
   "source": [
    "df.shape"
   ]
  },
  {
   "cell_type": "code",
   "execution_count": null,
   "metadata": {},
   "outputs": [],
   "source": [
    "# Remove Outliers\n",
    "\n",
    "df = df[(df['TotalIncome']<max_thresold) & (df['TotalIncome']>min_thresold)]"
   ]
  },
  {
   "cell_type": "code",
   "execution_count": null,
   "metadata": {},
   "outputs": [],
   "source": [
    "df.shape"
   ]
  },
  {
   "cell_type": "markdown",
   "metadata": {},
   "source": [
    "## 5- Model Building"
   ]
  },
  {
   "cell_type": "markdown",
   "metadata": {},
   "source": [
    "### 5.1 - Data Set Balance"
   ]
  },
  {
   "cell_type": "code",
   "execution_count": null,
   "metadata": {},
   "outputs": [],
   "source": [
    "# Check the dataset balanced or not balanced\n",
    "\n",
    "sns.countplot(df['target'])"
   ]
  },
  {
   "cell_type": "code",
   "execution_count": null,
   "metadata": {},
   "outputs": [],
   "source": [
    "def check_dataset_balance(df):\n",
    "\n",
    "    df_0 = df[df['target'] == 0]\n",
    "    df_1 = df[df['target'] == 1]\n",
    "\n",
    "    print('target_0 rows, columns:', df_0.shape, 'and target_1 rows, columns:', df_1.shape)\n",
    "\n",
    "    print()\n",
    "    if df_0.shape[0]/df_1.shape[0] > 2 or df_0.shape[0]/df_1.shape[0] < 0.5:\n",
    "        print('imbalance data set')\n",
    "    else:\n",
    "        print('balanced  data set')"
   ]
  },
  {
   "cell_type": "code",
   "execution_count": null,
   "metadata": {},
   "outputs": [],
   "source": [
    "check_dataset_balance(df)"
   ]
  },
  {
   "cell_type": "markdown",
   "metadata": {},
   "source": [
    "The dataset is unbalanced but make it balanced is causing the dropping accuracy for the model,\n",
    "Therefore oversampling is not applied, \n",
    "The dataset is small therefore under sampling was not used."
   ]
  },
  {
   "cell_type": "markdown",
   "metadata": {},
   "source": [
    "### 5.2 - Split Dataset - Dependent and Independent Features"
   ]
  },
  {
   "cell_type": "code",
   "execution_count": null,
   "metadata": {},
   "outputs": [],
   "source": [
    "from sklearn.model_selection import train_test_split"
   ]
  },
  {
   "cell_type": "code",
   "execution_count": null,
   "metadata": {},
   "outputs": [],
   "source": [
    "# Split dataset dependent and independent features\n",
    "# Convert array\n",
    "\n",
    "X = df.drop(['target'], axis=1)\n",
    "X = np.array(X)\n",
    "\n",
    "y = df[['target']].to_numpy()"
   ]
  },
  {
   "cell_type": "markdown",
   "metadata": {},
   "source": [
    "### 5.3 Over Sampler Libraries"
   ]
  },
  {
   "cell_type": "code",
   "execution_count": null,
   "metadata": {},
   "outputs": [],
   "source": [
    "from imblearn.combine import SMOTETomek\n",
    "from imblearn.over_sampling import SMOTE\n",
    "from imblearn.over_sampling import RandomOverSampler"
   ]
  },
  {
   "cell_type": "markdown",
   "metadata": {},
   "source": [
    "### 5.4 Over Sampler Version 1"
   ]
  },
  {
   "cell_type": "markdown",
   "metadata": {},
   "source": [
    "The dataset is unbalanced but make it balanced is causing the dropping accuracy for the model,\n",
    "Therefore oversampling is not applied, \n",
    "The dataset is small therefore under sampling was not used."
   ]
  },
  {
   "cell_type": "code",
   "execution_count": null,
   "metadata": {},
   "outputs": [],
   "source": [
    "#smk      = SMOTETomek(random_state=12)\n",
    "#X_b, y_b = smk.fit_resample(X, y)"
   ]
  },
  {
   "cell_type": "code",
   "execution_count": null,
   "metadata": {},
   "outputs": [],
   "source": [
    "#X_b.shape"
   ]
  },
  {
   "cell_type": "code",
   "execution_count": null,
   "metadata": {},
   "outputs": [],
   "source": [
    "#y_b.shape "
   ]
  },
  {
   "cell_type": "markdown",
   "metadata": {},
   "source": [
    "### 5.5 Over Sampler Version 2"
   ]
  },
  {
   "cell_type": "markdown",
   "metadata": {},
   "source": [
    "The dataset is unbalanced but make it balanced is causing the dropping accuracy for the model,\n",
    "Therefore oversampling is not applied, \n",
    "The dataset is small therefore under sampling was not used."
   ]
  },
  {
   "cell_type": "code",
   "execution_count": null,
   "metadata": {},
   "outputs": [],
   "source": [
    "#Over_Sampler = RandomOverSampler(random_state=42) \n",
    "#X_c, y_c     = Over_Sampler.fit_resample(X,y)"
   ]
  },
  {
   "cell_type": "code",
   "execution_count": null,
   "metadata": {},
   "outputs": [],
   "source": [
    "#X_c.shape"
   ]
  },
  {
   "cell_type": "code",
   "execution_count": null,
   "metadata": {},
   "outputs": [],
   "source": [
    "#y_c.shape"
   ]
  },
  {
   "cell_type": "markdown",
   "metadata": {},
   "source": [
    "### 5.6 Over Sampler Version 3"
   ]
  },
  {
   "cell_type": "markdown",
   "metadata": {},
   "source": [
    "The dataset is unbalanced but make it balanced is causing the dropping accuracy for the model,\n",
    "Therefore oversampling is not applied, \n",
    "The dataset is small therefore under sampling was not used."
   ]
  },
  {
   "cell_type": "code",
   "execution_count": null,
   "metadata": {},
   "outputs": [],
   "source": [
    "#Over_Sampler_2 = SMOTE(random_state=12) \n",
    "#X_d, y_d      = Over_Sampler_2.fit_resample(X,y)"
   ]
  },
  {
   "cell_type": "code",
   "execution_count": null,
   "metadata": {},
   "outputs": [],
   "source": [
    "#X_d.shape"
   ]
  },
  {
   "cell_type": "code",
   "execution_count": null,
   "metadata": {},
   "outputs": [],
   "source": [
    "#y_d.shape"
   ]
  },
  {
   "cell_type": "markdown",
   "metadata": {},
   "source": [
    "## 6- Building Model"
   ]
  },
  {
   "cell_type": "markdown",
   "metadata": {},
   "source": [
    "### 6.1 - Scaling dataset"
   ]
  },
  {
   "cell_type": "markdown",
   "metadata": {},
   "source": [
    "The dataset is not scaled, cause it cause drop the model accuracy"
   ]
  },
  {
   "cell_type": "code",
   "execution_count": null,
   "metadata": {},
   "outputs": [],
   "source": [
    "# Scaling dataset\n",
    "\n",
    "from sklearn.preprocessing import StandardScaler\n",
    "scaling = StandardScaler()\n",
    "\n",
    "#X   = scaling.fit_transform(X)\n",
    "#X_b = scaling.fit_transform(X_b)\n",
    "#X_c = scaling.fit_transform(X_c)\n",
    "#X_d = scaling.fit_transform(X_d)"
   ]
  },
  {
   "cell_type": "code",
   "execution_count": null,
   "metadata": {},
   "outputs": [],
   "source": [
    "# Upload the model libraries\n",
    "\n",
    "from sklearn.linear_model import LogisticRegression\n",
    "from sklearn.metrics import classification_report\n",
    "from sklearn.metrics import accuracy_score, f1_score\n",
    "from sklearn.model_selection import KFold"
   ]
  },
  {
   "cell_type": "code",
   "execution_count": null,
   "metadata": {},
   "outputs": [],
   "source": [
    "# Impoting classification models\n",
    "\n",
    "from xgboost import XGBClassifier\n",
    "from sklearn.ensemble import RandomForestClassifier\n",
    "from sklearn.linear_model import LogisticRegression\n",
    "from sklearn.tree import DecisionTreeClassifier\n",
    "from sklearn.naive_bayes import GaussianNB\n",
    "\n",
    "# to perform K-fold cross validation\n",
    "from sklearn import model_selection"
   ]
  },
  {
   "cell_type": "code",
   "execution_count": null,
   "metadata": {},
   "outputs": [],
   "source": [
    "# Gaussian Naive Bayes classifier\n",
    "gnb_classifier = GaussianNB()"
   ]
  },
  {
   "cell_type": "code",
   "execution_count": null,
   "metadata": {},
   "outputs": [],
   "source": [
    "# Logistic Regression classifier\n",
    "lr_classifier = LogisticRegression(penalty = 'l2', random_state = 0)"
   ]
  },
  {
   "cell_type": "code",
   "execution_count": null,
   "metadata": {},
   "outputs": [],
   "source": [
    "# Decision Tree Classifier\n",
    "dt_classifier = DecisionTreeClassifier(random_state=42)"
   ]
  },
  {
   "cell_type": "code",
   "execution_count": null,
   "metadata": {},
   "outputs": [],
   "source": [
    "# Random Forest Classifier\n",
    "rf_classifier = RandomForestClassifier(n_estimators = 5, criterion = 'entropy')"
   ]
  },
  {
   "cell_type": "code",
   "execution_count": null,
   "metadata": {},
   "outputs": [],
   "source": [
    "# eXtreme Gradient Boosting Classifier (XGBClassifier)\n",
    "xgb_classifier = XGBClassifier()"
   ]
  },
  {
   "cell_type": "code",
   "execution_count": null,
   "metadata": {},
   "outputs": [],
   "source": [
    "# models list to automate the training and testing \n",
    "models = []"
   ]
  },
  {
   "cell_type": "code",
   "execution_count": null,
   "metadata": {},
   "outputs": [],
   "source": [
    "# append classifiers to the list\n",
    "models.append(('GBN',gnb_classifier))\n",
    "models.append(('LR',lr_classifier))\n",
    "models.append(('DT',dt_classifier))\n",
    "models.append(('XGB',xgb_classifier))\n",
    "models.append(('RF',rf_classifier))"
   ]
  },
  {
   "cell_type": "code",
   "execution_count": null,
   "metadata": {},
   "outputs": [],
   "source": [
    "# list of the models that using for training the model\n",
    "models"
   ]
  },
  {
   "cell_type": "code",
   "execution_count": null,
   "metadata": {},
   "outputs": [],
   "source": [
    "# evaluate each model in turn\n",
    "results = []\n",
    "names = []\n",
    "\n",
    "# comparing models based on the accuracy\n",
    "\n",
    "scoring = 'accuracy'\n",
    "\n",
    "for name, model in models:\n",
    "    \n",
    "    # k-fold crossvalidation\n",
    "    \n",
    "    kfold = model_selection.KFold(n_splits=20)\n",
    "    \n",
    "    #applying the crossvalidation\n",
    "    \n",
    "    cv_results = model_selection.cross_val_score(model, X, y, cv=kfold, scoring=scoring)\n",
    "    \n",
    "    #adding results to the list\n",
    "    \n",
    "    results.append(cv_results)\n",
    "    \n",
    "    names.append(name)\n",
    "    \n",
    "    msg = \"%s: %f (%f)\" % (name, cv_results.mean(), cv_results.std())\n",
    "    print(msg)\n",
    "\n",
    "\n",
    "# boxplot algorithm comparison\n",
    "fig = plt.figure()\n",
    "fig.suptitle('Algorithm Comparison')\n",
    "ax = fig.add_subplot(111)\n",
    "plt.boxplot(results)\n",
    "ax.set_xticklabels(names)\n",
    "plt.show()"
   ]
  },
  {
   "cell_type": "code",
   "execution_count": null,
   "metadata": {},
   "outputs": [],
   "source": [
    "# Based on the models,\n",
    "# Logistic Regression has the best performance"
   ]
  },
  {
   "cell_type": "markdown",
   "metadata": {},
   "source": [
    "### 6.2 - Hyperparameter tuning"
   ]
  },
  {
   "cell_type": "code",
   "execution_count": null,
   "metadata": {},
   "outputs": [],
   "source": [
    "from sklearn.model_selection import GridSearchCV\n",
    "\n",
    "param_grid = [{'penalty'  : ['l2']                                        ,\n",
    "               'C'        : np.power(10.0, np.arange(-10, 10))\n",
    "              }]\n",
    "\n",
    "lr_classifier = LogisticRegression(penalty = 'l2', random_state = 0)\n",
    "grid = GridSearchCV(lr_classifier, param_grid = param_grid, cv = 20, verbose = True)\n",
    "\n",
    "\n",
    "grid_result = grid.fit(X,y)\n",
    "\n",
    "print('Best Score: ', grid_result.best_score_)\n",
    "print('Best Params: ', grid_result.best_params_)"
   ]
  }
 ],
 "metadata": {
  "kernelspec": {
   "display_name": "Python 3",
   "language": "python",
   "name": "python3"
  },
  "language_info": {
   "codemirror_mode": {
    "name": "ipython",
    "version": 3
   },
   "file_extension": ".py",
   "mimetype": "text/x-python",
   "name": "python",
   "nbconvert_exporter": "python",
   "pygments_lexer": "ipython3",
   "version": "3.7.4"
  }
 },
 "nbformat": 4,
 "nbformat_minor": 2
}
